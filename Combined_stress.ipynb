{
 "cells": [
  {
   "cell_type": "code",
   "execution_count": 36,
   "metadata": {
    "id": "6qtHTjErVcqV"
   },
   "outputs": [],
   "source": [
    "import pandas as pd\n",
    "import numpy as np\n",
    "from sklearn.model_selection import train_test_split\n",
    "import tensorflow as tf\n",
    "import keras.layers\n",
    "from tensorflow.keras.layers.experimental import preprocessing\n",
    "\n",
    "from sklearn.preprocessing import StandardScaler \n",
    "from sklearn.metrics import r2_score, precision_score, recall_score, classification_report\n",
    "from sklearn.metrics import ConfusionMatrixDisplay, accuracy_score, mean_squared_error\n",
    "from sklearn.preprocessing import LabelEncoder\n",
    "from sklearn.metrics import confusion_matrix\n",
    "\n",
    "#from sklearn.datasets import make_regression, make_classification\n",
    "\n",
    "import matplotlib.pyplot as plt\n",
    "from keras.models import model_from_json"
   ]
  },
  {
   "cell_type": "code",
   "execution_count": 37,
   "metadata": {
    "colab": {
     "base_uri": "https://localhost:8080/"
    },
    "id": "q0eRj9alVncW",
    "outputId": "1d997a03-1a19-4860-e6a6-4230a2146d05"
   },
   "outputs": [
    {
     "data": {
      "text/html": [
       "<div>\n",
       "<style scoped>\n",
       "    .dataframe tbody tr th:only-of-type {\n",
       "        vertical-align: middle;\n",
       "    }\n",
       "\n",
       "    .dataframe tbody tr th {\n",
       "        vertical-align: top;\n",
       "    }\n",
       "\n",
       "    .dataframe thead th {\n",
       "        text-align: right;\n",
       "    }\n",
       "</style>\n",
       "<table border=\"1\" class=\"dataframe\">\n",
       "  <thead>\n",
       "    <tr style=\"text-align: right;\">\n",
       "      <th></th>\n",
       "      <th>Stress combination</th>\n",
       "      <th>Plant species</th>\n",
       "      <th>Family</th>\n",
       "      <th>Treatments</th>\n",
       "      <th>Simultaneous</th>\n",
       "      <th>Sequential</th>\n",
       "      <th>Plant performance</th>\n",
       "      <th>Average temperature</th>\n",
       "      <th>Parameter</th>\n",
       "      <th>Salt</th>\n",
       "      <th>...</th>\n",
       "      <th>Ozone</th>\n",
       "      <th>Waterlogging</th>\n",
       "      <th>Bacteria</th>\n",
       "      <th>Fungus</th>\n",
       "      <th>Oomycete</th>\n",
       "      <th>Virus</th>\n",
       "      <th>Nematode</th>\n",
       "      <th>Insect</th>\n",
       "      <th>Mites</th>\n",
       "      <th>Type</th>\n",
       "    </tr>\n",
       "  </thead>\n",
       "  <tbody>\n",
       "    <tr>\n",
       "      <th>0</th>\n",
       "      <td>Bacteria and nematode</td>\n",
       "      <td>Potato</td>\n",
       "      <td>Solanaceae</td>\n",
       "      <td>Bacteria</td>\n",
       "      <td>0</td>\n",
       "      <td>0</td>\n",
       "      <td>56.82</td>\n",
       "      <td>18.5</td>\n",
       "      <td>Shoot weight</td>\n",
       "      <td>0</td>\n",
       "      <td>...</td>\n",
       "      <td>0</td>\n",
       "      <td>No Waterlogging</td>\n",
       "      <td>Ralstonia sola0cearum</td>\n",
       "      <td>0</td>\n",
       "      <td>0</td>\n",
       "      <td>0</td>\n",
       "      <td>0</td>\n",
       "      <td>0</td>\n",
       "      <td>0</td>\n",
       "      <td>Biotic-biotic</td>\n",
       "    </tr>\n",
       "    <tr>\n",
       "      <th>1</th>\n",
       "      <td>Bacteria and nematode</td>\n",
       "      <td>Tomato</td>\n",
       "      <td>Solanaceae</td>\n",
       "      <td>Bacteria</td>\n",
       "      <td>0</td>\n",
       "      <td>0</td>\n",
       "      <td>8.24</td>\n",
       "      <td>15.0</td>\n",
       "      <td>Shoot weight</td>\n",
       "      <td>0</td>\n",
       "      <td>...</td>\n",
       "      <td>0</td>\n",
       "      <td>No Waterlogging</td>\n",
       "      <td>Ralstonia sola0cearum</td>\n",
       "      <td>0</td>\n",
       "      <td>0</td>\n",
       "      <td>0</td>\n",
       "      <td>0</td>\n",
       "      <td>0</td>\n",
       "      <td>0</td>\n",
       "      <td>Biotic-biotic</td>\n",
       "    </tr>\n",
       "    <tr>\n",
       "      <th>2</th>\n",
       "      <td>Virus and bacteria</td>\n",
       "      <td>Potato</td>\n",
       "      <td>Solanaceae</td>\n",
       "      <td>Bacteria (Corynebacterium sepedonicum)</td>\n",
       "      <td>0</td>\n",
       "      <td>0</td>\n",
       "      <td>38.49</td>\n",
       "      <td>18.5</td>\n",
       "      <td>Yield</td>\n",
       "      <td>0</td>\n",
       "      <td>...</td>\n",
       "      <td>0</td>\n",
       "      <td>No Waterlogging</td>\n",
       "      <td>Corynebacterium sepedonicum</td>\n",
       "      <td>0</td>\n",
       "      <td>0</td>\n",
       "      <td>0</td>\n",
       "      <td>0</td>\n",
       "      <td>0</td>\n",
       "      <td>0</td>\n",
       "      <td>Biotic-biotic</td>\n",
       "    </tr>\n",
       "    <tr>\n",
       "      <th>3</th>\n",
       "      <td>Fungus and Fungus</td>\n",
       "      <td>Wheat</td>\n",
       "      <td>Poaceae</td>\n",
       "      <td>Fungus</td>\n",
       "      <td>0</td>\n",
       "      <td>0</td>\n",
       "      <td>40.07</td>\n",
       "      <td>22.5</td>\n",
       "      <td>Yield</td>\n",
       "      <td>0</td>\n",
       "      <td>...</td>\n",
       "      <td>0</td>\n",
       "      <td>No Waterlogging</td>\n",
       "      <td>0</td>\n",
       "      <td>Cochliobolus sativus</td>\n",
       "      <td>0</td>\n",
       "      <td>0</td>\n",
       "      <td>0</td>\n",
       "      <td>0</td>\n",
       "      <td>0</td>\n",
       "      <td>Biotic-biotic</td>\n",
       "    </tr>\n",
       "    <tr>\n",
       "      <th>4</th>\n",
       "      <td>Fungus and Fungus</td>\n",
       "      <td>Wheat</td>\n",
       "      <td>Poaceae</td>\n",
       "      <td>Fungus and Fungus</td>\n",
       "      <td>0</td>\n",
       "      <td>1</td>\n",
       "      <td>20.16</td>\n",
       "      <td>22.5</td>\n",
       "      <td>Yield</td>\n",
       "      <td>0</td>\n",
       "      <td>...</td>\n",
       "      <td>0</td>\n",
       "      <td>No Waterlogging</td>\n",
       "      <td>0</td>\n",
       "      <td>Cochliobolus sativus, Pyrenophora tritici-repe...</td>\n",
       "      <td>0</td>\n",
       "      <td>0</td>\n",
       "      <td>0</td>\n",
       "      <td>0</td>\n",
       "      <td>0</td>\n",
       "      <td>Biotic-biotic</td>\n",
       "    </tr>\n",
       "  </tbody>\n",
       "</table>\n",
       "<p>5 rows × 24 columns</p>\n",
       "</div>"
      ],
      "text/plain": [
       "      Stress combination Plant species      Family  \\\n",
       "0  Bacteria and nematode        Potato  Solanaceae   \n",
       "1  Bacteria and nematode        Tomato  Solanaceae   \n",
       "2     Virus and bacteria        Potato  Solanaceae   \n",
       "3      Fungus and Fungus         Wheat     Poaceae   \n",
       "4      Fungus and Fungus         Wheat     Poaceae   \n",
       "\n",
       "                               Treatments  Simultaneous  Sequential  \\\n",
       "0                                Bacteria             0           0   \n",
       "1                                Bacteria             0           0   \n",
       "2  Bacteria (Corynebacterium sepedonicum)             0           0   \n",
       "3                                  Fungus             0           0   \n",
       "4                       Fungus and Fungus             0           1   \n",
       "\n",
       "   Plant performance  Average temperature     Parameter  Salt  ...  Ozone  \\\n",
       "0              56.82                 18.5  Shoot weight     0  ...      0   \n",
       "1               8.24                 15.0  Shoot weight     0  ...      0   \n",
       "2              38.49                 18.5         Yield     0  ...      0   \n",
       "3              40.07                 22.5         Yield     0  ...      0   \n",
       "4              20.16                 22.5         Yield     0  ...      0   \n",
       "\n",
       "      Waterlogging                     Bacteria  \\\n",
       "0  No Waterlogging        Ralstonia sola0cearum   \n",
       "1  No Waterlogging        Ralstonia sola0cearum   \n",
       "2  No Waterlogging  Corynebacterium sepedonicum   \n",
       "3  No Waterlogging                            0   \n",
       "4  No Waterlogging                            0   \n",
       "\n",
       "                                              Fungus  Oomycete Virus Nematode  \\\n",
       "0                                                  0         0     0        0   \n",
       "1                                                  0         0     0        0   \n",
       "2                                                  0         0     0        0   \n",
       "3                               Cochliobolus sativus         0     0        0   \n",
       "4  Cochliobolus sativus, Pyrenophora tritici-repe...         0     0        0   \n",
       "\n",
       "  Insect Mites           Type  \n",
       "0      0     0  Biotic-biotic  \n",
       "1      0     0  Biotic-biotic  \n",
       "2      0     0  Biotic-biotic  \n",
       "3      0     0  Biotic-biotic  \n",
       "4      0     0  Biotic-biotic  \n",
       "\n",
       "[5 rows x 24 columns]"
      ]
     },
     "execution_count": 37,
     "metadata": {},
     "output_type": "execute_result"
    }
   ],
   "source": [
    "bbdata = pd.read_excel ('Copy of Biotic-biotic.xlsx', sheet_name='Biotic-Biotic')\n",
    "bbdata=pd.DataFrame.from_records(bbdata)\n",
    "#bbdata.columns=bbdata.loc[0]\n",
    "#bbdata=bbdata[1:]\n",
    "bbdata.reset_index(inplace=True)\n",
    "bbdata=bbdata.drop(['index','S.No.'],axis=1)\n",
    "\n",
    "bbdata.head()\n",
    "\n"
   ]
  },
  {
   "cell_type": "code",
   "execution_count": 38,
   "metadata": {},
   "outputs": [
    {
     "data": {
      "text/html": [
       "<div>\n",
       "<style scoped>\n",
       "    .dataframe tbody tr th:only-of-type {\n",
       "        vertical-align: middle;\n",
       "    }\n",
       "\n",
       "    .dataframe tbody tr th {\n",
       "        vertical-align: top;\n",
       "    }\n",
       "\n",
       "    .dataframe thead th {\n",
       "        text-align: right;\n",
       "    }\n",
       "</style>\n",
       "<table border=\"1\" class=\"dataframe\">\n",
       "  <thead>\n",
       "    <tr style=\"text-align: right;\">\n",
       "      <th></th>\n",
       "      <th>Stress combination</th>\n",
       "      <th>Plant species</th>\n",
       "      <th>Family</th>\n",
       "      <th>Treatments</th>\n",
       "      <th>Simultaneous</th>\n",
       "      <th>Sequential</th>\n",
       "      <th>Plant performance</th>\n",
       "      <th>Parameter</th>\n",
       "      <th>Salt</th>\n",
       "      <th>Average temperature</th>\n",
       "      <th>Drought</th>\n",
       "      <th>Light intensity</th>\n",
       "      <th>Shade</th>\n",
       "      <th>Boron</th>\n",
       "      <th>Lead</th>\n",
       "      <th>Cd</th>\n",
       "      <th>UV</th>\n",
       "      <th>Ozone</th>\n",
       "      <th>Waterlogging</th>\n",
       "      <th>Type</th>\n",
       "    </tr>\n",
       "  </thead>\n",
       "  <tbody>\n",
       "    <tr>\n",
       "      <th>0</th>\n",
       "      <td>Cold and UV</td>\n",
       "      <td>Cotton</td>\n",
       "      <td>Malvaceae</td>\n",
       "      <td>Cold</td>\n",
       "      <td>NaN</td>\n",
       "      <td>0</td>\n",
       "      <td>15.8</td>\n",
       "      <td>Plant height</td>\n",
       "      <td>0</td>\n",
       "      <td>20.0</td>\n",
       "      <td>0</td>\n",
       "      <td>Optimum light</td>\n",
       "      <td>No shade</td>\n",
       "      <td>30.0</td>\n",
       "      <td>0</td>\n",
       "      <td>0</td>\n",
       "      <td>1.0</td>\n",
       "      <td>0</td>\n",
       "      <td>No Waterlogging</td>\n",
       "      <td>Abiotic-abiotic</td>\n",
       "    </tr>\n",
       "    <tr>\n",
       "      <th>1</th>\n",
       "      <td>Cold and UV</td>\n",
       "      <td>Cotton</td>\n",
       "      <td>Malvaceae</td>\n",
       "      <td>UV</td>\n",
       "      <td>NaN</td>\n",
       "      <td>0</td>\n",
       "      <td>5.3</td>\n",
       "      <td>Plant height</td>\n",
       "      <td>0</td>\n",
       "      <td>26.5</td>\n",
       "      <td>0</td>\n",
       "      <td>Optimum light</td>\n",
       "      <td>No shade</td>\n",
       "      <td>30.0</td>\n",
       "      <td>0</td>\n",
       "      <td>0</td>\n",
       "      <td>10.0</td>\n",
       "      <td>10</td>\n",
       "      <td>No Waterlogging</td>\n",
       "      <td>Abiotic-abiotic</td>\n",
       "    </tr>\n",
       "    <tr>\n",
       "      <th>2</th>\n",
       "      <td>Cold and UV</td>\n",
       "      <td>Cotton</td>\n",
       "      <td>Malvaceae</td>\n",
       "      <td>Cold and UV</td>\n",
       "      <td>NaN</td>\n",
       "      <td>1</td>\n",
       "      <td>10.5</td>\n",
       "      <td>Plant height</td>\n",
       "      <td>0</td>\n",
       "      <td>20.0</td>\n",
       "      <td>0</td>\n",
       "      <td>Optimum light</td>\n",
       "      <td>No shade</td>\n",
       "      <td>30.0</td>\n",
       "      <td>0</td>\n",
       "      <td>0</td>\n",
       "      <td>10.0</td>\n",
       "      <td>0</td>\n",
       "      <td>No Waterlogging</td>\n",
       "      <td>Abiotic-abiotic</td>\n",
       "    </tr>\n",
       "    <tr>\n",
       "      <th>3</th>\n",
       "      <td>Cold and UV</td>\n",
       "      <td>Cotton</td>\n",
       "      <td>Malvaceae</td>\n",
       "      <td>Cold</td>\n",
       "      <td>NaN</td>\n",
       "      <td>0</td>\n",
       "      <td>44.8</td>\n",
       "      <td>Root length</td>\n",
       "      <td>0</td>\n",
       "      <td>20.0</td>\n",
       "      <td>0</td>\n",
       "      <td>Optimum light</td>\n",
       "      <td>No shade</td>\n",
       "      <td>30.0</td>\n",
       "      <td>0</td>\n",
       "      <td>0</td>\n",
       "      <td>1.0</td>\n",
       "      <td>0</td>\n",
       "      <td>No Waterlogging</td>\n",
       "      <td>Abiotic-abiotic</td>\n",
       "    </tr>\n",
       "    <tr>\n",
       "      <th>4</th>\n",
       "      <td>Cold and UV</td>\n",
       "      <td>Cotton</td>\n",
       "      <td>Malvaceae</td>\n",
       "      <td>UV- B</td>\n",
       "      <td>NaN</td>\n",
       "      <td>0</td>\n",
       "      <td>5.5</td>\n",
       "      <td>Root length</td>\n",
       "      <td>0</td>\n",
       "      <td>26.5</td>\n",
       "      <td>0</td>\n",
       "      <td>Optimum light</td>\n",
       "      <td>No shade</td>\n",
       "      <td>30.0</td>\n",
       "      <td>0</td>\n",
       "      <td>0</td>\n",
       "      <td>10.0</td>\n",
       "      <td>0</td>\n",
       "      <td>No Waterlogging</td>\n",
       "      <td>Abiotic-abiotic</td>\n",
       "    </tr>\n",
       "  </tbody>\n",
       "</table>\n",
       "</div>"
      ],
      "text/plain": [
       "  Stress combination Plant species     Family   Treatments  Simultaneous  \\\n",
       "0        Cold and UV        Cotton  Malvaceae         Cold           NaN   \n",
       "1        Cold and UV        Cotton  Malvaceae           UV           NaN   \n",
       "2        Cold and UV        Cotton  Malvaceae  Cold and UV           NaN   \n",
       "3        Cold and UV        Cotton  Malvaceae         Cold           NaN   \n",
       "4        Cold and UV        Cotton  Malvaceae        UV- B           NaN   \n",
       "\n",
       "   Sequential  Plant performance     Parameter  Salt  Average temperature  \\\n",
       "0           0               15.8  Plant height     0                 20.0   \n",
       "1           0                5.3  Plant height     0                 26.5   \n",
       "2           1               10.5  Plant height     0                 20.0   \n",
       "3           0               44.8   Root length     0                 20.0   \n",
       "4           0                5.5   Root length     0                 26.5   \n",
       "\n",
       "   Drought Light intensity     Shade  Boron  Lead  Cd    UV  Ozone  \\\n",
       "0        0   Optimum light  No shade   30.0     0   0   1.0      0   \n",
       "1        0   Optimum light  No shade   30.0     0   0  10.0     10   \n",
       "2        0   Optimum light  No shade   30.0     0   0  10.0      0   \n",
       "3        0   Optimum light  No shade   30.0     0   0   1.0      0   \n",
       "4        0   Optimum light  No shade   30.0     0   0  10.0      0   \n",
       "\n",
       "      Waterlogging             Type  \n",
       "0  No Waterlogging  Abiotic-abiotic  \n",
       "1  No Waterlogging  Abiotic-abiotic  \n",
       "2  No Waterlogging  Abiotic-abiotic  \n",
       "3  No Waterlogging  Abiotic-abiotic  \n",
       "4  No Waterlogging  Abiotic-abiotic  "
      ]
     },
     "execution_count": 38,
     "metadata": {},
     "output_type": "execute_result"
    }
   ],
   "source": [
    "aadata = pd.read_excel ('Copy of Abiotic-abiotic.xlsx', sheet_name='Abiotic-Abiotic stress combinat')\n",
    "aadata=pd.DataFrame.from_records(aadata)\n",
    "#bbdata.columns=bbdata.loc[0]\n",
    "#bbdata=bbdata[1:]\n",
    "aadata.reset_index(inplace=True)\n",
    "aadata=aadata.drop(['index','S.No.'],axis=1)\n",
    "\n",
    "aadata.head()\n",
    "\n"
   ]
  },
  {
   "cell_type": "code",
   "execution_count": 39,
   "metadata": {},
   "outputs": [
    {
     "data": {
      "text/html": [
       "<div>\n",
       "<style scoped>\n",
       "    .dataframe tbody tr th:only-of-type {\n",
       "        vertical-align: middle;\n",
       "    }\n",
       "\n",
       "    .dataframe tbody tr th {\n",
       "        vertical-align: top;\n",
       "    }\n",
       "\n",
       "    .dataframe thead th {\n",
       "        text-align: right;\n",
       "    }\n",
       "</style>\n",
       "<table border=\"1\" class=\"dataframe\">\n",
       "  <thead>\n",
       "    <tr style=\"text-align: right;\">\n",
       "      <th></th>\n",
       "      <th>Stress combination</th>\n",
       "      <th>Plant species</th>\n",
       "      <th>Family</th>\n",
       "      <th>Treatments</th>\n",
       "      <th>Simultaneous</th>\n",
       "      <th>Sequential</th>\n",
       "      <th>Plant performance</th>\n",
       "      <th>Parameter</th>\n",
       "      <th>Salt</th>\n",
       "      <th>Average temperature</th>\n",
       "      <th>...</th>\n",
       "      <th>UV</th>\n",
       "      <th>Ozone</th>\n",
       "      <th>Waterlogging</th>\n",
       "      <th>Bacteria</th>\n",
       "      <th>Fungus</th>\n",
       "      <th>Virus</th>\n",
       "      <th>Insect</th>\n",
       "      <th>Nematode</th>\n",
       "      <th>Weed</th>\n",
       "      <th>Type</th>\n",
       "    </tr>\n",
       "  </thead>\n",
       "  <tbody>\n",
       "    <tr>\n",
       "      <th>0</th>\n",
       "      <td>Drought and bacteria</td>\n",
       "      <td>Virginia creeper</td>\n",
       "      <td>Vitaceae</td>\n",
       "      <td>Drought stress</td>\n",
       "      <td>0</td>\n",
       "      <td>NaN</td>\n",
       "      <td>29.20</td>\n",
       "      <td>Plant height</td>\n",
       "      <td>0</td>\n",
       "      <td>21.5</td>\n",
       "      <td>...</td>\n",
       "      <td>1.0</td>\n",
       "      <td>0.0</td>\n",
       "      <td>No waterlogging</td>\n",
       "      <td>0</td>\n",
       "      <td>0</td>\n",
       "      <td>0</td>\n",
       "      <td>0</td>\n",
       "      <td>0</td>\n",
       "      <td>0</td>\n",
       "      <td>Abiotic-biotic</td>\n",
       "    </tr>\n",
       "    <tr>\n",
       "      <th>1</th>\n",
       "      <td>Drought and bacteria</td>\n",
       "      <td>Virginia creeper</td>\n",
       "      <td>Vitaceae</td>\n",
       "      <td>Bacteria (Xylella fastidiosa)</td>\n",
       "      <td>0</td>\n",
       "      <td>NaN</td>\n",
       "      <td>17.30</td>\n",
       "      <td>Plant height</td>\n",
       "      <td>0</td>\n",
       "      <td>21.5</td>\n",
       "      <td>...</td>\n",
       "      <td>1.0</td>\n",
       "      <td>0.0</td>\n",
       "      <td>No waterlogging</td>\n",
       "      <td>Xylella fastidiosa</td>\n",
       "      <td>0</td>\n",
       "      <td>0</td>\n",
       "      <td>0</td>\n",
       "      <td>0</td>\n",
       "      <td>0</td>\n",
       "      <td>Abiotic-biotic</td>\n",
       "    </tr>\n",
       "    <tr>\n",
       "      <th>2</th>\n",
       "      <td>Drought and bacteria</td>\n",
       "      <td>Virginia creeper</td>\n",
       "      <td>Vitaceae</td>\n",
       "      <td>Drought and bacteria</td>\n",
       "      <td>0</td>\n",
       "      <td>1.0</td>\n",
       "      <td>48.50</td>\n",
       "      <td>Plant height</td>\n",
       "      <td>0</td>\n",
       "      <td>21.5</td>\n",
       "      <td>...</td>\n",
       "      <td>1.0</td>\n",
       "      <td>0.0</td>\n",
       "      <td>No waterlogging</td>\n",
       "      <td>Xylella fastidiosa</td>\n",
       "      <td>0</td>\n",
       "      <td>0</td>\n",
       "      <td>0</td>\n",
       "      <td>0</td>\n",
       "      <td>0</td>\n",
       "      <td>Abiotic-biotic</td>\n",
       "    </tr>\n",
       "    <tr>\n",
       "      <th>3</th>\n",
       "      <td>Drought and virus</td>\n",
       "      <td>Thalecress</td>\n",
       "      <td>Brassicaceae</td>\n",
       "      <td>Drought</td>\n",
       "      <td>0</td>\n",
       "      <td>NaN</td>\n",
       "      <td>22.97</td>\n",
       "      <td>Biomass</td>\n",
       "      <td>0</td>\n",
       "      <td>22.0</td>\n",
       "      <td>...</td>\n",
       "      <td>1.0</td>\n",
       "      <td>0.0</td>\n",
       "      <td>No waterlogging</td>\n",
       "      <td>0</td>\n",
       "      <td>0</td>\n",
       "      <td>0</td>\n",
       "      <td>0</td>\n",
       "      <td>0</td>\n",
       "      <td>0</td>\n",
       "      <td>Abiotic-biotic</td>\n",
       "    </tr>\n",
       "    <tr>\n",
       "      <th>4</th>\n",
       "      <td>Drought and virus</td>\n",
       "      <td>Thalecress</td>\n",
       "      <td>Brassicaceae</td>\n",
       "      <td>Virus (Turnip mosaic virus)</td>\n",
       "      <td>0</td>\n",
       "      <td>NaN</td>\n",
       "      <td>15.93</td>\n",
       "      <td>Biomass</td>\n",
       "      <td>0</td>\n",
       "      <td>22.0</td>\n",
       "      <td>...</td>\n",
       "      <td>1.0</td>\n",
       "      <td>0.0</td>\n",
       "      <td>No waterlogging</td>\n",
       "      <td>0</td>\n",
       "      <td>0</td>\n",
       "      <td>Turnip mosaic virus</td>\n",
       "      <td>0</td>\n",
       "      <td>0</td>\n",
       "      <td>0</td>\n",
       "      <td>Abiotic-biotic</td>\n",
       "    </tr>\n",
       "  </tbody>\n",
       "</table>\n",
       "<p>5 rows × 27 columns</p>\n",
       "</div>"
      ],
      "text/plain": [
       "     Stress combination     Plant species        Family  \\\n",
       "0  Drought and bacteria  Virginia creeper      Vitaceae   \n",
       "1  Drought and bacteria  Virginia creeper      Vitaceae   \n",
       "2  Drought and bacteria  Virginia creeper      Vitaceae   \n",
       "3     Drought and virus        Thalecress  Brassicaceae   \n",
       "4     Drought and virus        Thalecress  Brassicaceae   \n",
       "\n",
       "                      Treatments  Simultaneous  Sequential  Plant performance  \\\n",
       "0                 Drought stress             0         NaN              29.20   \n",
       "1  Bacteria (Xylella fastidiosa)             0         NaN              17.30   \n",
       "2           Drought and bacteria             0         1.0              48.50   \n",
       "3                        Drought             0         NaN              22.97   \n",
       "4    Virus (Turnip mosaic virus)             0         NaN              15.93   \n",
       "\n",
       "      Parameter  Salt  Average temperature  ...   UV  Ozone     Waterlogging  \\\n",
       "0  Plant height     0                 21.5  ...  1.0    0.0  No waterlogging   \n",
       "1  Plant height     0                 21.5  ...  1.0    0.0  No waterlogging   \n",
       "2  Plant height     0                 21.5  ...  1.0    0.0  No waterlogging   \n",
       "3      Biomass      0                 22.0  ...  1.0    0.0  No waterlogging   \n",
       "4      Biomass      0                 22.0  ...  1.0    0.0  No waterlogging   \n",
       "\n",
       "             Bacteria  Fungus                Virus  Insect  Nematode  Weed  \\\n",
       "0                   0       0                    0       0         0     0   \n",
       "1  Xylella fastidiosa       0                    0       0         0     0   \n",
       "2  Xylella fastidiosa       0                    0       0         0     0   \n",
       "3                   0       0                    0       0         0     0   \n",
       "4                   0       0  Turnip mosaic virus       0         0     0   \n",
       "\n",
       "             Type  \n",
       "0  Abiotic-biotic  \n",
       "1  Abiotic-biotic  \n",
       "2  Abiotic-biotic  \n",
       "3  Abiotic-biotic  \n",
       "4  Abiotic-biotic  \n",
       "\n",
       "[5 rows x 27 columns]"
      ]
     },
     "execution_count": 39,
     "metadata": {},
     "output_type": "execute_result"
    }
   ],
   "source": [
    "abdata = pd.read_excel ('Copy of Abiotic-biotic.xlsx', sheet_name='Abiotic-biotic')\n",
    "abdata=pd.DataFrame.from_records(abdata)\n",
    "#bbdata.columns=bbdata.loc[0]\n",
    "#bbdata=bbdata[1:]\n",
    "abdata.reset_index(inplace=True)\n",
    "abdata=abdata.drop(['index','S.No.'],axis=1)\n",
    "\n",
    "abdata.head()"
   ]
  },
  {
   "cell_type": "code",
   "execution_count": 40,
   "metadata": {
    "colab": {
     "base_uri": "https://localhost:8080/"
    },
    "id": "bv1Eo8OGcYbO",
    "outputId": "d0c526f2-9538-400b-c780-d9b0f3cf7ffc"
   },
   "outputs": [
    {
     "name": "stdout",
     "output_type": "stream",
     "text": [
      "<class 'pandas.core.frame.DataFrame'>\n",
      "RangeIndex: 308 entries, 0 to 307\n",
      "Data columns (total 24 columns):\n",
      " #   Column               Non-Null Count  Dtype  \n",
      "---  ------               --------------  -----  \n",
      " 0   Stress combination   308 non-null    object \n",
      " 1   Plant species        308 non-null    object \n",
      " 2   Family               308 non-null    object \n",
      " 3   Treatments           308 non-null    object \n",
      " 4   Simultaneous         308 non-null    int64  \n",
      " 5   Sequential           308 non-null    int64  \n",
      " 6   Plant performance    308 non-null    float64\n",
      " 7   Average temperature  308 non-null    float64\n",
      " 8   Parameter            308 non-null    object \n",
      " 9   Salt                 308 non-null    int64  \n",
      " 10  Drought              308 non-null    int64  \n",
      " 11  Boron                308 non-null    int64  \n",
      " 12  Cd                   308 non-null    int64  \n",
      " 13  UV                   308 non-null    int64  \n",
      " 14  Ozone                308 non-null    int64  \n",
      " 15  Waterlogging         308 non-null    object \n",
      " 16  Bacteria             308 non-null    object \n",
      " 17  Fungus               308 non-null    object \n",
      " 18  Oomycete             308 non-null    object \n",
      " 19  Virus                308 non-null    object \n",
      " 20  Nematode             308 non-null    object \n",
      " 21  Insect               308 non-null    object \n",
      " 22  Mites                308 non-null    int64  \n",
      " 23  Type                 308 non-null    object \n",
      "dtypes: float64(2), int64(9), object(13)\n",
      "memory usage: 57.9+ KB\n"
     ]
    }
   ],
   "source": [
    "bbdata.info()"
   ]
  },
  {
   "cell_type": "code",
   "execution_count": 41,
   "metadata": {
    "colab": {
     "base_uri": "https://localhost:8080/"
    },
    "id": "EtqsQPDCmc1X",
    "outputId": "fa223a83-a906-459e-f574-04ca7cb27879"
   },
   "outputs": [
    {
     "data": {
      "text/plain": [
       "0    308\n",
       "Name: Salt, dtype: int64"
      ]
     },
     "execution_count": 41,
     "metadata": {},
     "output_type": "execute_result"
    }
   ],
   "source": [
    "bbdata['Salt'].value_counts()"
   ]
  },
  {
   "cell_type": "code",
   "execution_count": 42,
   "metadata": {
    "colab": {
     "base_uri": "https://localhost:8080/"
    },
    "id": "eiwTaUkymY78",
    "outputId": "e90ca521-f065-4c5f-e87c-328a8c210a8a"
   },
   "outputs": [
    {
     "data": {
      "text/plain": [
       "0    157\n",
       "2      8\n",
       "1      2\n",
       "Name: Salt, dtype: int64"
      ]
     },
     "execution_count": 42,
     "metadata": {},
     "output_type": "execute_result"
    }
   ],
   "source": [
    "abdata['Salt'].value_counts()"
   ]
  },
  {
   "cell_type": "code",
   "execution_count": 43,
   "metadata": {
    "colab": {
     "base_uri": "https://localhost:8080/"
    },
    "id": "EN5yToqCcYST",
    "outputId": "964ab385-75c0-4169-a3af-ae2fa1628d14"
   },
   "outputs": [
    {
     "data": {
      "text/plain": [
       "0      168\n",
       "2       54\n",
       "1       10\n",
       "20       4\n",
       "50       4\n",
       "150      3\n",
       "Name: Salt, dtype: int64"
      ]
     },
     "execution_count": 43,
     "metadata": {},
     "output_type": "execute_result"
    }
   ],
   "source": [
    "aadata['Salt'].value_counts()"
   ]
  },
  {
   "cell_type": "code",
   "execution_count": 44,
   "metadata": {
    "colab": {
     "base_uri": "https://localhost:8080/"
    },
    "id": "R2tQGHMHhBgN",
    "outputId": "d376bb7d-05ca-4e1a-cadb-58346cf5cdca"
   },
   "outputs": [
    {
     "data": {
      "text/plain": [
       "0    194\n",
       "2     45\n",
       "1      4\n",
       "Name: Drought, dtype: int64"
      ]
     },
     "execution_count": 44,
     "metadata": {},
     "output_type": "execute_result"
    }
   ],
   "source": [
    "aadata['Drought'].value_counts()"
   ]
  },
  {
   "cell_type": "code",
   "execution_count": 45,
   "metadata": {
    "colab": {
     "base_uri": "https://localhost:8080/"
    },
    "id": "gEWOfUHDhHqp",
    "outputId": "b37820be-7e03-4476-e349-1a871ab148e6"
   },
   "outputs": [
    {
     "data": {
      "text/plain": [
       "0    155\n",
       "1      6\n",
       "2      6\n",
       "Name: Drought, dtype: int64"
      ]
     },
     "execution_count": 45,
     "metadata": {},
     "output_type": "execute_result"
    }
   ],
   "source": [
    "abdata['Drought'].value_counts()"
   ]
  },
  {
   "cell_type": "code",
   "execution_count": 46,
   "metadata": {
    "colab": {
     "base_uri": "https://localhost:8080/"
    },
    "id": "N0-WnxvOhNGv",
    "outputId": "511ca6a6-2fcc-48b6-bdd9-7c01622e9dfe"
   },
   "outputs": [
    {
     "data": {
      "text/plain": [
       "0    308\n",
       "Name: Drought, dtype: int64"
      ]
     },
     "execution_count": 46,
     "metadata": {},
     "output_type": "execute_result"
    }
   ],
   "source": [
    "bbdata['Drought'].value_counts()"
   ]
  },
  {
   "cell_type": "code",
   "execution_count": 47,
   "metadata": {
    "colab": {
     "base_uri": "https://localhost:8080/"
    },
    "id": "hSrhIZYlmf7r",
    "outputId": "e827395e-ff20-4075-f555-fcc869cf824b"
   },
   "outputs": [
    {
     "data": {
      "text/plain": [
       "No Waterlogging    308\n",
       "Name: Waterlogging, dtype: int64"
      ]
     },
     "execution_count": 47,
     "metadata": {},
     "output_type": "execute_result"
    }
   ],
   "source": [
    "bbdata['Waterlogging'].value_counts()"
   ]
  },
  {
   "cell_type": "code",
   "execution_count": 48,
   "metadata": {
    "colab": {
     "base_uri": "https://localhost:8080/"
    },
    "id": "S9XfgH8YmfyZ",
    "outputId": "a343bdac-2906-4a6b-d042-84e60b8d988c"
   },
   "outputs": [
    {
     "data": {
      "text/plain": [
       "No waterlogging                      91\n",
       "Waterlogging 20days post anthesis    36\n",
       "Waterlogging till maturity           21\n",
       "Waterlogging for 4 days               6\n",
       "Waterlogging for 8 days               5\n",
       "Waterlogging for 3days                4\n",
       "Waterlogging for 25 days              4\n",
       "Name: Waterlogging, dtype: int64"
      ]
     },
     "execution_count": 48,
     "metadata": {},
     "output_type": "execute_result"
    }
   ],
   "source": [
    "abdata['Waterlogging'].value_counts()"
   ]
  },
  {
   "cell_type": "code",
   "execution_count": 49,
   "metadata": {
    "colab": {
     "base_uri": "https://localhost:8080/"
    },
    "id": "ty5c7cVDmnzU",
    "outputId": "7d2833e3-41aa-4300-fe1f-2503e44fbfdf"
   },
   "outputs": [
    {
     "data": {
      "text/plain": [
       "No Waterlogging            200\n",
       "Waterlogging                17\n",
       "Waterlogging for 5 days     11\n",
       "waterlogging for 6 days      6\n",
       "No waterlogging              5\n",
       "Waterlogging for 6 days      3\n",
       "Waterlogging for 3 days      1\n",
       "Name: Waterlogging, dtype: int64"
      ]
     },
     "execution_count": 49,
     "metadata": {},
     "output_type": "execute_result"
    }
   ],
   "source": [
    "aadata['Waterlogging'].value_counts()"
   ]
  },
  {
   "cell_type": "code",
   "execution_count": 50,
   "metadata": {
    "id": "uO-fhtY7mu_p"
   },
   "outputs": [],
   "source": [
    "bbdata['Waterlogging']=0\n",
    "aadata['Waterlogging']=aadata['Waterlogging'].apply(lambda x: 0 if(x=='No Waterlogging' or x=='No waterlogging') else 1)\n",
    "abdata['Waterlogging']=abdata['Waterlogging'].apply(lambda x: 0 if(x=='No waterlogging') else 1)"
   ]
  },
  {
   "cell_type": "code",
   "execution_count": 51,
   "metadata": {
    "colab": {
     "base_uri": "https://localhost:8080/"
    },
    "id": "nlK2lhMFG7_V",
    "outputId": "96331134-90bb-46d7-b1d2-c7c9334947ef"
   },
   "outputs": [
    {
     "data": {
      "text/plain": [
       "0                           131\n",
       "Meloidogyne incognita        14\n",
       "Pratylenchus zeae            10\n",
       "Meloidogyne  graminicola      4\n",
       "Meloidogyne graminicola       4\n",
       "Meloidogyne javanica          2\n",
       "Pratylenchus penetrans        2\n",
       "Name: Nematode, dtype: int64"
      ]
     },
     "execution_count": 51,
     "metadata": {},
     "output_type": "execute_result"
    }
   ],
   "source": [
    "abdata['Nematode'].value_counts()"
   ]
  },
  {
   "cell_type": "code",
   "execution_count": 52,
   "metadata": {
    "colab": {
     "base_uri": "https://localhost:8080/"
    },
    "id": "P1jPZLROrCG7",
    "outputId": "dd17cadf-3006-4dce-e0a4-380ba5555151"
   },
   "outputs": [
    {
     "name": "stdout",
     "output_type": "stream",
     "text": [
      "<class 'pandas.core.frame.DataFrame'>\n",
      "RangeIndex: 167 entries, 0 to 166\n",
      "Data columns (total 27 columns):\n",
      " #   Column               Non-Null Count  Dtype  \n",
      "---  ------               --------------  -----  \n",
      " 0   Stress combination   167 non-null    object \n",
      " 1   Plant species        167 non-null    object \n",
      " 2   Family               167 non-null    object \n",
      " 3   Treatments           167 non-null    object \n",
      " 4   Simultaneous         167 non-null    int64  \n",
      " 5   Sequential           58 non-null     float64\n",
      " 6   Plant performance    167 non-null    float64\n",
      " 7   Parameter            167 non-null    object \n",
      " 8   Salt                 167 non-null    int64  \n",
      " 9   Average temperature  167 non-null    float64\n",
      " 10  Drought              167 non-null    int64  \n",
      " 11  Boron                167 non-null    int64  \n",
      " 12  Cd                   167 non-null    float64\n",
      " 13  Mn                   167 non-null    int64  \n",
      " 14  Pb                   167 non-null    int64  \n",
      " 15  Zinc                 167 non-null    int64  \n",
      " 16  Ni                   167 non-null    int64  \n",
      " 17  UV                   167 non-null    float64\n",
      " 18  Ozone                167 non-null    float64\n",
      " 19  Waterlogging         167 non-null    int64  \n",
      " 20  Bacteria             167 non-null    object \n",
      " 21  Fungus               167 non-null    object \n",
      " 22  Virus                167 non-null    object \n",
      " 23  Insect               167 non-null    object \n",
      " 24  Nematode             167 non-null    object \n",
      " 25  Weed                 167 non-null    object \n",
      " 26  Type                 167 non-null    object \n",
      "dtypes: float64(6), int64(9), object(12)\n",
      "memory usage: 35.4+ KB\n"
     ]
    }
   ],
   "source": [
    "abdata.info()"
   ]
  },
  {
   "cell_type": "code",
   "execution_count": 53,
   "metadata": {
    "colab": {
     "base_uri": "https://localhost:8080/"
    },
    "id": "B7lzVamBrYbE",
    "outputId": "5b39b665-8ad5-4aa6-a4b8-d46370a8e017"
   },
   "outputs": [
    {
     "data": {
      "text/plain": [
       "0                                                      160\n",
       "Agropyron repens                                         2\n",
       "Ehinochloa colo0, Cyperus iria and Jussia linifolia      2\n",
       "Aegilops tauschii                                        2\n",
       "Sugarbeet Knot grass , White goosefoot                   1\n",
       "Name: Weed, dtype: int64"
      ]
     },
     "execution_count": 53,
     "metadata": {},
     "output_type": "execute_result"
    }
   ],
   "source": [
    "abdata['Weed'].value_counts()"
   ]
  },
  {
   "cell_type": "code",
   "execution_count": 54,
   "metadata": {
    "colab": {
     "base_uri": "https://localhost:8080/"
    },
    "id": "nIfWsGKGtB_d",
    "outputId": "513dce0a-ef2a-4217-99d8-b3eaeddb240d"
   },
   "outputs": [
    {
     "data": {
      "text/plain": [
       "0    165\n",
       "1     78\n",
       "Name: Sequential, dtype: int64"
      ]
     },
     "execution_count": 54,
     "metadata": {},
     "output_type": "execute_result"
    }
   ],
   "source": [
    "abdata['Simultaneous']=0\n",
    "abdata.loc[abdata['Sequential']=='','Sequential']=0\n",
    "\n",
    "aadata['Simultaneous']=0\n",
    "#aadata.loc[aadata['Sequential']=='','Sequential']=0\n",
    "aadata['Sequential'].value_counts()"
   ]
  },
  {
   "cell_type": "code",
   "execution_count": 55,
   "metadata": {
    "id": "pE0_P2EGX1CC"
   },
   "outputs": [],
   "source": [
    "bbdata['Plant performance']=bbdata['Plant performance'].astype(float)\n",
    "bbdata['Average temperature']=bbdata['Average temperature'].astype(float)\n",
    "bbdata['Salt']=bbdata['Salt'].astype(int)\n",
    "bbdata['Drought']=bbdata['Drought'].astype(int)\n",
    "bbdata['Boron']=bbdata['Boron'].astype(float)\n",
    "bbdata['Cd']=bbdata['Cd'].astype(float)\n",
    "bbdata['UV']=bbdata['UV'].astype(float)\n",
    "bbdata['Ozone']=bbdata['Ozone'].astype(float)\n",
    "bbdata['Simultaneous']=bbdata['Simultaneous'].astype(float)\n",
    "bbdata['Sequential']=bbdata['Sequential'].astype(float)\n",
    "bbdata['Waterlogging']=bbdata['Waterlogging'].astype(int)"
   ]
  },
  {
   "cell_type": "code",
   "execution_count": 56,
   "metadata": {
    "id": "-c8pKv_mqvMp"
   },
   "outputs": [],
   "source": [
    "abdata['Plant performance']=abdata['Plant performance'].astype(float)\n",
    "abdata['Average temperature']=abdata['Average temperature'].astype(float)\n",
    "abdata['Salt']=abdata['Salt'].astype(int)\n",
    "abdata['Drought']=abdata['Drought'].astype(int)\n",
    "abdata['Boron']=abdata['Boron'].astype(float)\n",
    "abdata['Cd']=abdata['Cd'].astype(float)\n",
    "abdata['Mn']=abdata['Mn'].astype(int)\n",
    "abdata['Pb']=abdata['Pb'].astype(int)\n",
    "abdata['Zinc']=abdata['Zinc'].astype(int)\n",
    "abdata['Ni']=abdata['Ni'].astype(int)\n",
    "abdata['UV']=abdata['UV'].astype(float)\n",
    "abdata['Ozone']=abdata['Ozone'].astype(float)\n",
    "abdata['Simultaneous']=abdata['Simultaneous'].astype(float)\n",
    "abdata['Sequential']=abdata['Sequential'].astype(float)\n",
    "abdata['Waterlogging']=abdata['Waterlogging'].astype(int)"
   ]
  },
  {
   "cell_type": "code",
   "execution_count": 57,
   "metadata": {
    "id": "KwyfHH6i8b9R"
   },
   "outputs": [],
   "source": [
    "#aadata.drop([10,16,75,204],axis=0,inplace=True)"
   ]
  },
  {
   "cell_type": "code",
   "execution_count": 58,
   "metadata": {
    "id": "1312_ROm9NZ7"
   },
   "outputs": [],
   "source": [
    "aadata.drop(aadata[aadata['UV']=='UV exposure for 60 min'].index.tolist(),inplace=True)\n",
    "aadata.drop(aadata[aadata['UV']=='UV B radiation for 30 min'].index.tolist(),inplace=True)\n",
    "aadata.drop(aadata[aadata['UV']=='10-14W/m2'].index.tolist(),inplace=True)\n",
    "aadata.drop(aadata[aadata['UV']==''].index.tolist(),inplace=True)"
   ]
  },
  {
   "cell_type": "code",
   "execution_count": 59,
   "metadata": {
    "colab": {
     "base_uri": "https://localhost:8080/"
    },
    "id": "VvaoHGde-8dI",
    "outputId": "41c92b43-7ac0-4642-c66b-a2780063e6af"
   },
   "outputs": [
    {
     "data": {
      "text/plain": [
       "0    243\n",
       "Name: Simultaneous, dtype: int64"
      ]
     },
     "execution_count": 59,
     "metadata": {},
     "output_type": "execute_result"
    }
   ],
   "source": [
    "aadata['Simultaneous'].value_counts()"
   ]
  },
  {
   "cell_type": "code",
   "execution_count": 60,
   "metadata": {
    "colab": {
     "base_uri": "https://localhost:8080/"
    },
    "id": "qLAC4PHuAJO9",
    "outputId": "71947d82-c5aa-4a61-bd4b-8be1c1eb6137"
   },
   "outputs": [
    {
     "data": {
      "text/plain": [
       "Optimum light    237\n",
       "High light         4\n",
       "Low light          2\n",
       "Name: Light intensity, dtype: int64"
      ]
     },
     "execution_count": 60,
     "metadata": {},
     "output_type": "execute_result"
    }
   ],
   "source": [
    "aadata['Light intensity'].value_counts()"
   ]
  },
  {
   "cell_type": "code",
   "execution_count": 61,
   "metadata": {
    "id": "PZHRX01JwZ4H"
   },
   "outputs": [],
   "source": [
    "#aadata['Light intensity']=aadata['Light intensity'].apply(lambda x: 1 if(x=='Optimum light') else 0)\n",
    "aadata['Shade']=aadata['Shade'].apply(lambda x: 0 if(x=='No shade') else 1)"
   ]
  },
  {
   "cell_type": "code",
   "execution_count": 62,
   "metadata": {
    "colab": {
     "base_uri": "https://localhost:8080/"
    },
    "id": "AuMW9VIuAfYE",
    "outputId": "b80da775-15af-48d0-9ef8-35a1505a3e6c"
   },
   "outputs": [
    {
     "data": {
      "text/plain": [
       "0    239\n",
       "1      4\n",
       "Name: Shade, dtype: int64"
      ]
     },
     "execution_count": 62,
     "metadata": {},
     "output_type": "execute_result"
    }
   ],
   "source": [
    "aadata['Shade'].value_counts()"
   ]
  },
  {
   "cell_type": "code",
   "execution_count": 63,
   "metadata": {
    "id": "AREaw-VT_EwW"
   },
   "outputs": [],
   "source": [
    "#aadata.drop(aadata[aadata['Ozone']=='NA'].index.tolist(),inplace=True)\n",
    "#aadata.drop(aadata[aadata['Ozone']=='110'].index.tolist(),inplace=True)\n",
    "#aadata.drop(aadata[aadata['Ozone']=='85'].index.tolist(),inplace=True)\n",
    "#aadata.drop(aadata[aadata['Ozone']=='88'].index.tolist(),inplace=True)\n",
    "#aadata.drop(aadata[aadata['Ozone']=='70'].index.tolist(),inplace=True)"
   ]
  },
  {
   "cell_type": "code",
   "execution_count": 64,
   "metadata": {
    "id": "toIWEiqq4EHR"
   },
   "outputs": [],
   "source": [
    "aadata['Plant performance']=aadata['Plant performance'].astype(float)\n",
    "aadata['Average temperature']=aadata['Average temperature'].astype(float)\n",
    "aadata['Salt']=aadata['Salt'].astype(int)\n",
    "aadata['Drought']=aadata['Drought'].astype(int)\n",
    "aadata['Boron']=aadata['Boron'].astype(float)\n",
    "aadata['Cd']=aadata['Cd'].astype(float)\n",
    "aadata['Lead']=aadata['Lead'].astype(float)\n",
    "aadata['UV']=aadata['UV'].astype(float)\n",
    "aadata['Ozone']=aadata['Ozone'].astype(float)\n",
    "aadata['Simultaneous']=aadata['Simultaneous'].astype(float)\n",
    "aadata['Sequential']=aadata['Sequential'].astype(float)\n",
    "aadata['Waterlogging']=aadata['Waterlogging'].astype(int)\n",
    "\n",
    "aadata.drop('Treatments',axis=1,inplace=True)"
   ]
  },
  {
   "cell_type": "code",
   "execution_count": 65,
   "metadata": {
    "id": "j3Ukd_TRDjdf"
   },
   "outputs": [],
   "source": [
    "bbdata['Oomycete']=bbdata['Oomycete'].apply(lambda x: 0 if(x=='NA') else 1).astype(int)\n",
    "bbdata['Virus']=bbdata['Virus'].apply(lambda x: 0 if(x=='NA') else 1).astype(int)\n",
    "bbdata['Insect']=bbdata['Insect'].apply(lambda x: 0 if(x=='NA') else 1).astype(int)\n",
    "bbdata['Nematode']=bbdata['Nematode'].apply(lambda x: 0 if(x=='NA') else 1).astype(int)\n",
    "bbdata['Fungus']=bbdata['Fungus'].apply(lambda x: 0 if(x=='NA') else 1).astype(int)\n",
    "bbdata['Bacteria']=bbdata['Bacteria'].apply(lambda x: 0 if(x=='NA') else 1).astype(int)\n",
    "\n",
    "bbdata.drop(['Mites','Treatments'],axis=1,inplace=True)"
   ]
  },
  {
   "cell_type": "code",
   "execution_count": 66,
   "metadata": {
    "id": "tNmeJ1r9rhNL"
   },
   "outputs": [],
   "source": [
    "abdata['Weed']=abdata['Weed'].apply(lambda x: 0 if(x=='NA') else 1).astype(int)\n",
    "abdata['Virus']=abdata['Virus'].apply(lambda x: 0 if(x=='NA') else 1).astype(int)\n",
    "abdata['Insect']=abdata['Insect'].apply(lambda x: 0 if(x=='NA') else 1).astype(int)\n",
    "abdata['Nematode']=abdata['Nematode'].apply(lambda x: 0 if(x=='NA') else 1).astype(int)\n",
    "abdata['Fungus']=abdata['Fungus'].apply(lambda x: 0 if(x=='NA') else 1).astype(int)\n",
    "abdata['Bacteria']=abdata['Bacteria'].apply(lambda x: 0 if(x=='NA') else 1).astype(int)\n",
    "\n",
    "abdata.drop('Treatments',axis=1,inplace=True)"
   ]
  },
  {
   "cell_type": "markdown",
   "metadata": {
    "id": "SudWoysFD1gj"
   },
   "source": [
    "Function to create repetitions of rows with +-0.05 variation in plant performance and temperature column"
   ]
  },
  {
   "cell_type": "code",
   "execution_count": 67,
   "metadata": {
    "id": "ZR3tUXfpVnLx"
   },
   "outputs": [],
   "source": [
    "pd.options.mode.chained_assignment = None\n",
    "def repetition(df):\n",
    "  for i in range(len(df)):\n",
    "    row=df.loc[i]\n",
    "    plant=row['Plant performance']\n",
    "    temp=row['Average temperature']\n",
    "    for j in range(1,6):\n",
    "      #dfcopy=df.append(row)\n",
    "      row['Plant performance']=plant-j*0.05\n",
    "      row['Average temperature']=temp-j*0.05\n",
    "      df=df.append(row)\n",
    "    #dfcopy['Plant performance']=row['Plant performance']-i*0.05\n",
    "    #dfcopy['Temperature']=row['Temperature']-i*0.05\n",
    "\n",
    "    for j in range(1,6):\n",
    "      row['Plant performance']=plant+j*0.05\n",
    "      row['Average temperature']=temp+j*0.05\n",
    "      df=df.append(row)\n",
    "  return df\n",
    "    # dfcopy=dfcopy.append(row)\n",
    "    # dfcopy['Plant performance']=row['Plant performance']+i*0.05\n",
    "    # dfcopy['Temperature']=row['Temperature']+i*0.05\n",
    "\n",
    "  "
   ]
  },
  {
   "cell_type": "code",
   "execution_count": 68,
   "metadata": {
    "colab": {
     "base_uri": "https://localhost:8080/",
     "height": 1000
    },
    "id": "72-4ERDnAkxT",
    "outputId": "0b397a2a-ecec-4181-9984-a7c24ab5c06d"
   },
   "outputs": [
    {
     "name": "stdout",
     "output_type": "stream",
     "text": [
      "<class 'pandas.core.frame.DataFrame'>\n",
      "Int64Index: 3388 entries, 0 to 307\n",
      "Data columns (total 22 columns):\n",
      " #   Column               Non-Null Count  Dtype  \n",
      "---  ------               --------------  -----  \n",
      " 0   Stress combination   3388 non-null   object \n",
      " 1   Plant species        3388 non-null   object \n",
      " 2   Family               3388 non-null   object \n",
      " 3   Simultaneous         3388 non-null   float64\n",
      " 4   Sequential           3388 non-null   float64\n",
      " 5   Plant performance    3388 non-null   float64\n",
      " 6   Average temperature  3388 non-null   float64\n",
      " 7   Parameter            3388 non-null   object \n",
      " 8   Salt                 3388 non-null   int32  \n",
      " 9   Drought              3388 non-null   int32  \n",
      " 10  Boron                3388 non-null   float64\n",
      " 11  Cd                   3388 non-null   float64\n",
      " 12  UV                   3388 non-null   float64\n",
      " 13  Ozone                3388 non-null   float64\n",
      " 14  Waterlogging         3388 non-null   int32  \n",
      " 15  Bacteria             3388 non-null   int32  \n",
      " 16  Fungus               3388 non-null   int32  \n",
      " 17  Oomycete             3388 non-null   int32  \n",
      " 18  Virus                3388 non-null   int32  \n",
      " 19  Nematode             3388 non-null   int32  \n",
      " 20  Insect               3388 non-null   int32  \n",
      " 21  Type                 3388 non-null   object \n",
      "dtypes: float64(8), int32(9), object(5)\n",
      "memory usage: 489.7+ KB\n"
     ]
    },
    {
     "data": {
      "text/html": [
       "<div>\n",
       "<style scoped>\n",
       "    .dataframe tbody tr th:only-of-type {\n",
       "        vertical-align: middle;\n",
       "    }\n",
       "\n",
       "    .dataframe tbody tr th {\n",
       "        vertical-align: top;\n",
       "    }\n",
       "\n",
       "    .dataframe thead th {\n",
       "        text-align: right;\n",
       "    }\n",
       "</style>\n",
       "<table border=\"1\" class=\"dataframe\">\n",
       "  <thead>\n",
       "    <tr style=\"text-align: right;\">\n",
       "      <th></th>\n",
       "      <th>index</th>\n",
       "      <th>Stress combination</th>\n",
       "      <th>Plant species</th>\n",
       "      <th>Family</th>\n",
       "      <th>Simultaneous</th>\n",
       "      <th>Sequential</th>\n",
       "      <th>Plant performance</th>\n",
       "      <th>Average temperature</th>\n",
       "      <th>Parameter</th>\n",
       "      <th>Salt</th>\n",
       "      <th>...</th>\n",
       "      <th>UV</th>\n",
       "      <th>Ozone</th>\n",
       "      <th>Waterlogging</th>\n",
       "      <th>Bacteria</th>\n",
       "      <th>Fungus</th>\n",
       "      <th>Oomycete</th>\n",
       "      <th>Virus</th>\n",
       "      <th>Nematode</th>\n",
       "      <th>Insect</th>\n",
       "      <th>Type</th>\n",
       "    </tr>\n",
       "  </thead>\n",
       "  <tbody>\n",
       "    <tr>\n",
       "      <th>0</th>\n",
       "      <td>0</td>\n",
       "      <td>Bacteria and nematode</td>\n",
       "      <td>Potato</td>\n",
       "      <td>Solanaceae</td>\n",
       "      <td>0.0</td>\n",
       "      <td>0.0</td>\n",
       "      <td>56.82</td>\n",
       "      <td>18.50</td>\n",
       "      <td>Shoot weight</td>\n",
       "      <td>0</td>\n",
       "      <td>...</td>\n",
       "      <td>1.0</td>\n",
       "      <td>0.0</td>\n",
       "      <td>0</td>\n",
       "      <td>1</td>\n",
       "      <td>1</td>\n",
       "      <td>1</td>\n",
       "      <td>1</td>\n",
       "      <td>1</td>\n",
       "      <td>1</td>\n",
       "      <td>Biotic-biotic</td>\n",
       "    </tr>\n",
       "    <tr>\n",
       "      <th>308</th>\n",
       "      <td>0</td>\n",
       "      <td>Bacteria and nematode</td>\n",
       "      <td>Potato</td>\n",
       "      <td>Solanaceae</td>\n",
       "      <td>0.0</td>\n",
       "      <td>0.0</td>\n",
       "      <td>56.77</td>\n",
       "      <td>18.45</td>\n",
       "      <td>Shoot weight</td>\n",
       "      <td>0</td>\n",
       "      <td>...</td>\n",
       "      <td>1.0</td>\n",
       "      <td>0.0</td>\n",
       "      <td>0</td>\n",
       "      <td>1</td>\n",
       "      <td>1</td>\n",
       "      <td>1</td>\n",
       "      <td>1</td>\n",
       "      <td>1</td>\n",
       "      <td>1</td>\n",
       "      <td>Biotic-biotic</td>\n",
       "    </tr>\n",
       "    <tr>\n",
       "      <th>309</th>\n",
       "      <td>0</td>\n",
       "      <td>Bacteria and nematode</td>\n",
       "      <td>Potato</td>\n",
       "      <td>Solanaceae</td>\n",
       "      <td>0.0</td>\n",
       "      <td>0.0</td>\n",
       "      <td>56.72</td>\n",
       "      <td>18.40</td>\n",
       "      <td>Shoot weight</td>\n",
       "      <td>0</td>\n",
       "      <td>...</td>\n",
       "      <td>1.0</td>\n",
       "      <td>0.0</td>\n",
       "      <td>0</td>\n",
       "      <td>1</td>\n",
       "      <td>1</td>\n",
       "      <td>1</td>\n",
       "      <td>1</td>\n",
       "      <td>1</td>\n",
       "      <td>1</td>\n",
       "      <td>Biotic-biotic</td>\n",
       "    </tr>\n",
       "    <tr>\n",
       "      <th>310</th>\n",
       "      <td>0</td>\n",
       "      <td>Bacteria and nematode</td>\n",
       "      <td>Potato</td>\n",
       "      <td>Solanaceae</td>\n",
       "      <td>0.0</td>\n",
       "      <td>0.0</td>\n",
       "      <td>56.67</td>\n",
       "      <td>18.35</td>\n",
       "      <td>Shoot weight</td>\n",
       "      <td>0</td>\n",
       "      <td>...</td>\n",
       "      <td>1.0</td>\n",
       "      <td>0.0</td>\n",
       "      <td>0</td>\n",
       "      <td>1</td>\n",
       "      <td>1</td>\n",
       "      <td>1</td>\n",
       "      <td>1</td>\n",
       "      <td>1</td>\n",
       "      <td>1</td>\n",
       "      <td>Biotic-biotic</td>\n",
       "    </tr>\n",
       "    <tr>\n",
       "      <th>311</th>\n",
       "      <td>0</td>\n",
       "      <td>Bacteria and nematode</td>\n",
       "      <td>Potato</td>\n",
       "      <td>Solanaceae</td>\n",
       "      <td>0.0</td>\n",
       "      <td>0.0</td>\n",
       "      <td>56.62</td>\n",
       "      <td>18.30</td>\n",
       "      <td>Shoot weight</td>\n",
       "      <td>0</td>\n",
       "      <td>...</td>\n",
       "      <td>1.0</td>\n",
       "      <td>0.0</td>\n",
       "      <td>0</td>\n",
       "      <td>1</td>\n",
       "      <td>1</td>\n",
       "      <td>1</td>\n",
       "      <td>1</td>\n",
       "      <td>1</td>\n",
       "      <td>1</td>\n",
       "      <td>Biotic-biotic</td>\n",
       "    </tr>\n",
       "    <tr>\n",
       "      <th>312</th>\n",
       "      <td>0</td>\n",
       "      <td>Bacteria and nematode</td>\n",
       "      <td>Potato</td>\n",
       "      <td>Solanaceae</td>\n",
       "      <td>0.0</td>\n",
       "      <td>0.0</td>\n",
       "      <td>56.57</td>\n",
       "      <td>18.25</td>\n",
       "      <td>Shoot weight</td>\n",
       "      <td>0</td>\n",
       "      <td>...</td>\n",
       "      <td>1.0</td>\n",
       "      <td>0.0</td>\n",
       "      <td>0</td>\n",
       "      <td>1</td>\n",
       "      <td>1</td>\n",
       "      <td>1</td>\n",
       "      <td>1</td>\n",
       "      <td>1</td>\n",
       "      <td>1</td>\n",
       "      <td>Biotic-biotic</td>\n",
       "    </tr>\n",
       "    <tr>\n",
       "      <th>313</th>\n",
       "      <td>0</td>\n",
       "      <td>Bacteria and nematode</td>\n",
       "      <td>Potato</td>\n",
       "      <td>Solanaceae</td>\n",
       "      <td>0.0</td>\n",
       "      <td>0.0</td>\n",
       "      <td>56.87</td>\n",
       "      <td>18.55</td>\n",
       "      <td>Shoot weight</td>\n",
       "      <td>0</td>\n",
       "      <td>...</td>\n",
       "      <td>1.0</td>\n",
       "      <td>0.0</td>\n",
       "      <td>0</td>\n",
       "      <td>1</td>\n",
       "      <td>1</td>\n",
       "      <td>1</td>\n",
       "      <td>1</td>\n",
       "      <td>1</td>\n",
       "      <td>1</td>\n",
       "      <td>Biotic-biotic</td>\n",
       "    </tr>\n",
       "    <tr>\n",
       "      <th>314</th>\n",
       "      <td>0</td>\n",
       "      <td>Bacteria and nematode</td>\n",
       "      <td>Potato</td>\n",
       "      <td>Solanaceae</td>\n",
       "      <td>0.0</td>\n",
       "      <td>0.0</td>\n",
       "      <td>56.92</td>\n",
       "      <td>18.60</td>\n",
       "      <td>Shoot weight</td>\n",
       "      <td>0</td>\n",
       "      <td>...</td>\n",
       "      <td>1.0</td>\n",
       "      <td>0.0</td>\n",
       "      <td>0</td>\n",
       "      <td>1</td>\n",
       "      <td>1</td>\n",
       "      <td>1</td>\n",
       "      <td>1</td>\n",
       "      <td>1</td>\n",
       "      <td>1</td>\n",
       "      <td>Biotic-biotic</td>\n",
       "    </tr>\n",
       "    <tr>\n",
       "      <th>315</th>\n",
       "      <td>0</td>\n",
       "      <td>Bacteria and nematode</td>\n",
       "      <td>Potato</td>\n",
       "      <td>Solanaceae</td>\n",
       "      <td>0.0</td>\n",
       "      <td>0.0</td>\n",
       "      <td>56.97</td>\n",
       "      <td>18.65</td>\n",
       "      <td>Shoot weight</td>\n",
       "      <td>0</td>\n",
       "      <td>...</td>\n",
       "      <td>1.0</td>\n",
       "      <td>0.0</td>\n",
       "      <td>0</td>\n",
       "      <td>1</td>\n",
       "      <td>1</td>\n",
       "      <td>1</td>\n",
       "      <td>1</td>\n",
       "      <td>1</td>\n",
       "      <td>1</td>\n",
       "      <td>Biotic-biotic</td>\n",
       "    </tr>\n",
       "    <tr>\n",
       "      <th>316</th>\n",
       "      <td>0</td>\n",
       "      <td>Bacteria and nematode</td>\n",
       "      <td>Potato</td>\n",
       "      <td>Solanaceae</td>\n",
       "      <td>0.0</td>\n",
       "      <td>0.0</td>\n",
       "      <td>57.02</td>\n",
       "      <td>18.70</td>\n",
       "      <td>Shoot weight</td>\n",
       "      <td>0</td>\n",
       "      <td>...</td>\n",
       "      <td>1.0</td>\n",
       "      <td>0.0</td>\n",
       "      <td>0</td>\n",
       "      <td>1</td>\n",
       "      <td>1</td>\n",
       "      <td>1</td>\n",
       "      <td>1</td>\n",
       "      <td>1</td>\n",
       "      <td>1</td>\n",
       "      <td>Biotic-biotic</td>\n",
       "    </tr>\n",
       "    <tr>\n",
       "      <th>317</th>\n",
       "      <td>0</td>\n",
       "      <td>Bacteria and nematode</td>\n",
       "      <td>Potato</td>\n",
       "      <td>Solanaceae</td>\n",
       "      <td>0.0</td>\n",
       "      <td>0.0</td>\n",
       "      <td>57.07</td>\n",
       "      <td>18.75</td>\n",
       "      <td>Shoot weight</td>\n",
       "      <td>0</td>\n",
       "      <td>...</td>\n",
       "      <td>1.0</td>\n",
       "      <td>0.0</td>\n",
       "      <td>0</td>\n",
       "      <td>1</td>\n",
       "      <td>1</td>\n",
       "      <td>1</td>\n",
       "      <td>1</td>\n",
       "      <td>1</td>\n",
       "      <td>1</td>\n",
       "      <td>Biotic-biotic</td>\n",
       "    </tr>\n",
       "  </tbody>\n",
       "</table>\n",
       "<p>11 rows × 23 columns</p>\n",
       "</div>"
      ],
      "text/plain": [
       "     index     Stress combination Plant species      Family  Simultaneous  \\\n",
       "0        0  Bacteria and nematode        Potato  Solanaceae           0.0   \n",
       "308      0  Bacteria and nematode        Potato  Solanaceae           0.0   \n",
       "309      0  Bacteria and nematode        Potato  Solanaceae           0.0   \n",
       "310      0  Bacteria and nematode        Potato  Solanaceae           0.0   \n",
       "311      0  Bacteria and nematode        Potato  Solanaceae           0.0   \n",
       "312      0  Bacteria and nematode        Potato  Solanaceae           0.0   \n",
       "313      0  Bacteria and nematode        Potato  Solanaceae           0.0   \n",
       "314      0  Bacteria and nematode        Potato  Solanaceae           0.0   \n",
       "315      0  Bacteria and nematode        Potato  Solanaceae           0.0   \n",
       "316      0  Bacteria and nematode        Potato  Solanaceae           0.0   \n",
       "317      0  Bacteria and nematode        Potato  Solanaceae           0.0   \n",
       "\n",
       "     Sequential  Plant performance  Average temperature     Parameter  Salt  \\\n",
       "0           0.0              56.82                18.50  Shoot weight     0   \n",
       "308         0.0              56.77                18.45  Shoot weight     0   \n",
       "309         0.0              56.72                18.40  Shoot weight     0   \n",
       "310         0.0              56.67                18.35  Shoot weight     0   \n",
       "311         0.0              56.62                18.30  Shoot weight     0   \n",
       "312         0.0              56.57                18.25  Shoot weight     0   \n",
       "313         0.0              56.87                18.55  Shoot weight     0   \n",
       "314         0.0              56.92                18.60  Shoot weight     0   \n",
       "315         0.0              56.97                18.65  Shoot weight     0   \n",
       "316         0.0              57.02                18.70  Shoot weight     0   \n",
       "317         0.0              57.07                18.75  Shoot weight     0   \n",
       "\n",
       "     ...   UV  Ozone  Waterlogging  Bacteria  Fungus  Oomycete  Virus  \\\n",
       "0    ...  1.0    0.0             0         1       1         1      1   \n",
       "308  ...  1.0    0.0             0         1       1         1      1   \n",
       "309  ...  1.0    0.0             0         1       1         1      1   \n",
       "310  ...  1.0    0.0             0         1       1         1      1   \n",
       "311  ...  1.0    0.0             0         1       1         1      1   \n",
       "312  ...  1.0    0.0             0         1       1         1      1   \n",
       "313  ...  1.0    0.0             0         1       1         1      1   \n",
       "314  ...  1.0    0.0             0         1       1         1      1   \n",
       "315  ...  1.0    0.0             0         1       1         1      1   \n",
       "316  ...  1.0    0.0             0         1       1         1      1   \n",
       "317  ...  1.0    0.0             0         1       1         1      1   \n",
       "\n",
       "     Nematode  Insect           Type  \n",
       "0           1       1  Biotic-biotic  \n",
       "308         1       1  Biotic-biotic  \n",
       "309         1       1  Biotic-biotic  \n",
       "310         1       1  Biotic-biotic  \n",
       "311         1       1  Biotic-biotic  \n",
       "312         1       1  Biotic-biotic  \n",
       "313         1       1  Biotic-biotic  \n",
       "314         1       1  Biotic-biotic  \n",
       "315         1       1  Biotic-biotic  \n",
       "316         1       1  Biotic-biotic  \n",
       "317         1       1  Biotic-biotic  \n",
       "\n",
       "[11 rows x 23 columns]"
      ]
     },
     "execution_count": 68,
     "metadata": {},
     "output_type": "execute_result"
    }
   ],
   "source": [
    "bbdata1=repetition(bbdata).copy()\n",
    "bbdata1.info()\n",
    "bbdata1=bbdata1.reset_index()\n",
    "bbdata1[bbdata1['index']==0]"
   ]
  },
  {
   "cell_type": "code",
   "execution_count": 69,
   "metadata": {
    "colab": {
     "base_uri": "https://localhost:8080/",
     "height": 610
    },
    "id": "dkQvfFw83nwx",
    "outputId": "23e2d929-d620-438a-b88c-e9ade87c56ca"
   },
   "outputs": [
    {
     "data": {
      "text/html": [
       "<div>\n",
       "<style scoped>\n",
       "    .dataframe tbody tr th:only-of-type {\n",
       "        vertical-align: middle;\n",
       "    }\n",
       "\n",
       "    .dataframe tbody tr th {\n",
       "        vertical-align: top;\n",
       "    }\n",
       "\n",
       "    .dataframe thead th {\n",
       "        text-align: right;\n",
       "    }\n",
       "</style>\n",
       "<table border=\"1\" class=\"dataframe\">\n",
       "  <thead>\n",
       "    <tr style=\"text-align: right;\">\n",
       "      <th></th>\n",
       "      <th>index</th>\n",
       "      <th>Stress combination</th>\n",
       "      <th>Plant species</th>\n",
       "      <th>Family</th>\n",
       "      <th>Simultaneous</th>\n",
       "      <th>Sequential</th>\n",
       "      <th>Plant performance</th>\n",
       "      <th>Parameter</th>\n",
       "      <th>Salt</th>\n",
       "      <th>Average temperature</th>\n",
       "      <th>...</th>\n",
       "      <th>UV</th>\n",
       "      <th>Ozone</th>\n",
       "      <th>Waterlogging</th>\n",
       "      <th>Bacteria</th>\n",
       "      <th>Fungus</th>\n",
       "      <th>Virus</th>\n",
       "      <th>Insect</th>\n",
       "      <th>Nematode</th>\n",
       "      <th>Weed</th>\n",
       "      <th>Type</th>\n",
       "    </tr>\n",
       "  </thead>\n",
       "  <tbody>\n",
       "    <tr>\n",
       "      <th>0</th>\n",
       "      <td>0</td>\n",
       "      <td>Drought and bacteria</td>\n",
       "      <td>Virginia creeper</td>\n",
       "      <td>Vitaceae</td>\n",
       "      <td>0.0</td>\n",
       "      <td>NaN</td>\n",
       "      <td>29.20</td>\n",
       "      <td>Plant height</td>\n",
       "      <td>0</td>\n",
       "      <td>21.50</td>\n",
       "      <td>...</td>\n",
       "      <td>1.0</td>\n",
       "      <td>0.0</td>\n",
       "      <td>0</td>\n",
       "      <td>1</td>\n",
       "      <td>1</td>\n",
       "      <td>1</td>\n",
       "      <td>1</td>\n",
       "      <td>1</td>\n",
       "      <td>1</td>\n",
       "      <td>Abiotic-biotic</td>\n",
       "    </tr>\n",
       "    <tr>\n",
       "      <th>167</th>\n",
       "      <td>0</td>\n",
       "      <td>Drought and bacteria</td>\n",
       "      <td>Virginia creeper</td>\n",
       "      <td>Vitaceae</td>\n",
       "      <td>0.0</td>\n",
       "      <td>NaN</td>\n",
       "      <td>29.15</td>\n",
       "      <td>Plant height</td>\n",
       "      <td>0</td>\n",
       "      <td>21.45</td>\n",
       "      <td>...</td>\n",
       "      <td>1.0</td>\n",
       "      <td>0.0</td>\n",
       "      <td>0</td>\n",
       "      <td>1</td>\n",
       "      <td>1</td>\n",
       "      <td>1</td>\n",
       "      <td>1</td>\n",
       "      <td>1</td>\n",
       "      <td>1</td>\n",
       "      <td>Abiotic-biotic</td>\n",
       "    </tr>\n",
       "    <tr>\n",
       "      <th>168</th>\n",
       "      <td>0</td>\n",
       "      <td>Drought and bacteria</td>\n",
       "      <td>Virginia creeper</td>\n",
       "      <td>Vitaceae</td>\n",
       "      <td>0.0</td>\n",
       "      <td>NaN</td>\n",
       "      <td>29.10</td>\n",
       "      <td>Plant height</td>\n",
       "      <td>0</td>\n",
       "      <td>21.40</td>\n",
       "      <td>...</td>\n",
       "      <td>1.0</td>\n",
       "      <td>0.0</td>\n",
       "      <td>0</td>\n",
       "      <td>1</td>\n",
       "      <td>1</td>\n",
       "      <td>1</td>\n",
       "      <td>1</td>\n",
       "      <td>1</td>\n",
       "      <td>1</td>\n",
       "      <td>Abiotic-biotic</td>\n",
       "    </tr>\n",
       "    <tr>\n",
       "      <th>169</th>\n",
       "      <td>0</td>\n",
       "      <td>Drought and bacteria</td>\n",
       "      <td>Virginia creeper</td>\n",
       "      <td>Vitaceae</td>\n",
       "      <td>0.0</td>\n",
       "      <td>NaN</td>\n",
       "      <td>29.05</td>\n",
       "      <td>Plant height</td>\n",
       "      <td>0</td>\n",
       "      <td>21.35</td>\n",
       "      <td>...</td>\n",
       "      <td>1.0</td>\n",
       "      <td>0.0</td>\n",
       "      <td>0</td>\n",
       "      <td>1</td>\n",
       "      <td>1</td>\n",
       "      <td>1</td>\n",
       "      <td>1</td>\n",
       "      <td>1</td>\n",
       "      <td>1</td>\n",
       "      <td>Abiotic-biotic</td>\n",
       "    </tr>\n",
       "    <tr>\n",
       "      <th>170</th>\n",
       "      <td>0</td>\n",
       "      <td>Drought and bacteria</td>\n",
       "      <td>Virginia creeper</td>\n",
       "      <td>Vitaceae</td>\n",
       "      <td>0.0</td>\n",
       "      <td>NaN</td>\n",
       "      <td>29.00</td>\n",
       "      <td>Plant height</td>\n",
       "      <td>0</td>\n",
       "      <td>21.30</td>\n",
       "      <td>...</td>\n",
       "      <td>1.0</td>\n",
       "      <td>0.0</td>\n",
       "      <td>0</td>\n",
       "      <td>1</td>\n",
       "      <td>1</td>\n",
       "      <td>1</td>\n",
       "      <td>1</td>\n",
       "      <td>1</td>\n",
       "      <td>1</td>\n",
       "      <td>Abiotic-biotic</td>\n",
       "    </tr>\n",
       "    <tr>\n",
       "      <th>171</th>\n",
       "      <td>0</td>\n",
       "      <td>Drought and bacteria</td>\n",
       "      <td>Virginia creeper</td>\n",
       "      <td>Vitaceae</td>\n",
       "      <td>0.0</td>\n",
       "      <td>NaN</td>\n",
       "      <td>28.95</td>\n",
       "      <td>Plant height</td>\n",
       "      <td>0</td>\n",
       "      <td>21.25</td>\n",
       "      <td>...</td>\n",
       "      <td>1.0</td>\n",
       "      <td>0.0</td>\n",
       "      <td>0</td>\n",
       "      <td>1</td>\n",
       "      <td>1</td>\n",
       "      <td>1</td>\n",
       "      <td>1</td>\n",
       "      <td>1</td>\n",
       "      <td>1</td>\n",
       "      <td>Abiotic-biotic</td>\n",
       "    </tr>\n",
       "    <tr>\n",
       "      <th>172</th>\n",
       "      <td>0</td>\n",
       "      <td>Drought and bacteria</td>\n",
       "      <td>Virginia creeper</td>\n",
       "      <td>Vitaceae</td>\n",
       "      <td>0.0</td>\n",
       "      <td>NaN</td>\n",
       "      <td>29.25</td>\n",
       "      <td>Plant height</td>\n",
       "      <td>0</td>\n",
       "      <td>21.55</td>\n",
       "      <td>...</td>\n",
       "      <td>1.0</td>\n",
       "      <td>0.0</td>\n",
       "      <td>0</td>\n",
       "      <td>1</td>\n",
       "      <td>1</td>\n",
       "      <td>1</td>\n",
       "      <td>1</td>\n",
       "      <td>1</td>\n",
       "      <td>1</td>\n",
       "      <td>Abiotic-biotic</td>\n",
       "    </tr>\n",
       "    <tr>\n",
       "      <th>173</th>\n",
       "      <td>0</td>\n",
       "      <td>Drought and bacteria</td>\n",
       "      <td>Virginia creeper</td>\n",
       "      <td>Vitaceae</td>\n",
       "      <td>0.0</td>\n",
       "      <td>NaN</td>\n",
       "      <td>29.30</td>\n",
       "      <td>Plant height</td>\n",
       "      <td>0</td>\n",
       "      <td>21.60</td>\n",
       "      <td>...</td>\n",
       "      <td>1.0</td>\n",
       "      <td>0.0</td>\n",
       "      <td>0</td>\n",
       "      <td>1</td>\n",
       "      <td>1</td>\n",
       "      <td>1</td>\n",
       "      <td>1</td>\n",
       "      <td>1</td>\n",
       "      <td>1</td>\n",
       "      <td>Abiotic-biotic</td>\n",
       "    </tr>\n",
       "    <tr>\n",
       "      <th>174</th>\n",
       "      <td>0</td>\n",
       "      <td>Drought and bacteria</td>\n",
       "      <td>Virginia creeper</td>\n",
       "      <td>Vitaceae</td>\n",
       "      <td>0.0</td>\n",
       "      <td>NaN</td>\n",
       "      <td>29.35</td>\n",
       "      <td>Plant height</td>\n",
       "      <td>0</td>\n",
       "      <td>21.65</td>\n",
       "      <td>...</td>\n",
       "      <td>1.0</td>\n",
       "      <td>0.0</td>\n",
       "      <td>0</td>\n",
       "      <td>1</td>\n",
       "      <td>1</td>\n",
       "      <td>1</td>\n",
       "      <td>1</td>\n",
       "      <td>1</td>\n",
       "      <td>1</td>\n",
       "      <td>Abiotic-biotic</td>\n",
       "    </tr>\n",
       "    <tr>\n",
       "      <th>175</th>\n",
       "      <td>0</td>\n",
       "      <td>Drought and bacteria</td>\n",
       "      <td>Virginia creeper</td>\n",
       "      <td>Vitaceae</td>\n",
       "      <td>0.0</td>\n",
       "      <td>NaN</td>\n",
       "      <td>29.40</td>\n",
       "      <td>Plant height</td>\n",
       "      <td>0</td>\n",
       "      <td>21.70</td>\n",
       "      <td>...</td>\n",
       "      <td>1.0</td>\n",
       "      <td>0.0</td>\n",
       "      <td>0</td>\n",
       "      <td>1</td>\n",
       "      <td>1</td>\n",
       "      <td>1</td>\n",
       "      <td>1</td>\n",
       "      <td>1</td>\n",
       "      <td>1</td>\n",
       "      <td>Abiotic-biotic</td>\n",
       "    </tr>\n",
       "    <tr>\n",
       "      <th>176</th>\n",
       "      <td>0</td>\n",
       "      <td>Drought and bacteria</td>\n",
       "      <td>Virginia creeper</td>\n",
       "      <td>Vitaceae</td>\n",
       "      <td>0.0</td>\n",
       "      <td>NaN</td>\n",
       "      <td>29.45</td>\n",
       "      <td>Plant height</td>\n",
       "      <td>0</td>\n",
       "      <td>21.75</td>\n",
       "      <td>...</td>\n",
       "      <td>1.0</td>\n",
       "      <td>0.0</td>\n",
       "      <td>0</td>\n",
       "      <td>1</td>\n",
       "      <td>1</td>\n",
       "      <td>1</td>\n",
       "      <td>1</td>\n",
       "      <td>1</td>\n",
       "      <td>1</td>\n",
       "      <td>Abiotic-biotic</td>\n",
       "    </tr>\n",
       "  </tbody>\n",
       "</table>\n",
       "<p>11 rows × 27 columns</p>\n",
       "</div>"
      ],
      "text/plain": [
       "     index    Stress combination     Plant species    Family  Simultaneous  \\\n",
       "0        0  Drought and bacteria  Virginia creeper  Vitaceae           0.0   \n",
       "167      0  Drought and bacteria  Virginia creeper  Vitaceae           0.0   \n",
       "168      0  Drought and bacteria  Virginia creeper  Vitaceae           0.0   \n",
       "169      0  Drought and bacteria  Virginia creeper  Vitaceae           0.0   \n",
       "170      0  Drought and bacteria  Virginia creeper  Vitaceae           0.0   \n",
       "171      0  Drought and bacteria  Virginia creeper  Vitaceae           0.0   \n",
       "172      0  Drought and bacteria  Virginia creeper  Vitaceae           0.0   \n",
       "173      0  Drought and bacteria  Virginia creeper  Vitaceae           0.0   \n",
       "174      0  Drought and bacteria  Virginia creeper  Vitaceae           0.0   \n",
       "175      0  Drought and bacteria  Virginia creeper  Vitaceae           0.0   \n",
       "176      0  Drought and bacteria  Virginia creeper  Vitaceae           0.0   \n",
       "\n",
       "     Sequential  Plant performance     Parameter  Salt  Average temperature  \\\n",
       "0           NaN              29.20  Plant height     0                21.50   \n",
       "167         NaN              29.15  Plant height     0                21.45   \n",
       "168         NaN              29.10  Plant height     0                21.40   \n",
       "169         NaN              29.05  Plant height     0                21.35   \n",
       "170         NaN              29.00  Plant height     0                21.30   \n",
       "171         NaN              28.95  Plant height     0                21.25   \n",
       "172         NaN              29.25  Plant height     0                21.55   \n",
       "173         NaN              29.30  Plant height     0                21.60   \n",
       "174         NaN              29.35  Plant height     0                21.65   \n",
       "175         NaN              29.40  Plant height     0                21.70   \n",
       "176         NaN              29.45  Plant height     0                21.75   \n",
       "\n",
       "     ...   UV  Ozone  Waterlogging  Bacteria  Fungus  Virus  Insect  Nematode  \\\n",
       "0    ...  1.0    0.0             0         1       1      1       1         1   \n",
       "167  ...  1.0    0.0             0         1       1      1       1         1   \n",
       "168  ...  1.0    0.0             0         1       1      1       1         1   \n",
       "169  ...  1.0    0.0             0         1       1      1       1         1   \n",
       "170  ...  1.0    0.0             0         1       1      1       1         1   \n",
       "171  ...  1.0    0.0             0         1       1      1       1         1   \n",
       "172  ...  1.0    0.0             0         1       1      1       1         1   \n",
       "173  ...  1.0    0.0             0         1       1      1       1         1   \n",
       "174  ...  1.0    0.0             0         1       1      1       1         1   \n",
       "175  ...  1.0    0.0             0         1       1      1       1         1   \n",
       "176  ...  1.0    0.0             0         1       1      1       1         1   \n",
       "\n",
       "     Weed            Type  \n",
       "0       1  Abiotic-biotic  \n",
       "167     1  Abiotic-biotic  \n",
       "168     1  Abiotic-biotic  \n",
       "169     1  Abiotic-biotic  \n",
       "170     1  Abiotic-biotic  \n",
       "171     1  Abiotic-biotic  \n",
       "172     1  Abiotic-biotic  \n",
       "173     1  Abiotic-biotic  \n",
       "174     1  Abiotic-biotic  \n",
       "175     1  Abiotic-biotic  \n",
       "176     1  Abiotic-biotic  \n",
       "\n",
       "[11 rows x 27 columns]"
      ]
     },
     "execution_count": 69,
     "metadata": {},
     "output_type": "execute_result"
    }
   ],
   "source": [
    "abdata1=repetition(abdata)\n",
    "abdata1=abdata1.reset_index()\n",
    "abdata1[abdata1['index']==0]"
   ]
  },
  {
   "cell_type": "code",
   "execution_count": 70,
   "metadata": {
    "colab": {
     "base_uri": "https://localhost:8080/",
     "height": 610
    },
    "id": "K6edwnW2y5PK",
    "outputId": "22551a7b-bbc3-482c-b386-a7cba715ec48"
   },
   "outputs": [
    {
     "data": {
      "text/html": [
       "<div>\n",
       "<style scoped>\n",
       "    .dataframe tbody tr th:only-of-type {\n",
       "        vertical-align: middle;\n",
       "    }\n",
       "\n",
       "    .dataframe tbody tr th {\n",
       "        vertical-align: top;\n",
       "    }\n",
       "\n",
       "    .dataframe thead th {\n",
       "        text-align: right;\n",
       "    }\n",
       "</style>\n",
       "<table border=\"1\" class=\"dataframe\">\n",
       "  <thead>\n",
       "    <tr style=\"text-align: right;\">\n",
       "      <th></th>\n",
       "      <th>index</th>\n",
       "      <th>Stress combination</th>\n",
       "      <th>Plant species</th>\n",
       "      <th>Family</th>\n",
       "      <th>Simultaneous</th>\n",
       "      <th>Sequential</th>\n",
       "      <th>Plant performance</th>\n",
       "      <th>Parameter</th>\n",
       "      <th>Salt</th>\n",
       "      <th>Average temperature</th>\n",
       "      <th>Drought</th>\n",
       "      <th>Light intensity</th>\n",
       "      <th>Shade</th>\n",
       "      <th>Boron</th>\n",
       "      <th>Lead</th>\n",
       "      <th>Cd</th>\n",
       "      <th>UV</th>\n",
       "      <th>Ozone</th>\n",
       "      <th>Waterlogging</th>\n",
       "      <th>Type</th>\n",
       "    </tr>\n",
       "  </thead>\n",
       "  <tbody>\n",
       "    <tr>\n",
       "      <th>0</th>\n",
       "      <td>0</td>\n",
       "      <td>Cold and UV</td>\n",
       "      <td>Cotton</td>\n",
       "      <td>Malvaceae</td>\n",
       "      <td>0.0</td>\n",
       "      <td>0.0</td>\n",
       "      <td>15.80</td>\n",
       "      <td>Plant height</td>\n",
       "      <td>0</td>\n",
       "      <td>20.00</td>\n",
       "      <td>0</td>\n",
       "      <td>Optimum light</td>\n",
       "      <td>0</td>\n",
       "      <td>30.0</td>\n",
       "      <td>0.0</td>\n",
       "      <td>0.0</td>\n",
       "      <td>1.0</td>\n",
       "      <td>0.0</td>\n",
       "      <td>0</td>\n",
       "      <td>Abiotic-abiotic</td>\n",
       "    </tr>\n",
       "    <tr>\n",
       "      <th>243</th>\n",
       "      <td>0</td>\n",
       "      <td>Cold and UV</td>\n",
       "      <td>Cotton</td>\n",
       "      <td>Malvaceae</td>\n",
       "      <td>0.0</td>\n",
       "      <td>0.0</td>\n",
       "      <td>15.75</td>\n",
       "      <td>Plant height</td>\n",
       "      <td>0</td>\n",
       "      <td>19.95</td>\n",
       "      <td>0</td>\n",
       "      <td>Optimum light</td>\n",
       "      <td>0</td>\n",
       "      <td>30.0</td>\n",
       "      <td>0.0</td>\n",
       "      <td>0.0</td>\n",
       "      <td>1.0</td>\n",
       "      <td>0.0</td>\n",
       "      <td>0</td>\n",
       "      <td>Abiotic-abiotic</td>\n",
       "    </tr>\n",
       "    <tr>\n",
       "      <th>244</th>\n",
       "      <td>0</td>\n",
       "      <td>Cold and UV</td>\n",
       "      <td>Cotton</td>\n",
       "      <td>Malvaceae</td>\n",
       "      <td>0.0</td>\n",
       "      <td>0.0</td>\n",
       "      <td>15.70</td>\n",
       "      <td>Plant height</td>\n",
       "      <td>0</td>\n",
       "      <td>19.90</td>\n",
       "      <td>0</td>\n",
       "      <td>Optimum light</td>\n",
       "      <td>0</td>\n",
       "      <td>30.0</td>\n",
       "      <td>0.0</td>\n",
       "      <td>0.0</td>\n",
       "      <td>1.0</td>\n",
       "      <td>0.0</td>\n",
       "      <td>0</td>\n",
       "      <td>Abiotic-abiotic</td>\n",
       "    </tr>\n",
       "    <tr>\n",
       "      <th>245</th>\n",
       "      <td>0</td>\n",
       "      <td>Cold and UV</td>\n",
       "      <td>Cotton</td>\n",
       "      <td>Malvaceae</td>\n",
       "      <td>0.0</td>\n",
       "      <td>0.0</td>\n",
       "      <td>15.65</td>\n",
       "      <td>Plant height</td>\n",
       "      <td>0</td>\n",
       "      <td>19.85</td>\n",
       "      <td>0</td>\n",
       "      <td>Optimum light</td>\n",
       "      <td>0</td>\n",
       "      <td>30.0</td>\n",
       "      <td>0.0</td>\n",
       "      <td>0.0</td>\n",
       "      <td>1.0</td>\n",
       "      <td>0.0</td>\n",
       "      <td>0</td>\n",
       "      <td>Abiotic-abiotic</td>\n",
       "    </tr>\n",
       "    <tr>\n",
       "      <th>246</th>\n",
       "      <td>0</td>\n",
       "      <td>Cold and UV</td>\n",
       "      <td>Cotton</td>\n",
       "      <td>Malvaceae</td>\n",
       "      <td>0.0</td>\n",
       "      <td>0.0</td>\n",
       "      <td>15.60</td>\n",
       "      <td>Plant height</td>\n",
       "      <td>0</td>\n",
       "      <td>19.80</td>\n",
       "      <td>0</td>\n",
       "      <td>Optimum light</td>\n",
       "      <td>0</td>\n",
       "      <td>30.0</td>\n",
       "      <td>0.0</td>\n",
       "      <td>0.0</td>\n",
       "      <td>1.0</td>\n",
       "      <td>0.0</td>\n",
       "      <td>0</td>\n",
       "      <td>Abiotic-abiotic</td>\n",
       "    </tr>\n",
       "    <tr>\n",
       "      <th>247</th>\n",
       "      <td>0</td>\n",
       "      <td>Cold and UV</td>\n",
       "      <td>Cotton</td>\n",
       "      <td>Malvaceae</td>\n",
       "      <td>0.0</td>\n",
       "      <td>0.0</td>\n",
       "      <td>15.55</td>\n",
       "      <td>Plant height</td>\n",
       "      <td>0</td>\n",
       "      <td>19.75</td>\n",
       "      <td>0</td>\n",
       "      <td>Optimum light</td>\n",
       "      <td>0</td>\n",
       "      <td>30.0</td>\n",
       "      <td>0.0</td>\n",
       "      <td>0.0</td>\n",
       "      <td>1.0</td>\n",
       "      <td>0.0</td>\n",
       "      <td>0</td>\n",
       "      <td>Abiotic-abiotic</td>\n",
       "    </tr>\n",
       "    <tr>\n",
       "      <th>248</th>\n",
       "      <td>0</td>\n",
       "      <td>Cold and UV</td>\n",
       "      <td>Cotton</td>\n",
       "      <td>Malvaceae</td>\n",
       "      <td>0.0</td>\n",
       "      <td>0.0</td>\n",
       "      <td>15.85</td>\n",
       "      <td>Plant height</td>\n",
       "      <td>0</td>\n",
       "      <td>20.05</td>\n",
       "      <td>0</td>\n",
       "      <td>Optimum light</td>\n",
       "      <td>0</td>\n",
       "      <td>30.0</td>\n",
       "      <td>0.0</td>\n",
       "      <td>0.0</td>\n",
       "      <td>1.0</td>\n",
       "      <td>0.0</td>\n",
       "      <td>0</td>\n",
       "      <td>Abiotic-abiotic</td>\n",
       "    </tr>\n",
       "    <tr>\n",
       "      <th>249</th>\n",
       "      <td>0</td>\n",
       "      <td>Cold and UV</td>\n",
       "      <td>Cotton</td>\n",
       "      <td>Malvaceae</td>\n",
       "      <td>0.0</td>\n",
       "      <td>0.0</td>\n",
       "      <td>15.90</td>\n",
       "      <td>Plant height</td>\n",
       "      <td>0</td>\n",
       "      <td>20.10</td>\n",
       "      <td>0</td>\n",
       "      <td>Optimum light</td>\n",
       "      <td>0</td>\n",
       "      <td>30.0</td>\n",
       "      <td>0.0</td>\n",
       "      <td>0.0</td>\n",
       "      <td>1.0</td>\n",
       "      <td>0.0</td>\n",
       "      <td>0</td>\n",
       "      <td>Abiotic-abiotic</td>\n",
       "    </tr>\n",
       "    <tr>\n",
       "      <th>250</th>\n",
       "      <td>0</td>\n",
       "      <td>Cold and UV</td>\n",
       "      <td>Cotton</td>\n",
       "      <td>Malvaceae</td>\n",
       "      <td>0.0</td>\n",
       "      <td>0.0</td>\n",
       "      <td>15.95</td>\n",
       "      <td>Plant height</td>\n",
       "      <td>0</td>\n",
       "      <td>20.15</td>\n",
       "      <td>0</td>\n",
       "      <td>Optimum light</td>\n",
       "      <td>0</td>\n",
       "      <td>30.0</td>\n",
       "      <td>0.0</td>\n",
       "      <td>0.0</td>\n",
       "      <td>1.0</td>\n",
       "      <td>0.0</td>\n",
       "      <td>0</td>\n",
       "      <td>Abiotic-abiotic</td>\n",
       "    </tr>\n",
       "    <tr>\n",
       "      <th>251</th>\n",
       "      <td>0</td>\n",
       "      <td>Cold and UV</td>\n",
       "      <td>Cotton</td>\n",
       "      <td>Malvaceae</td>\n",
       "      <td>0.0</td>\n",
       "      <td>0.0</td>\n",
       "      <td>16.00</td>\n",
       "      <td>Plant height</td>\n",
       "      <td>0</td>\n",
       "      <td>20.20</td>\n",
       "      <td>0</td>\n",
       "      <td>Optimum light</td>\n",
       "      <td>0</td>\n",
       "      <td>30.0</td>\n",
       "      <td>0.0</td>\n",
       "      <td>0.0</td>\n",
       "      <td>1.0</td>\n",
       "      <td>0.0</td>\n",
       "      <td>0</td>\n",
       "      <td>Abiotic-abiotic</td>\n",
       "    </tr>\n",
       "    <tr>\n",
       "      <th>252</th>\n",
       "      <td>0</td>\n",
       "      <td>Cold and UV</td>\n",
       "      <td>Cotton</td>\n",
       "      <td>Malvaceae</td>\n",
       "      <td>0.0</td>\n",
       "      <td>0.0</td>\n",
       "      <td>16.05</td>\n",
       "      <td>Plant height</td>\n",
       "      <td>0</td>\n",
       "      <td>20.25</td>\n",
       "      <td>0</td>\n",
       "      <td>Optimum light</td>\n",
       "      <td>0</td>\n",
       "      <td>30.0</td>\n",
       "      <td>0.0</td>\n",
       "      <td>0.0</td>\n",
       "      <td>1.0</td>\n",
       "      <td>0.0</td>\n",
       "      <td>0</td>\n",
       "      <td>Abiotic-abiotic</td>\n",
       "    </tr>\n",
       "  </tbody>\n",
       "</table>\n",
       "</div>"
      ],
      "text/plain": [
       "     index Stress combination Plant species     Family  Simultaneous  \\\n",
       "0        0        Cold and UV        Cotton  Malvaceae           0.0   \n",
       "243      0        Cold and UV        Cotton  Malvaceae           0.0   \n",
       "244      0        Cold and UV        Cotton  Malvaceae           0.0   \n",
       "245      0        Cold and UV        Cotton  Malvaceae           0.0   \n",
       "246      0        Cold and UV        Cotton  Malvaceae           0.0   \n",
       "247      0        Cold and UV        Cotton  Malvaceae           0.0   \n",
       "248      0        Cold and UV        Cotton  Malvaceae           0.0   \n",
       "249      0        Cold and UV        Cotton  Malvaceae           0.0   \n",
       "250      0        Cold and UV        Cotton  Malvaceae           0.0   \n",
       "251      0        Cold and UV        Cotton  Malvaceae           0.0   \n",
       "252      0        Cold and UV        Cotton  Malvaceae           0.0   \n",
       "\n",
       "     Sequential  Plant performance     Parameter  Salt  Average temperature  \\\n",
       "0           0.0              15.80  Plant height     0                20.00   \n",
       "243         0.0              15.75  Plant height     0                19.95   \n",
       "244         0.0              15.70  Plant height     0                19.90   \n",
       "245         0.0              15.65  Plant height     0                19.85   \n",
       "246         0.0              15.60  Plant height     0                19.80   \n",
       "247         0.0              15.55  Plant height     0                19.75   \n",
       "248         0.0              15.85  Plant height     0                20.05   \n",
       "249         0.0              15.90  Plant height     0                20.10   \n",
       "250         0.0              15.95  Plant height     0                20.15   \n",
       "251         0.0              16.00  Plant height     0                20.20   \n",
       "252         0.0              16.05  Plant height     0                20.25   \n",
       "\n",
       "     Drought Light intensity  Shade  Boron  Lead   Cd   UV  Ozone  \\\n",
       "0          0   Optimum light      0   30.0   0.0  0.0  1.0    0.0   \n",
       "243        0   Optimum light      0   30.0   0.0  0.0  1.0    0.0   \n",
       "244        0   Optimum light      0   30.0   0.0  0.0  1.0    0.0   \n",
       "245        0   Optimum light      0   30.0   0.0  0.0  1.0    0.0   \n",
       "246        0   Optimum light      0   30.0   0.0  0.0  1.0    0.0   \n",
       "247        0   Optimum light      0   30.0   0.0  0.0  1.0    0.0   \n",
       "248        0   Optimum light      0   30.0   0.0  0.0  1.0    0.0   \n",
       "249        0   Optimum light      0   30.0   0.0  0.0  1.0    0.0   \n",
       "250        0   Optimum light      0   30.0   0.0  0.0  1.0    0.0   \n",
       "251        0   Optimum light      0   30.0   0.0  0.0  1.0    0.0   \n",
       "252        0   Optimum light      0   30.0   0.0  0.0  1.0    0.0   \n",
       "\n",
       "     Waterlogging             Type  \n",
       "0               0  Abiotic-abiotic  \n",
       "243             0  Abiotic-abiotic  \n",
       "244             0  Abiotic-abiotic  \n",
       "245             0  Abiotic-abiotic  \n",
       "246             0  Abiotic-abiotic  \n",
       "247             0  Abiotic-abiotic  \n",
       "248             0  Abiotic-abiotic  \n",
       "249             0  Abiotic-abiotic  \n",
       "250             0  Abiotic-abiotic  \n",
       "251             0  Abiotic-abiotic  \n",
       "252             0  Abiotic-abiotic  "
      ]
     },
     "execution_count": 70,
     "metadata": {},
     "output_type": "execute_result"
    }
   ],
   "source": [
    "aadata.reset_index(inplace=True)\n",
    "aadata.drop('index',axis=1,inplace=True)\n",
    "\n",
    "aadata1=repetition(aadata)\n",
    "aadata1=aadata1.reset_index()\n",
    "aadata1[aadata1['index']==0]"
   ]
  },
  {
   "cell_type": "markdown",
   "metadata": {
    "id": "v_vcCbmWEGRl"
   },
   "source": [
    "Combining all datasets"
   ]
  },
  {
   "cell_type": "code",
   "execution_count": 71,
   "metadata": {
    "colab": {
     "base_uri": "https://localhost:8080/"
    },
    "id": "nyrkGPNQ2DLI",
    "outputId": "571d1c59-0f9e-4b72-bfd8-2d71a1a37684"
   },
   "outputs": [
    {
     "name": "stdout",
     "output_type": "stream",
     "text": [
      "<class 'pandas.core.frame.DataFrame'>\n",
      "RangeIndex: 7898 entries, 0 to 7897\n",
      "Data columns (total 30 columns):\n",
      " #   Column               Non-Null Count  Dtype  \n",
      "---  ------               --------------  -----  \n",
      " 0   Stress combination   7898 non-null   object \n",
      " 1   Plant species        7898 non-null   object \n",
      " 2   Family               7898 non-null   object \n",
      " 3   Simultaneous         7898 non-null   float64\n",
      " 4   Sequential           6699 non-null   float64\n",
      " 5   Plant performance    7898 non-null   float64\n",
      " 6   Average temperature  7898 non-null   float64\n",
      " 7   Parameter            7898 non-null   object \n",
      " 8   Salt                 7898 non-null   int32  \n",
      " 9   Drought              7898 non-null   int32  \n",
      " 10  Boron                7898 non-null   float64\n",
      " 11  Cd                   7898 non-null   float64\n",
      " 12  UV                   7887 non-null   float64\n",
      " 13  Ozone                7898 non-null   float64\n",
      " 14  Waterlogging         7898 non-null   int32  \n",
      " 15  Bacteria             5225 non-null   float64\n",
      " 16  Fungus               5225 non-null   float64\n",
      " 17  Oomycete             3388 non-null   float64\n",
      " 18  Virus                5225 non-null   float64\n",
      " 19  Nematode             5225 non-null   float64\n",
      " 20  Insect               5225 non-null   float64\n",
      " 21  Type                 7898 non-null   object \n",
      " 22  Mn                   1837 non-null   float64\n",
      " 23  Pb                   1837 non-null   float64\n",
      " 24  Zinc                 1837 non-null   float64\n",
      " 25  Ni                   1837 non-null   float64\n",
      " 26  Weed                 1837 non-null   float64\n",
      " 27  Light intensity      2673 non-null   object \n",
      " 28  Shade                2673 non-null   float64\n",
      " 29  Lead                 2673 non-null   float64\n",
      "dtypes: float64(21), int32(3), object(6)\n",
      "memory usage: 1.7+ MB\n"
     ]
    }
   ],
   "source": [
    "df=bbdata1.append(abdata1,ignore_index=True)\n",
    "df=df.append(aadata1,ignore_index=True)\n",
    "df.drop('index',axis=1,inplace=True)\n",
    "df.info()"
   ]
  },
  {
   "cell_type": "code",
   "execution_count": 72,
   "metadata": {
    "colab": {
     "base_uri": "https://localhost:8080/",
     "height": 324
    },
    "id": "mVaZXBQM0jNs",
    "outputId": "7af3fca8-7ce5-4be5-f693-c6d2b76517da"
   },
   "outputs": [
    {
     "data": {
      "text/html": [
       "<div>\n",
       "<style scoped>\n",
       "    .dataframe tbody tr th:only-of-type {\n",
       "        vertical-align: middle;\n",
       "    }\n",
       "\n",
       "    .dataframe tbody tr th {\n",
       "        vertical-align: top;\n",
       "    }\n",
       "\n",
       "    .dataframe thead th {\n",
       "        text-align: right;\n",
       "    }\n",
       "</style>\n",
       "<table border=\"1\" class=\"dataframe\">\n",
       "  <thead>\n",
       "    <tr style=\"text-align: right;\">\n",
       "      <th></th>\n",
       "      <th>Stress combination</th>\n",
       "      <th>Plant species</th>\n",
       "      <th>Family</th>\n",
       "      <th>Simultaneous</th>\n",
       "      <th>Sequential</th>\n",
       "      <th>Plant performance</th>\n",
       "      <th>Average temperature</th>\n",
       "      <th>Parameter</th>\n",
       "      <th>Salt</th>\n",
       "      <th>Drought</th>\n",
       "      <th>...</th>\n",
       "      <th>Insect</th>\n",
       "      <th>Type</th>\n",
       "      <th>Mn</th>\n",
       "      <th>Pb</th>\n",
       "      <th>Zinc</th>\n",
       "      <th>Ni</th>\n",
       "      <th>Weed</th>\n",
       "      <th>Light intensity</th>\n",
       "      <th>Shade</th>\n",
       "      <th>Lead</th>\n",
       "    </tr>\n",
       "  </thead>\n",
       "  <tbody>\n",
       "    <tr>\n",
       "      <th>0</th>\n",
       "      <td>Bacteria and nematode</td>\n",
       "      <td>Potato</td>\n",
       "      <td>Solanaceae</td>\n",
       "      <td>0.0</td>\n",
       "      <td>0.0</td>\n",
       "      <td>56.82</td>\n",
       "      <td>18.5</td>\n",
       "      <td>Shoot weight</td>\n",
       "      <td>0</td>\n",
       "      <td>0</td>\n",
       "      <td>...</td>\n",
       "      <td>1.0</td>\n",
       "      <td>Biotic-biotic</td>\n",
       "      <td>NaN</td>\n",
       "      <td>NaN</td>\n",
       "      <td>NaN</td>\n",
       "      <td>NaN</td>\n",
       "      <td>NaN</td>\n",
       "      <td>NaN</td>\n",
       "      <td>NaN</td>\n",
       "      <td>NaN</td>\n",
       "    </tr>\n",
       "    <tr>\n",
       "      <th>1</th>\n",
       "      <td>Bacteria and nematode</td>\n",
       "      <td>Tomato</td>\n",
       "      <td>Solanaceae</td>\n",
       "      <td>0.0</td>\n",
       "      <td>0.0</td>\n",
       "      <td>8.24</td>\n",
       "      <td>15.0</td>\n",
       "      <td>Shoot weight</td>\n",
       "      <td>0</td>\n",
       "      <td>0</td>\n",
       "      <td>...</td>\n",
       "      <td>1.0</td>\n",
       "      <td>Biotic-biotic</td>\n",
       "      <td>NaN</td>\n",
       "      <td>NaN</td>\n",
       "      <td>NaN</td>\n",
       "      <td>NaN</td>\n",
       "      <td>NaN</td>\n",
       "      <td>NaN</td>\n",
       "      <td>NaN</td>\n",
       "      <td>NaN</td>\n",
       "    </tr>\n",
       "    <tr>\n",
       "      <th>2</th>\n",
       "      <td>Virus and bacteria</td>\n",
       "      <td>Potato</td>\n",
       "      <td>Solanaceae</td>\n",
       "      <td>0.0</td>\n",
       "      <td>0.0</td>\n",
       "      <td>38.49</td>\n",
       "      <td>18.5</td>\n",
       "      <td>Yield</td>\n",
       "      <td>0</td>\n",
       "      <td>0</td>\n",
       "      <td>...</td>\n",
       "      <td>1.0</td>\n",
       "      <td>Biotic-biotic</td>\n",
       "      <td>NaN</td>\n",
       "      <td>NaN</td>\n",
       "      <td>NaN</td>\n",
       "      <td>NaN</td>\n",
       "      <td>NaN</td>\n",
       "      <td>NaN</td>\n",
       "      <td>NaN</td>\n",
       "      <td>NaN</td>\n",
       "    </tr>\n",
       "    <tr>\n",
       "      <th>3</th>\n",
       "      <td>Fungus and Fungus</td>\n",
       "      <td>Wheat</td>\n",
       "      <td>Poaceae</td>\n",
       "      <td>0.0</td>\n",
       "      <td>0.0</td>\n",
       "      <td>40.07</td>\n",
       "      <td>22.5</td>\n",
       "      <td>Yield</td>\n",
       "      <td>0</td>\n",
       "      <td>0</td>\n",
       "      <td>...</td>\n",
       "      <td>1.0</td>\n",
       "      <td>Biotic-biotic</td>\n",
       "      <td>NaN</td>\n",
       "      <td>NaN</td>\n",
       "      <td>NaN</td>\n",
       "      <td>NaN</td>\n",
       "      <td>NaN</td>\n",
       "      <td>NaN</td>\n",
       "      <td>NaN</td>\n",
       "      <td>NaN</td>\n",
       "    </tr>\n",
       "    <tr>\n",
       "      <th>4</th>\n",
       "      <td>Fungus and Fungus</td>\n",
       "      <td>Wheat</td>\n",
       "      <td>Poaceae</td>\n",
       "      <td>0.0</td>\n",
       "      <td>1.0</td>\n",
       "      <td>20.16</td>\n",
       "      <td>22.5</td>\n",
       "      <td>Yield</td>\n",
       "      <td>0</td>\n",
       "      <td>0</td>\n",
       "      <td>...</td>\n",
       "      <td>1.0</td>\n",
       "      <td>Biotic-biotic</td>\n",
       "      <td>NaN</td>\n",
       "      <td>NaN</td>\n",
       "      <td>NaN</td>\n",
       "      <td>NaN</td>\n",
       "      <td>NaN</td>\n",
       "      <td>NaN</td>\n",
       "      <td>NaN</td>\n",
       "      <td>NaN</td>\n",
       "    </tr>\n",
       "  </tbody>\n",
       "</table>\n",
       "<p>5 rows × 30 columns</p>\n",
       "</div>"
      ],
      "text/plain": [
       "      Stress combination Plant species      Family  Simultaneous  Sequential  \\\n",
       "0  Bacteria and nematode        Potato  Solanaceae           0.0         0.0   \n",
       "1  Bacteria and nematode        Tomato  Solanaceae           0.0         0.0   \n",
       "2     Virus and bacteria        Potato  Solanaceae           0.0         0.0   \n",
       "3      Fungus and Fungus         Wheat     Poaceae           0.0         0.0   \n",
       "4      Fungus and Fungus         Wheat     Poaceae           0.0         1.0   \n",
       "\n",
       "   Plant performance  Average temperature     Parameter  Salt  Drought  ...  \\\n",
       "0              56.82                 18.5  Shoot weight     0        0  ...   \n",
       "1               8.24                 15.0  Shoot weight     0        0  ...   \n",
       "2              38.49                 18.5         Yield     0        0  ...   \n",
       "3              40.07                 22.5         Yield     0        0  ...   \n",
       "4              20.16                 22.5         Yield     0        0  ...   \n",
       "\n",
       "   Insect           Type  Mn  Pb  Zinc  Ni  Weed  Light intensity  Shade  Lead  \n",
       "0     1.0  Biotic-biotic NaN NaN   NaN NaN   NaN              NaN    NaN   NaN  \n",
       "1     1.0  Biotic-biotic NaN NaN   NaN NaN   NaN              NaN    NaN   NaN  \n",
       "2     1.0  Biotic-biotic NaN NaN   NaN NaN   NaN              NaN    NaN   NaN  \n",
       "3     1.0  Biotic-biotic NaN NaN   NaN NaN   NaN              NaN    NaN   NaN  \n",
       "4     1.0  Biotic-biotic NaN NaN   NaN NaN   NaN              NaN    NaN   NaN  \n",
       "\n",
       "[5 rows x 30 columns]"
      ]
     },
     "execution_count": 72,
     "metadata": {},
     "output_type": "execute_result"
    }
   ],
   "source": [
    "df.head()"
   ]
  },
  {
   "cell_type": "code",
   "execution_count": 73,
   "metadata": {
    "colab": {
     "base_uri": "https://localhost:8080/"
    },
    "id": "3Por6sfB150K",
    "outputId": "1e2fbaeb-7695-40ad-a875-b69035dcac6b"
   },
   "outputs": [
    {
     "data": {
      "text/plain": [
       "0.0    2629\n",
       "1.0      44\n",
       "Name: Shade, dtype: int64"
      ]
     },
     "execution_count": 73,
     "metadata": {},
     "output_type": "execute_result"
    }
   ],
   "source": [
    "df['Shade'].value_counts()"
   ]
  },
  {
   "cell_type": "code",
   "execution_count": 74,
   "metadata": {
    "colab": {
     "base_uri": "https://localhost:8080/"
    },
    "id": "gJ_Q3Hc11WV7",
    "outputId": "d9951325-7a3a-4e1f-efd5-bdd93b6fb19b"
   },
   "outputs": [
    {
     "data": {
      "text/plain": [
       "Optimum light    2607\n",
       "High light         44\n",
       "Low light          22\n",
       "Name: Light intensity, dtype: int64"
      ]
     },
     "execution_count": 74,
     "metadata": {},
     "output_type": "execute_result"
    }
   ],
   "source": [
    "df['Light intensity'].value_counts()"
   ]
  },
  {
   "cell_type": "code",
   "execution_count": 75,
   "metadata": {
    "id": "ZI9BqVEY2sfO"
   },
   "outputs": [],
   "source": [
    "df['Light intensity']=df['Light intensity'].apply(lambda x: 1 if (x=='Optimum light') else (-1 if x=='Low light' else 0))"
   ]
  },
  {
   "cell_type": "code",
   "execution_count": 76,
   "metadata": {
    "id": "wceQoP6y1BBq"
   },
   "outputs": [],
   "source": [
    "df.fillna(0,inplace=True)"
   ]
  },
  {
   "cell_type": "code",
   "execution_count": 77,
   "metadata": {
    "colab": {
     "base_uri": "https://localhost:8080/",
     "height": 324
    },
    "id": "AOU-a2LlVnAy",
    "outputId": "20ca5bb2-1f94-428f-cc6f-803514b8c33b"
   },
   "outputs": [
    {
     "data": {
      "text/html": [
       "<div>\n",
       "<style scoped>\n",
       "    .dataframe tbody tr th:only-of-type {\n",
       "        vertical-align: middle;\n",
       "    }\n",
       "\n",
       "    .dataframe tbody tr th {\n",
       "        vertical-align: top;\n",
       "    }\n",
       "\n",
       "    .dataframe thead th {\n",
       "        text-align: right;\n",
       "    }\n",
       "</style>\n",
       "<table border=\"1\" class=\"dataframe\">\n",
       "  <thead>\n",
       "    <tr style=\"text-align: right;\">\n",
       "      <th></th>\n",
       "      <th>Stress combination</th>\n",
       "      <th>Plant species</th>\n",
       "      <th>Simultaneous</th>\n",
       "      <th>Sequential</th>\n",
       "      <th>Plant performance</th>\n",
       "      <th>Average temperature</th>\n",
       "      <th>Parameter</th>\n",
       "      <th>Salt</th>\n",
       "      <th>Drought</th>\n",
       "      <th>Boron</th>\n",
       "      <th>...</th>\n",
       "      <th>Family_Linaceae</th>\n",
       "      <th>Family_Malvaceae</th>\n",
       "      <th>Family_Piperaceae</th>\n",
       "      <th>Family_Poaceae</th>\n",
       "      <th>Family_Rosaceae</th>\n",
       "      <th>Family_Solanaceae</th>\n",
       "      <th>Family_Theaceae</th>\n",
       "      <th>Family_Vitaceae</th>\n",
       "      <th>Type_Abiotic-biotic</th>\n",
       "      <th>Type_Biotic-biotic</th>\n",
       "    </tr>\n",
       "  </thead>\n",
       "  <tbody>\n",
       "    <tr>\n",
       "      <th>0</th>\n",
       "      <td>Bacteria and nematode</td>\n",
       "      <td>Potato</td>\n",
       "      <td>0.0</td>\n",
       "      <td>0.0</td>\n",
       "      <td>56.82</td>\n",
       "      <td>18.5</td>\n",
       "      <td>Shoot weight</td>\n",
       "      <td>0</td>\n",
       "      <td>0</td>\n",
       "      <td>30.0</td>\n",
       "      <td>...</td>\n",
       "      <td>0</td>\n",
       "      <td>0</td>\n",
       "      <td>0</td>\n",
       "      <td>0</td>\n",
       "      <td>0</td>\n",
       "      <td>1</td>\n",
       "      <td>0</td>\n",
       "      <td>0</td>\n",
       "      <td>0</td>\n",
       "      <td>1</td>\n",
       "    </tr>\n",
       "    <tr>\n",
       "      <th>1</th>\n",
       "      <td>Bacteria and nematode</td>\n",
       "      <td>Tomato</td>\n",
       "      <td>0.0</td>\n",
       "      <td>0.0</td>\n",
       "      <td>8.24</td>\n",
       "      <td>15.0</td>\n",
       "      <td>Shoot weight</td>\n",
       "      <td>0</td>\n",
       "      <td>0</td>\n",
       "      <td>30.0</td>\n",
       "      <td>...</td>\n",
       "      <td>0</td>\n",
       "      <td>0</td>\n",
       "      <td>0</td>\n",
       "      <td>0</td>\n",
       "      <td>0</td>\n",
       "      <td>1</td>\n",
       "      <td>0</td>\n",
       "      <td>0</td>\n",
       "      <td>0</td>\n",
       "      <td>1</td>\n",
       "    </tr>\n",
       "    <tr>\n",
       "      <th>2</th>\n",
       "      <td>Virus and bacteria</td>\n",
       "      <td>Potato</td>\n",
       "      <td>0.0</td>\n",
       "      <td>0.0</td>\n",
       "      <td>38.49</td>\n",
       "      <td>18.5</td>\n",
       "      <td>Yield</td>\n",
       "      <td>0</td>\n",
       "      <td>0</td>\n",
       "      <td>30.0</td>\n",
       "      <td>...</td>\n",
       "      <td>0</td>\n",
       "      <td>0</td>\n",
       "      <td>0</td>\n",
       "      <td>0</td>\n",
       "      <td>0</td>\n",
       "      <td>1</td>\n",
       "      <td>0</td>\n",
       "      <td>0</td>\n",
       "      <td>0</td>\n",
       "      <td>1</td>\n",
       "    </tr>\n",
       "    <tr>\n",
       "      <th>3</th>\n",
       "      <td>Fungus and Fungus</td>\n",
       "      <td>Wheat</td>\n",
       "      <td>0.0</td>\n",
       "      <td>0.0</td>\n",
       "      <td>40.07</td>\n",
       "      <td>22.5</td>\n",
       "      <td>Yield</td>\n",
       "      <td>0</td>\n",
       "      <td>0</td>\n",
       "      <td>30.0</td>\n",
       "      <td>...</td>\n",
       "      <td>0</td>\n",
       "      <td>0</td>\n",
       "      <td>0</td>\n",
       "      <td>1</td>\n",
       "      <td>0</td>\n",
       "      <td>0</td>\n",
       "      <td>0</td>\n",
       "      <td>0</td>\n",
       "      <td>0</td>\n",
       "      <td>1</td>\n",
       "    </tr>\n",
       "    <tr>\n",
       "      <th>4</th>\n",
       "      <td>Fungus and Fungus</td>\n",
       "      <td>Wheat</td>\n",
       "      <td>0.0</td>\n",
       "      <td>1.0</td>\n",
       "      <td>20.16</td>\n",
       "      <td>22.5</td>\n",
       "      <td>Yield</td>\n",
       "      <td>0</td>\n",
       "      <td>0</td>\n",
       "      <td>30.0</td>\n",
       "      <td>...</td>\n",
       "      <td>0</td>\n",
       "      <td>0</td>\n",
       "      <td>0</td>\n",
       "      <td>1</td>\n",
       "      <td>0</td>\n",
       "      <td>0</td>\n",
       "      <td>0</td>\n",
       "      <td>0</td>\n",
       "      <td>0</td>\n",
       "      <td>1</td>\n",
       "    </tr>\n",
       "  </tbody>\n",
       "</table>\n",
       "<p>5 rows × 49 columns</p>\n",
       "</div>"
      ],
      "text/plain": [
       "      Stress combination Plant species  Simultaneous  Sequential  \\\n",
       "0  Bacteria and nematode        Potato           0.0         0.0   \n",
       "1  Bacteria and nematode        Tomato           0.0         0.0   \n",
       "2     Virus and bacteria        Potato           0.0         0.0   \n",
       "3      Fungus and Fungus         Wheat           0.0         0.0   \n",
       "4      Fungus and Fungus         Wheat           0.0         1.0   \n",
       "\n",
       "   Plant performance  Average temperature     Parameter  Salt  Drought  Boron  \\\n",
       "0              56.82                 18.5  Shoot weight     0        0   30.0   \n",
       "1               8.24                 15.0  Shoot weight     0        0   30.0   \n",
       "2              38.49                 18.5         Yield     0        0   30.0   \n",
       "3              40.07                 22.5         Yield     0        0   30.0   \n",
       "4              20.16                 22.5         Yield     0        0   30.0   \n",
       "\n",
       "   ...  Family_Linaceae  Family_Malvaceae  Family_Piperaceae  Family_Poaceae  \\\n",
       "0  ...                0                 0                  0               0   \n",
       "1  ...                0                 0                  0               0   \n",
       "2  ...                0                 0                  0               0   \n",
       "3  ...                0                 0                  0               1   \n",
       "4  ...                0                 0                  0               1   \n",
       "\n",
       "   Family_Rosaceae  Family_Solanaceae  Family_Theaceae  Family_Vitaceae  \\\n",
       "0                0                  1                0                0   \n",
       "1                0                  1                0                0   \n",
       "2                0                  1                0                0   \n",
       "3                0                  0                0                0   \n",
       "4                0                  0                0                0   \n",
       "\n",
       "   Type_Abiotic-biotic  Type_Biotic-biotic  \n",
       "0                    0                   1  \n",
       "1                    0                   1  \n",
       "2                    0                   1  \n",
       "3                    0                   1  \n",
       "4                    0                   1  \n",
       "\n",
       "[5 rows x 49 columns]"
      ]
     },
     "execution_count": 77,
     "metadata": {},
     "output_type": "execute_result"
    }
   ],
   "source": [
    "df1=pd.get_dummies(df,columns=['Family','Type'],drop_first=True)\n",
    "df1.head()"
   ]
  },
  {
   "cell_type": "code",
   "execution_count": 78,
   "metadata": {
    "colab": {
     "base_uri": "https://localhost:8080/"
    },
    "id": "cQf4E3YU4slu",
    "outputId": "1e6d5ede-2ee2-4fd9-fa5f-b20249a0a2d7"
   },
   "outputs": [
    {
     "name": "stdout",
     "output_type": "stream",
     "text": [
      "<class 'pandas.core.frame.DataFrame'>\n",
      "RangeIndex: 7898 entries, 0 to 7897\n",
      "Data columns (total 47 columns):\n",
      " #   Column                  Non-Null Count  Dtype  \n",
      "---  ------                  --------------  -----  \n",
      " 0   Simultaneous            7898 non-null   float64\n",
      " 1   Sequential              7898 non-null   float64\n",
      " 2   Plant performance       7898 non-null   float64\n",
      " 3   Average temperature     7898 non-null   float64\n",
      " 4   Parameter               7898 non-null   object \n",
      " 5   Salt                    7898 non-null   int32  \n",
      " 6   Drought                 7898 non-null   int32  \n",
      " 7   Boron                   7898 non-null   float64\n",
      " 8   Cd                      7898 non-null   float64\n",
      " 9   UV                      7898 non-null   float64\n",
      " 10  Ozone                   7898 non-null   float64\n",
      " 11  Waterlogging            7898 non-null   int32  \n",
      " 12  Bacteria                7898 non-null   float64\n",
      " 13  Fungus                  7898 non-null   float64\n",
      " 14  Oomycete                7898 non-null   float64\n",
      " 15  Virus                   7898 non-null   float64\n",
      " 16  Nematode                7898 non-null   float64\n",
      " 17  Insect                  7898 non-null   float64\n",
      " 18  Mn                      7898 non-null   float64\n",
      " 19  Pb                      7898 non-null   float64\n",
      " 20  Zinc                    7898 non-null   float64\n",
      " 21  Ni                      7898 non-null   float64\n",
      " 22  Weed                    7898 non-null   float64\n",
      " 23  Light intensity         7898 non-null   int64  \n",
      " 24  Shade                   7898 non-null   float64\n",
      " 25  Lead                    7898 non-null   float64\n",
      " 26  Family_Aizoaceae        7898 non-null   uint8  \n",
      " 27  Family_Amaranthaceae    7898 non-null   uint8  \n",
      " 28  Family_Araliaceae       7898 non-null   uint8  \n",
      " 29  Family_Asteraceae       7898 non-null   uint8  \n",
      " 30  Family_Brassicaceae     7898 non-null   uint8  \n",
      " 31  Family_Caricaceae       7898 non-null   uint8  \n",
      " 32  Family_Caryophyllaceae  7898 non-null   uint8  \n",
      " 33  Family_Cucurbitaceae    7898 non-null   uint8  \n",
      " 34  Family_Euphorbiaceae    7898 non-null   uint8  \n",
      " 35  Family_Fabaceae         7898 non-null   uint8  \n",
      " 36  Family_Lamiaceae        7898 non-null   uint8  \n",
      " 37  Family_Linaceae         7898 non-null   uint8  \n",
      " 38  Family_Malvaceae        7898 non-null   uint8  \n",
      " 39  Family_Piperaceae       7898 non-null   uint8  \n",
      " 40  Family_Poaceae          7898 non-null   uint8  \n",
      " 41  Family_Rosaceae         7898 non-null   uint8  \n",
      " 42  Family_Solanaceae       7898 non-null   uint8  \n",
      " 43  Family_Theaceae         7898 non-null   uint8  \n",
      " 44  Family_Vitaceae         7898 non-null   uint8  \n",
      " 45  Type_Abiotic-biotic     7898 non-null   uint8  \n",
      " 46  Type_Biotic-biotic      7898 non-null   uint8  \n",
      "dtypes: float64(21), int32(3), int64(1), object(1), uint8(21)\n",
      "memory usage: 1.6+ MB\n"
     ]
    }
   ],
   "source": [
    "df1.drop(['Stress combination','Plant species'],axis=1,inplace=True)\n",
    "\n",
    "df1.info()"
   ]
  },
  {
   "cell_type": "code",
   "execution_count": 79,
   "metadata": {
    "colab": {
     "base_uri": "https://localhost:8080/"
    },
    "id": "P2_cu9vx4JLC",
    "outputId": "21a69926-01fe-471d-d8f3-bec8806d4f0a"
   },
   "outputs": [
    {
     "data": {
      "text/plain": [
       "51"
      ]
     },
     "execution_count": 79,
     "metadata": {},
     "output_type": "execute_result"
    }
   ],
   "source": [
    "df1.Parameter.value_counts().count()"
   ]
  },
  {
   "cell_type": "code",
   "execution_count": 80,
   "metadata": {
    "id": "YRy-7zdJdCxr"
   },
   "outputs": [],
   "source": [
    "df1=df1[df1['Parameter']!='Harvest Index']"
   ]
  },
  {
   "cell_type": "code",
   "execution_count": 81,
   "metadata": {
    "colab": {
     "base_uri": "https://localhost:8080/",
     "height": 357
    },
    "id": "676X_SZfsjO8",
    "outputId": "a447c11f-f8db-49aa-f1bb-461bbc58346f"
   },
   "outputs": [
    {
     "data": {
      "text/html": [
       "<div>\n",
       "<style scoped>\n",
       "    .dataframe tbody tr th:only-of-type {\n",
       "        vertical-align: middle;\n",
       "    }\n",
       "\n",
       "    .dataframe tbody tr th {\n",
       "        vertical-align: top;\n",
       "    }\n",
       "\n",
       "    .dataframe thead th {\n",
       "        text-align: right;\n",
       "    }\n",
       "</style>\n",
       "<table border=\"1\" class=\"dataframe\">\n",
       "  <thead>\n",
       "    <tr style=\"text-align: right;\">\n",
       "      <th></th>\n",
       "      <th>Parameter</th>\n",
       "      <th>Count</th>\n",
       "      <th>New</th>\n",
       "    </tr>\n",
       "  </thead>\n",
       "  <tbody>\n",
       "    <tr>\n",
       "      <th>0</th>\n",
       "      <td>Shoot weight</td>\n",
       "      <td>1507</td>\n",
       "      <td>Biomass</td>\n",
       "    </tr>\n",
       "    <tr>\n",
       "      <th>1</th>\n",
       "      <td>Yield</td>\n",
       "      <td>1386</td>\n",
       "      <td>Yield</td>\n",
       "    </tr>\n",
       "    <tr>\n",
       "      <th>2</th>\n",
       "      <td>Plant height</td>\n",
       "      <td>495</td>\n",
       "      <td>Plant growth</td>\n",
       "    </tr>\n",
       "    <tr>\n",
       "      <th>3</th>\n",
       "      <td>Biomass</td>\n",
       "      <td>330</td>\n",
       "      <td>Biomass</td>\n",
       "    </tr>\n",
       "    <tr>\n",
       "      <th>4</th>\n",
       "      <td>Total plant weight</td>\n",
       "      <td>297</td>\n",
       "      <td>Biomass</td>\n",
       "    </tr>\n",
       "    <tr>\n",
       "      <th>5</th>\n",
       "      <td>Shoot dry weight</td>\n",
       "      <td>297</td>\n",
       "      <td>Biomass</td>\n",
       "    </tr>\n",
       "    <tr>\n",
       "      <th>6</th>\n",
       "      <td>Biomass</td>\n",
       "      <td>275</td>\n",
       "      <td>Biomass</td>\n",
       "    </tr>\n",
       "    <tr>\n",
       "      <th>7</th>\n",
       "      <td>Root length</td>\n",
       "      <td>242</td>\n",
       "      <td>Plant growth</td>\n",
       "    </tr>\n",
       "    <tr>\n",
       "      <th>8</th>\n",
       "      <td>Leaf area</td>\n",
       "      <td>231</td>\n",
       "      <td>Plant growth</td>\n",
       "    </tr>\n",
       "    <tr>\n",
       "      <th>9</th>\n",
       "      <td>Dry weight</td>\n",
       "      <td>198</td>\n",
       "      <td>Biomass</td>\n",
       "    </tr>\n",
       "  </tbody>\n",
       "</table>\n",
       "</div>"
      ],
      "text/plain": [
       "            Parameter  Count           New\n",
       "0        Shoot weight   1507       Biomass\n",
       "1               Yield   1386         Yield\n",
       "2        Plant height    495  Plant growth\n",
       "3             Biomass    330       Biomass\n",
       "4  Total plant weight    297       Biomass\n",
       "5    Shoot dry weight    297       Biomass\n",
       "6             Biomass    275       Biomass\n",
       "7         Root length    242  Plant growth\n",
       "8           Leaf area    231  Plant growth\n",
       "9          Dry weight    198       Biomass"
      ]
     },
     "execution_count": 81,
     "metadata": {},
     "output_type": "execute_result"
    }
   ],
   "source": [
    "p=pd.read_csv('../../../../param.csv')\n",
    "p.head(10)"
   ]
  },
  {
   "cell_type": "code",
   "execution_count": 82,
   "metadata": {
    "colab": {
     "base_uri": "https://localhost:8080/"
    },
    "id": "nz0g2ZAuc_yl",
    "outputId": "38b1bacb-b907-412d-df6b-0edadc7c71f7"
   },
   "outputs": [
    {
     "data": {
      "text/plain": [
       "7293"
      ]
     },
     "execution_count": 82,
     "metadata": {},
     "output_type": "execute_result"
    }
   ],
   "source": [
    "p.Count.sum()"
   ]
  },
  {
   "cell_type": "code",
   "execution_count": 83,
   "metadata": {
    "colab": {
     "base_uri": "https://localhost:8080/"
    },
    "id": "S3U5nHWg4vp_",
    "outputId": "48ee6688-9a66-4baa-a958-7c7609624316"
   },
   "outputs": [
    {
     "data": {
      "text/plain": [
       "50"
      ]
     },
     "execution_count": 83,
     "metadata": {},
     "output_type": "execute_result"
    }
   ],
   "source": [
    "p.Parameter.value_counts().count()"
   ]
  },
  {
   "cell_type": "code",
   "execution_count": 84,
   "metadata": {
    "colab": {
     "base_uri": "https://localhost:8080/"
    },
    "id": "R7s3nc4-hF_F",
    "outputId": "b03733b4-e8bf-4420-d0fd-f48e1f67c18e"
   },
   "outputs": [
    {
     "data": {
      "text/plain": [
       "{'Biomass ', 'Root dry mass', 'Seed yield/plant', 'root dry mass'}"
      ]
     },
     "execution_count": 84,
     "metadata": {},
     "output_type": "execute_result"
    }
   ],
   "source": [
    "set(df1.Parameter.unique())-set(p.Parameter.unique())"
   ]
  },
  {
   "cell_type": "code",
   "execution_count": 85,
   "metadata": {
    "colab": {
     "base_uri": "https://localhost:8080/"
    },
    "id": "gQhs54LU3pOa",
    "outputId": "bb0d1ca8-d3fc-4d73-8a41-63252929d35b"
   },
   "outputs": [
    {
     "data": {
      "text/plain": [
       "Yield           18\n",
       "Biomass         17\n",
       "Plant growth    17\n",
       "Name: New, dtype: int64"
      ]
     },
     "execution_count": 85,
     "metadata": {},
     "output_type": "execute_result"
    }
   ],
   "source": [
    "p.New.value_counts()"
   ]
  },
  {
   "cell_type": "code",
   "execution_count": 86,
   "metadata": {
    "id": "X6x1wNJ54o-d"
   },
   "outputs": [],
   "source": [
    "df1.loc[df1['Parameter']=='Biomass ','Parameter']='Biomass'\n",
    "df1.loc[df1['Parameter']=='Root dry mass','Parameter']='Root dry weight'\n",
    "df1.loc[df1['Parameter']=='root dry mass','Parameter']='Root dry weight'\n",
    "df1.loc[df1['Parameter']=='Seed yield/plant','Parameter']='Seed yield'"
   ]
  },
  {
   "cell_type": "code",
   "execution_count": 87,
   "metadata": {},
   "outputs": [
    {
     "data": {
      "text/html": [
       "<div>\n",
       "<style scoped>\n",
       "    .dataframe tbody tr th:only-of-type {\n",
       "        vertical-align: middle;\n",
       "    }\n",
       "\n",
       "    .dataframe tbody tr th {\n",
       "        vertical-align: top;\n",
       "    }\n",
       "\n",
       "    .dataframe thead th {\n",
       "        text-align: right;\n",
       "    }\n",
       "</style>\n",
       "<table border=\"1\" class=\"dataframe\">\n",
       "  <thead>\n",
       "    <tr style=\"text-align: right;\">\n",
       "      <th></th>\n",
       "      <th>Parameter</th>\n",
       "      <th>Count</th>\n",
       "      <th>New</th>\n",
       "    </tr>\n",
       "  </thead>\n",
       "  <tbody>\n",
       "    <tr>\n",
       "      <th>6</th>\n",
       "      <td>Biomass</td>\n",
       "      <td>275</td>\n",
       "      <td>Biomass</td>\n",
       "    </tr>\n",
       "    <tr>\n",
       "      <th>7</th>\n",
       "      <td>Root length</td>\n",
       "      <td>242</td>\n",
       "      <td>Plant growth</td>\n",
       "    </tr>\n",
       "    <tr>\n",
       "      <th>8</th>\n",
       "      <td>Leaf area</td>\n",
       "      <td>231</td>\n",
       "      <td>Plant growth</td>\n",
       "    </tr>\n",
       "    <tr>\n",
       "      <th>9</th>\n",
       "      <td>Dry weight</td>\n",
       "      <td>198</td>\n",
       "      <td>Biomass</td>\n",
       "    </tr>\n",
       "    <tr>\n",
       "      <th>10</th>\n",
       "      <td>Root dry weight</td>\n",
       "      <td>165</td>\n",
       "      <td>Biomass</td>\n",
       "    </tr>\n",
       "    <tr>\n",
       "      <th>11</th>\n",
       "      <td>Total dry weight</td>\n",
       "      <td>99</td>\n",
       "      <td>Biomass</td>\n",
       "    </tr>\n",
       "    <tr>\n",
       "      <th>12</th>\n",
       "      <td>Mean tuber weight</td>\n",
       "      <td>99</td>\n",
       "      <td>Yield</td>\n",
       "    </tr>\n",
       "    <tr>\n",
       "      <th>13</th>\n",
       "      <td>Fresh weight</td>\n",
       "      <td>99</td>\n",
       "      <td>Biomass</td>\n",
       "    </tr>\n",
       "    <tr>\n",
       "      <th>14</th>\n",
       "      <td>Grain yield</td>\n",
       "      <td>99</td>\n",
       "      <td>Yield</td>\n",
       "    </tr>\n",
       "    <tr>\n",
       "      <th>15</th>\n",
       "      <td>Weight per grain</td>\n",
       "      <td>99</td>\n",
       "      <td>Yield</td>\n",
       "    </tr>\n",
       "    <tr>\n",
       "      <th>16</th>\n",
       "      <td>Grains per spike</td>\n",
       "      <td>99</td>\n",
       "      <td>Yield</td>\n",
       "    </tr>\n",
       "    <tr>\n",
       "      <th>17</th>\n",
       "      <td>Shoot height</td>\n",
       "      <td>66</td>\n",
       "      <td>Plant growth</td>\n",
       "    </tr>\n",
       "    <tr>\n",
       "      <th>18</th>\n",
       "      <td>Seed number</td>\n",
       "      <td>66</td>\n",
       "      <td>Yield</td>\n",
       "    </tr>\n",
       "    <tr>\n",
       "      <th>19</th>\n",
       "      <td>Root weight</td>\n",
       "      <td>66</td>\n",
       "      <td>Biomass</td>\n",
       "    </tr>\n",
       "    <tr>\n",
       "      <th>20</th>\n",
       "      <td>Shoot fresh weight</td>\n",
       "      <td>66</td>\n",
       "      <td>Biomass</td>\n",
       "    </tr>\n",
       "    <tr>\n",
       "      <th>21</th>\n",
       "      <td>Leaf dry weight</td>\n",
       "      <td>55</td>\n",
       "      <td>Biomass</td>\n",
       "    </tr>\n",
       "    <tr>\n",
       "      <th>22</th>\n",
       "      <td>Pod weight</td>\n",
       "      <td>55</td>\n",
       "      <td>Yield</td>\n",
       "    </tr>\n",
       "    <tr>\n",
       "      <th>23</th>\n",
       "      <td>Grains number/ year</td>\n",
       "      <td>55</td>\n",
       "      <td>Yield</td>\n",
       "    </tr>\n",
       "    <tr>\n",
       "      <th>24</th>\n",
       "      <td>1000 grain weight</td>\n",
       "      <td>33</td>\n",
       "      <td>Yield</td>\n",
       "    </tr>\n",
       "    <tr>\n",
       "      <th>25</th>\n",
       "      <td>Seed yield</td>\n",
       "      <td>33</td>\n",
       "      <td>Yield</td>\n",
       "    </tr>\n",
       "    <tr>\n",
       "      <th>26</th>\n",
       "      <td>Growth rate</td>\n",
       "      <td>33</td>\n",
       "      <td>Plant growth</td>\n",
       "    </tr>\n",
       "    <tr>\n",
       "      <th>27</th>\n",
       "      <td>Number of seeds</td>\n",
       "      <td>33</td>\n",
       "      <td>Yield</td>\n",
       "    </tr>\n",
       "    <tr>\n",
       "      <th>28</th>\n",
       "      <td>Grain set index</td>\n",
       "      <td>33</td>\n",
       "      <td>Yield</td>\n",
       "    </tr>\n",
       "    <tr>\n",
       "      <th>29</th>\n",
       "      <td>Leaf elongation rate</td>\n",
       "      <td>33</td>\n",
       "      <td>Plant growth</td>\n",
       "    </tr>\n",
       "    <tr>\n",
       "      <th>30</th>\n",
       "      <td>Leaf blade mass</td>\n",
       "      <td>33</td>\n",
       "      <td>Biomass</td>\n",
       "    </tr>\n",
       "    <tr>\n",
       "      <th>31</th>\n",
       "      <td>Root fresh weight</td>\n",
       "      <td>33</td>\n",
       "      <td>Biomass</td>\n",
       "    </tr>\n",
       "    <tr>\n",
       "      <th>32</th>\n",
       "      <td>Number of leaves</td>\n",
       "      <td>33</td>\n",
       "      <td>Plant growth</td>\n",
       "    </tr>\n",
       "    <tr>\n",
       "      <th>33</th>\n",
       "      <td>Dry weight of stems</td>\n",
       "      <td>33</td>\n",
       "      <td>Biomass</td>\n",
       "    </tr>\n",
       "    <tr>\n",
       "      <th>34</th>\n",
       "      <td>Yield of ripe fruits</td>\n",
       "      <td>33</td>\n",
       "      <td>Yield</td>\n",
       "    </tr>\n",
       "    <tr>\n",
       "      <th>35</th>\n",
       "      <td>Leaf blade diameter</td>\n",
       "      <td>33</td>\n",
       "      <td>Plant growth</td>\n",
       "    </tr>\n",
       "    <tr>\n",
       "      <th>36</th>\n",
       "      <td>Number of root tips</td>\n",
       "      <td>33</td>\n",
       "      <td>Plant growth</td>\n",
       "    </tr>\n",
       "    <tr>\n",
       "      <th>37</th>\n",
       "      <td>Grain weight/plant</td>\n",
       "      <td>33</td>\n",
       "      <td>Yield</td>\n",
       "    </tr>\n",
       "    <tr>\n",
       "      <th>38</th>\n",
       "      <td>Filled grain weight</td>\n",
       "      <td>33</td>\n",
       "      <td>Yield</td>\n",
       "    </tr>\n",
       "    <tr>\n",
       "      <th>39</th>\n",
       "      <td>Shoot biomass</td>\n",
       "      <td>33</td>\n",
       "      <td>Biomass</td>\n",
       "    </tr>\n",
       "    <tr>\n",
       "      <th>40</th>\n",
       "      <td>Number of spikelets per panicle</td>\n",
       "      <td>33</td>\n",
       "      <td>Yield</td>\n",
       "    </tr>\n",
       "    <tr>\n",
       "      <th>41</th>\n",
       "      <td>Number of filled grains per panicle</td>\n",
       "      <td>33</td>\n",
       "      <td>Yield</td>\n",
       "    </tr>\n",
       "    <tr>\n",
       "      <th>42</th>\n",
       "      <td>Leaf number</td>\n",
       "      <td>33</td>\n",
       "      <td>Plant growth</td>\n",
       "    </tr>\n",
       "    <tr>\n",
       "      <th>43</th>\n",
       "      <td>Stem diameter</td>\n",
       "      <td>33</td>\n",
       "      <td>Plant growth</td>\n",
       "    </tr>\n",
       "    <tr>\n",
       "      <th>44</th>\n",
       "      <td>Seed weight</td>\n",
       "      <td>33</td>\n",
       "      <td>Yield</td>\n",
       "    </tr>\n",
       "    <tr>\n",
       "      <th>45</th>\n",
       "      <td>Shoot dry mass</td>\n",
       "      <td>22</td>\n",
       "      <td>Biomass</td>\n",
       "    </tr>\n",
       "    <tr>\n",
       "      <th>46</th>\n",
       "      <td>Shoot length</td>\n",
       "      <td>22</td>\n",
       "      <td>Plant growth</td>\n",
       "    </tr>\n",
       "    <tr>\n",
       "      <th>47</th>\n",
       "      <td>Secondary branches per plant</td>\n",
       "      <td>22</td>\n",
       "      <td>Plant growth</td>\n",
       "    </tr>\n",
       "    <tr>\n",
       "      <th>48</th>\n",
       "      <td>Primary branches per plant</td>\n",
       "      <td>22</td>\n",
       "      <td>Plant growth</td>\n",
       "    </tr>\n",
       "    <tr>\n",
       "      <th>49</th>\n",
       "      <td>Secondary branches per plant</td>\n",
       "      <td>22</td>\n",
       "      <td>Plant growth</td>\n",
       "    </tr>\n",
       "    <tr>\n",
       "      <th>50</th>\n",
       "      <td>Shoot: root ratio</td>\n",
       "      <td>22</td>\n",
       "      <td>Plant growth</td>\n",
       "    </tr>\n",
       "    <tr>\n",
       "      <th>51</th>\n",
       "      <td>Tertiary branches per plant</td>\n",
       "      <td>22</td>\n",
       "      <td>Plant growth</td>\n",
       "    </tr>\n",
       "  </tbody>\n",
       "</table>\n",
       "</div>"
      ],
      "text/plain": [
       "                              Parameter  Count           New\n",
       "6                               Biomass    275       Biomass\n",
       "7                           Root length    242  Plant growth\n",
       "8                             Leaf area    231  Plant growth\n",
       "9                            Dry weight    198       Biomass\n",
       "10                      Root dry weight    165       Biomass\n",
       "11                     Total dry weight     99       Biomass\n",
       "12                    Mean tuber weight     99         Yield\n",
       "13                         Fresh weight     99       Biomass\n",
       "14                          Grain yield     99         Yield\n",
       "15                     Weight per grain     99         Yield\n",
       "16                     Grains per spike     99         Yield\n",
       "17                         Shoot height     66  Plant growth\n",
       "18                          Seed number     66         Yield\n",
       "19                          Root weight     66       Biomass\n",
       "20                   Shoot fresh weight     66       Biomass\n",
       "21                      Leaf dry weight     55       Biomass\n",
       "22                           Pod weight     55         Yield\n",
       "23                  Grains number/ year     55         Yield\n",
       "24                    1000 grain weight     33         Yield\n",
       "25                           Seed yield     33         Yield\n",
       "26                          Growth rate     33  Plant growth\n",
       "27                      Number of seeds     33         Yield\n",
       "28                      Grain set index     33         Yield\n",
       "29                 Leaf elongation rate     33  Plant growth\n",
       "30                      Leaf blade mass     33       Biomass\n",
       "31                    Root fresh weight     33       Biomass\n",
       "32                     Number of leaves     33  Plant growth\n",
       "33                  Dry weight of stems     33       Biomass\n",
       "34                 Yield of ripe fruits     33         Yield\n",
       "35                  Leaf blade diameter     33  Plant growth\n",
       "36                  Number of root tips     33  Plant growth\n",
       "37                   Grain weight/plant     33         Yield\n",
       "38                  Filled grain weight     33         Yield\n",
       "39                        Shoot biomass     33       Biomass\n",
       "40      Number of spikelets per panicle     33         Yield\n",
       "41  Number of filled grains per panicle     33         Yield\n",
       "42                          Leaf number     33  Plant growth\n",
       "43                        Stem diameter     33  Plant growth\n",
       "44                          Seed weight     33         Yield\n",
       "45                       Shoot dry mass     22       Biomass\n",
       "46                         Shoot length     22  Plant growth\n",
       "47         Secondary branches per plant     22  Plant growth\n",
       "48          Primary branches per plant      22  Plant growth\n",
       "49         Secondary branches per plant     22  Plant growth\n",
       "50                    Shoot: root ratio     22  Plant growth\n",
       "51          Tertiary branches per plant     22  Plant growth"
      ]
     },
     "execution_count": 87,
     "metadata": {},
     "output_type": "execute_result"
    }
   ],
   "source": [
    "p.iloc[6:]"
   ]
  },
  {
   "cell_type": "code",
   "execution_count": 88,
   "metadata": {
    "id": "tME6HiUr99zn"
   },
   "outputs": [],
   "source": [
    "p.drop(6,inplace=True)"
   ]
  },
  {
   "cell_type": "code",
   "execution_count": 89,
   "metadata": {
    "colab": {
     "base_uri": "https://localhost:8080/"
    },
    "id": "A5prpMlpuyQW",
    "outputId": "ae369b99-1f35-4771-8c0c-9509df4f1460"
   },
   "outputs": [
    {
     "data": {
      "text/plain": [
       "(7799, 47)"
      ]
     },
     "execution_count": 89,
     "metadata": {},
     "output_type": "execute_result"
    }
   ],
   "source": [
    "df1=df1.merge(p,left_on='Parameter',right_on='Parameter',how='left')\n",
    "#df1.drop(['Count','Unnamed: 3','Parameter','Unnamed: 4','Unnamed: 5','Unnamed: 6','Unnamed: 7','Unnamed: 8'],axis=1,inplace=True)\n",
    "df1.drop(['Count','Parameter'],axis=1,inplace=True)\n",
    "\n",
    "#df1.drop('Parameter',axis=1,inplace=True)\n",
    "df1=df1.rename(columns={'New':'Parameter'})\n",
    "df1.shape"
   ]
  },
  {
   "cell_type": "code",
   "execution_count": 90,
   "metadata": {
    "colab": {
     "base_uri": "https://localhost:8080/"
    },
    "id": "R8Hlg50B2_2j",
    "outputId": "8501a14b-cb75-4e3b-dc2c-76a5d5d8e50a"
   },
   "outputs": [
    {
     "data": {
      "text/plain": [
       "Biomass         3927\n",
       "Yield           2376\n",
       "Plant growth    1496\n",
       "Name: Parameter, dtype: int64"
      ]
     },
     "execution_count": 90,
     "metadata": {},
     "output_type": "execute_result"
    }
   ],
   "source": [
    "df1.Parameter.value_counts()"
   ]
  },
  {
   "cell_type": "code",
   "execution_count": 91,
   "metadata": {
    "colab": {
     "base_uri": "https://localhost:8080/",
     "height": 282
    },
    "id": "EP1c5dj4LEhK",
    "outputId": "8936e3d2-b22c-4211-fb12-930d65710494"
   },
   "outputs": [
    {
     "data": {
      "text/plain": [
       "<AxesSubplot:>"
      ]
     },
     "execution_count": 91,
     "metadata": {},
     "output_type": "execute_result"
    },
    {
     "data": {
      "image/png": "[encoded data removed]",
      "text/plain": [
       "<Figure size 432x288 with 1 Axes>"
      ]
     },
     "metadata": {
      "needs_background": "light"
     },
     "output_type": "display_data"
    }
   ],
   "source": [
    "df1.Parameter.hist()"
   ]
  },
  {
   "cell_type": "code",
   "execution_count": 92,
   "metadata": {
    "colab": {
     "base_uri": "https://localhost:8080/"
    },
    "id": "4oj4UTH5M7HU",
    "outputId": "a367544b-116f-41b2-d43d-fca8e96f6dc5"
   },
   "outputs": [
    {
     "data": {
      "text/plain": [
       "count    7799.000000\n",
       "mean       29.247971\n",
       "std        30.336165\n",
       "min      -105.550000\n",
       "25%        12.200000\n",
       "50%        27.100000\n",
       "75%        47.285000\n",
       "max       269.050000\n",
       "Name: Plant performance, dtype: float64"
      ]
     },
     "execution_count": 92,
     "metadata": {},
     "output_type": "execute_result"
    }
   ],
   "source": [
    "df1['Plant performance'].describe()"
   ]
  },
  {
   "cell_type": "code",
   "execution_count": 93,
   "metadata": {
    "id": "HpRKgMWH2WoR"
   },
   "outputs": [],
   "source": [
    "#df1.loc[5595:5605]"
   ]
  },
  {
   "cell_type": "code",
   "execution_count": 94,
   "metadata": {
    "colab": {
     "base_uri": "https://localhost:8080/",
     "height": 500
    },
    "id": "mlR9vPpidfQd",
    "outputId": "cf2e58d3-6131-4647-bc43-4e89484db1e7"
   },
   "outputs": [
    {
     "data": {
      "text/plain": [
       "<AxesSubplot:>"
      ]
     },
     "execution_count": 94,
     "metadata": {},
     "output_type": "execute_result"
    },
    {
     "data": {
      "image/png": "[encoded data removed]",
      "text/plain": [
       "<Figure size 576x576 with 1 Axes>"
      ]
     },
     "metadata": {
      "needs_background": "light"
     },
     "output_type": "display_data"
    }
   ],
   "source": [
    "df1['Plant performance'].plot(kind='box',figsize=(8,8))"
   ]
  },
  {
   "cell_type": "code",
   "execution_count": 95,
   "metadata": {
    "colab": {
     "base_uri": "https://localhost:8080/",
     "height": 282
    },
    "id": "t2AYYtmaNHvZ",
    "outputId": "66061249-5734-427e-93f8-a70500f50961"
   },
   "outputs": [
    {
     "data": {
      "text/plain": [
       "<AxesSubplot:>"
      ]
     },
     "execution_count": 95,
     "metadata": {},
     "output_type": "execute_result"
    },
    {
     "data": {
      "image/png": "[encoded data removed]",
      "text/plain": [
       "<Figure size 432x288 with 1 Axes>"
      ]
     },
     "metadata": {
      "needs_background": "light"
     },
     "output_type": "display_data"
    }
   ],
   "source": [
    "df1['Plant performance'].hist()"
   ]
  },
  {
   "cell_type": "code",
   "execution_count": 96,
   "metadata": {
    "id": "lhmj0ewf8vNu"
   },
   "outputs": [],
   "source": [
    "y = df1[['Plant performance','Parameter']].copy()\n",
    "le=LabelEncoder()\n",
    "y['Parameter']=le.fit_transform(y['Parameter'])\n",
    "\n",
    "X_train, X_test, y_train, y_test = train_test_split(df1.drop(['Plant performance','Parameter'],axis=1), y, stratify = y.Parameter)"
   ]
  },
  {
   "cell_type": "code",
   "execution_count": 97,
   "metadata": {},
   "outputs": [
    {
     "data": {
      "text/html": [
       "<div>\n",
       "<style scoped>\n",
       "    .dataframe tbody tr th:only-of-type {\n",
       "        vertical-align: middle;\n",
       "    }\n",
       "\n",
       "    .dataframe tbody tr th {\n",
       "        vertical-align: top;\n",
       "    }\n",
       "\n",
       "    .dataframe thead th {\n",
       "        text-align: right;\n",
       "    }\n",
       "</style>\n",
       "<table border=\"1\" class=\"dataframe\">\n",
       "  <thead>\n",
       "    <tr style=\"text-align: right;\">\n",
       "      <th></th>\n",
       "      <th>Simultaneous</th>\n",
       "      <th>Sequential</th>\n",
       "      <th>Average temperature</th>\n",
       "      <th>Salt</th>\n",
       "      <th>Drought</th>\n",
       "      <th>Boron</th>\n",
       "      <th>Cd</th>\n",
       "      <th>UV</th>\n",
       "      <th>Ozone</th>\n",
       "      <th>Waterlogging</th>\n",
       "      <th>...</th>\n",
       "      <th>Family_Linaceae</th>\n",
       "      <th>Family_Malvaceae</th>\n",
       "      <th>Family_Piperaceae</th>\n",
       "      <th>Family_Poaceae</th>\n",
       "      <th>Family_Rosaceae</th>\n",
       "      <th>Family_Solanaceae</th>\n",
       "      <th>Family_Theaceae</th>\n",
       "      <th>Family_Vitaceae</th>\n",
       "      <th>Type_Abiotic-biotic</th>\n",
       "      <th>Type_Biotic-biotic</th>\n",
       "    </tr>\n",
       "  </thead>\n",
       "  <tbody>\n",
       "    <tr>\n",
       "      <th>1791</th>\n",
       "      <td>0.0</td>\n",
       "      <td>1.0</td>\n",
       "      <td>24.80</td>\n",
       "      <td>0</td>\n",
       "      <td>0</td>\n",
       "      <td>30.0</td>\n",
       "      <td>0.0</td>\n",
       "      <td>1.0</td>\n",
       "      <td>0.0</td>\n",
       "      <td>0</td>\n",
       "      <td>...</td>\n",
       "      <td>0</td>\n",
       "      <td>0</td>\n",
       "      <td>0</td>\n",
       "      <td>0</td>\n",
       "      <td>0</td>\n",
       "      <td>0</td>\n",
       "      <td>0</td>\n",
       "      <td>0</td>\n",
       "      <td>0</td>\n",
       "      <td>1</td>\n",
       "    </tr>\n",
       "    <tr>\n",
       "      <th>2170</th>\n",
       "      <td>1.0</td>\n",
       "      <td>0.0</td>\n",
       "      <td>21.35</td>\n",
       "      <td>0</td>\n",
       "      <td>0</td>\n",
       "      <td>30.0</td>\n",
       "      <td>0.0</td>\n",
       "      <td>1.0</td>\n",
       "      <td>0.0</td>\n",
       "      <td>0</td>\n",
       "      <td>...</td>\n",
       "      <td>0</td>\n",
       "      <td>0</td>\n",
       "      <td>0</td>\n",
       "      <td>0</td>\n",
       "      <td>0</td>\n",
       "      <td>0</td>\n",
       "      <td>0</td>\n",
       "      <td>0</td>\n",
       "      <td>0</td>\n",
       "      <td>1</td>\n",
       "    </tr>\n",
       "    <tr>\n",
       "      <th>2794</th>\n",
       "      <td>0.0</td>\n",
       "      <td>0.0</td>\n",
       "      <td>20.60</td>\n",
       "      <td>0</td>\n",
       "      <td>0</td>\n",
       "      <td>30.0</td>\n",
       "      <td>0.0</td>\n",
       "      <td>1.0</td>\n",
       "      <td>0.0</td>\n",
       "      <td>0</td>\n",
       "      <td>...</td>\n",
       "      <td>0</td>\n",
       "      <td>0</td>\n",
       "      <td>0</td>\n",
       "      <td>0</td>\n",
       "      <td>0</td>\n",
       "      <td>0</td>\n",
       "      <td>1</td>\n",
       "      <td>0</td>\n",
       "      <td>0</td>\n",
       "      <td>1</td>\n",
       "    </tr>\n",
       "    <tr>\n",
       "      <th>3304</th>\n",
       "      <td>0.0</td>\n",
       "      <td>1.0</td>\n",
       "      <td>29.10</td>\n",
       "      <td>0</td>\n",
       "      <td>0</td>\n",
       "      <td>30.0</td>\n",
       "      <td>0.0</td>\n",
       "      <td>1.0</td>\n",
       "      <td>0.0</td>\n",
       "      <td>0</td>\n",
       "      <td>...</td>\n",
       "      <td>0</td>\n",
       "      <td>0</td>\n",
       "      <td>0</td>\n",
       "      <td>1</td>\n",
       "      <td>0</td>\n",
       "      <td>0</td>\n",
       "      <td>0</td>\n",
       "      <td>0</td>\n",
       "      <td>0</td>\n",
       "      <td>1</td>\n",
       "    </tr>\n",
       "    <tr>\n",
       "      <th>6525</th>\n",
       "      <td>0.0</td>\n",
       "      <td>0.0</td>\n",
       "      <td>18.10</td>\n",
       "      <td>1</td>\n",
       "      <td>0</td>\n",
       "      <td>30.0</td>\n",
       "      <td>0.0</td>\n",
       "      <td>1.0</td>\n",
       "      <td>0.0</td>\n",
       "      <td>0</td>\n",
       "      <td>...</td>\n",
       "      <td>0</td>\n",
       "      <td>0</td>\n",
       "      <td>0</td>\n",
       "      <td>0</td>\n",
       "      <td>0</td>\n",
       "      <td>0</td>\n",
       "      <td>0</td>\n",
       "      <td>0</td>\n",
       "      <td>0</td>\n",
       "      <td>0</td>\n",
       "    </tr>\n",
       "    <tr>\n",
       "      <th>...</th>\n",
       "      <td>...</td>\n",
       "      <td>...</td>\n",
       "      <td>...</td>\n",
       "      <td>...</td>\n",
       "      <td>...</td>\n",
       "      <td>...</td>\n",
       "      <td>...</td>\n",
       "      <td>...</td>\n",
       "      <td>...</td>\n",
       "      <td>...</td>\n",
       "      <td>...</td>\n",
       "      <td>...</td>\n",
       "      <td>...</td>\n",
       "      <td>...</td>\n",
       "      <td>...</td>\n",
       "      <td>...</td>\n",
       "      <td>...</td>\n",
       "      <td>...</td>\n",
       "      <td>...</td>\n",
       "      <td>...</td>\n",
       "      <td>...</td>\n",
       "    </tr>\n",
       "    <tr>\n",
       "      <th>1296</th>\n",
       "      <td>0.0</td>\n",
       "      <td>0.0</td>\n",
       "      <td>27.70</td>\n",
       "      <td>0</td>\n",
       "      <td>0</td>\n",
       "      <td>30.0</td>\n",
       "      <td>0.0</td>\n",
       "      <td>1.0</td>\n",
       "      <td>0.0</td>\n",
       "      <td>0</td>\n",
       "      <td>...</td>\n",
       "      <td>0</td>\n",
       "      <td>0</td>\n",
       "      <td>0</td>\n",
       "      <td>0</td>\n",
       "      <td>0</td>\n",
       "      <td>0</td>\n",
       "      <td>0</td>\n",
       "      <td>0</td>\n",
       "      <td>0</td>\n",
       "      <td>1</td>\n",
       "    </tr>\n",
       "    <tr>\n",
       "      <th>2198</th>\n",
       "      <td>1.0</td>\n",
       "      <td>0.0</td>\n",
       "      <td>14.95</td>\n",
       "      <td>0</td>\n",
       "      <td>0</td>\n",
       "      <td>30.0</td>\n",
       "      <td>0.0</td>\n",
       "      <td>1.0</td>\n",
       "      <td>0.0</td>\n",
       "      <td>0</td>\n",
       "      <td>...</td>\n",
       "      <td>0</td>\n",
       "      <td>0</td>\n",
       "      <td>0</td>\n",
       "      <td>0</td>\n",
       "      <td>0</td>\n",
       "      <td>1</td>\n",
       "      <td>0</td>\n",
       "      <td>0</td>\n",
       "      <td>0</td>\n",
       "      <td>1</td>\n",
       "    </tr>\n",
       "    <tr>\n",
       "      <th>7340</th>\n",
       "      <td>0.0</td>\n",
       "      <td>1.0</td>\n",
       "      <td>28.40</td>\n",
       "      <td>1</td>\n",
       "      <td>0</td>\n",
       "      <td>30.0</td>\n",
       "      <td>0.0</td>\n",
       "      <td>0.0</td>\n",
       "      <td>0.0</td>\n",
       "      <td>0</td>\n",
       "      <td>...</td>\n",
       "      <td>0</td>\n",
       "      <td>0</td>\n",
       "      <td>0</td>\n",
       "      <td>0</td>\n",
       "      <td>0</td>\n",
       "      <td>0</td>\n",
       "      <td>0</td>\n",
       "      <td>0</td>\n",
       "      <td>0</td>\n",
       "      <td>0</td>\n",
       "    </tr>\n",
       "    <tr>\n",
       "      <th>2316</th>\n",
       "      <td>0.0</td>\n",
       "      <td>0.0</td>\n",
       "      <td>15.20</td>\n",
       "      <td>0</td>\n",
       "      <td>0</td>\n",
       "      <td>30.0</td>\n",
       "      <td>0.0</td>\n",
       "      <td>1.0</td>\n",
       "      <td>0.0</td>\n",
       "      <td>0</td>\n",
       "      <td>...</td>\n",
       "      <td>0</td>\n",
       "      <td>0</td>\n",
       "      <td>0</td>\n",
       "      <td>0</td>\n",
       "      <td>0</td>\n",
       "      <td>1</td>\n",
       "      <td>0</td>\n",
       "      <td>0</td>\n",
       "      <td>0</td>\n",
       "      <td>1</td>\n",
       "    </tr>\n",
       "    <tr>\n",
       "      <th>2977</th>\n",
       "      <td>0.0</td>\n",
       "      <td>0.0</td>\n",
       "      <td>18.75</td>\n",
       "      <td>0</td>\n",
       "      <td>0</td>\n",
       "      <td>30.0</td>\n",
       "      <td>0.0</td>\n",
       "      <td>1.0</td>\n",
       "      <td>0.0</td>\n",
       "      <td>0</td>\n",
       "      <td>...</td>\n",
       "      <td>0</td>\n",
       "      <td>0</td>\n",
       "      <td>0</td>\n",
       "      <td>0</td>\n",
       "      <td>0</td>\n",
       "      <td>1</td>\n",
       "      <td>0</td>\n",
       "      <td>0</td>\n",
       "      <td>0</td>\n",
       "      <td>1</td>\n",
       "    </tr>\n",
       "  </tbody>\n",
       "</table>\n",
       "<p>5849 rows × 45 columns</p>\n",
       "</div>"
      ],
      "text/plain": [
       "      Simultaneous  Sequential  Average temperature  Salt  Drought  Boron  \\\n",
       "1791           0.0         1.0                24.80     0        0   30.0   \n",
       "2170           1.0         0.0                21.35     0        0   30.0   \n",
       "2794           0.0         0.0                20.60     0        0   30.0   \n",
       "3304           0.0         1.0                29.10     0        0   30.0   \n",
       "6525           0.0         0.0                18.10     1        0   30.0   \n",
       "...            ...         ...                  ...   ...      ...    ...   \n",
       "1296           0.0         0.0                27.70     0        0   30.0   \n",
       "2198           1.0         0.0                14.95     0        0   30.0   \n",
       "7340           0.0         1.0                28.40     1        0   30.0   \n",
       "2316           0.0         0.0                15.20     0        0   30.0   \n",
       "2977           0.0         0.0                18.75     0        0   30.0   \n",
       "\n",
       "       Cd   UV  Ozone  Waterlogging  ...  Family_Linaceae  Family_Malvaceae  \\\n",
       "1791  0.0  1.0    0.0             0  ...                0                 0   \n",
       "2170  0.0  1.0    0.0             0  ...                0                 0   \n",
       "2794  0.0  1.0    0.0             0  ...                0                 0   \n",
       "3304  0.0  1.0    0.0             0  ...                0                 0   \n",
       "6525  0.0  1.0    0.0             0  ...                0                 0   \n",
       "...   ...  ...    ...           ...  ...              ...               ...   \n",
       "1296  0.0  1.0    0.0             0  ...                0                 0   \n",
       "2198  0.0  1.0    0.0             0  ...                0                 0   \n",
       "7340  0.0  0.0    0.0             0  ...                0                 0   \n",
       "2316  0.0  1.0    0.0             0  ...                0                 0   \n",
       "2977  0.0  1.0    0.0             0  ...                0                 0   \n",
       "\n",
       "      Family_Piperaceae  Family_Poaceae  Family_Rosaceae  Family_Solanaceae  \\\n",
       "1791                  0               0                0                  0   \n",
       "2170                  0               0                0                  0   \n",
       "2794                  0               0                0                  0   \n",
       "3304                  0               1                0                  0   \n",
       "6525                  0               0                0                  0   \n",
       "...                 ...             ...              ...                ...   \n",
       "1296                  0               0                0                  0   \n",
       "2198                  0               0                0                  1   \n",
       "7340                  0               0                0                  0   \n",
       "2316                  0               0                0                  1   \n",
       "2977                  0               0                0                  1   \n",
       "\n",
       "      Family_Theaceae  Family_Vitaceae  Type_Abiotic-biotic  \\\n",
       "1791                0                0                    0   \n",
       "2170                0                0                    0   \n",
       "2794                1                0                    0   \n",
       "3304                0                0                    0   \n",
       "6525                0                0                    0   \n",
       "...               ...              ...                  ...   \n",
       "1296                0                0                    0   \n",
       "2198                0                0                    0   \n",
       "7340                0                0                    0   \n",
       "2316                0                0                    0   \n",
       "2977                0                0                    0   \n",
       "\n",
       "      Type_Biotic-biotic  \n",
       "1791                   1  \n",
       "2170                   1  \n",
       "2794                   1  \n",
       "3304                   1  \n",
       "6525                   0  \n",
       "...                  ...  \n",
       "1296                   1  \n",
       "2198                   1  \n",
       "7340                   0  \n",
       "2316                   1  \n",
       "2977                   1  \n",
       "\n",
       "[5849 rows x 45 columns]"
      ]
     },
     "execution_count": 97,
     "metadata": {},
     "output_type": "execute_result"
    }
   ],
   "source": [
    "X_train"
   ]
  },
  {
   "cell_type": "code",
   "execution_count": 98,
   "metadata": {},
   "outputs": [
    {
     "data": {
      "text/plain": [
       "\"\\nX_train.to_csv('X_train_tanh1.csv')\\nX_test.to_csv('X_test_tanh1.csv')\\ny_train.to_csv('y_train_tanh1.csv')\\ny_test.to_csv('y_test_tanh1.csv')\\n\""
      ]
     },
     "execution_count": 98,
     "metadata": {},
     "output_type": "execute_result"
    }
   ],
   "source": [
    "\"\"\"\n",
    "X_train.to_csv('X_train_tanh1.csv')\n",
    "X_test.to_csv('X_test_tanh1.csv')\n",
    "y_train.to_csv('y_train_tanh1.csv')\n",
    "y_test.to_csv('y_test_tanh1.csv')\n",
    "\"\"\""
   ]
  },
  {
   "cell_type": "code",
   "execution_count": 99,
   "metadata": {},
   "outputs": [],
   "source": [
    "#X_train = pd.read_csv('X_train_tanh1.csv')\n",
    "#X_test = pd.read_csv('X_test_tanh1.csv')\n",
    "#y_train = pd.read_csv('y_train_tanh1.csv')\n",
    "#y_test = pd.read_csv('y_test_tanh1.csv')"
   ]
  },
  {
   "cell_type": "code",
   "execution_count": 100,
   "metadata": {},
   "outputs": [],
   "source": [
    "#X_test.drop(X_test.columns[[0]],axis=1, inplace=True)\n",
    "#y_test.drop(y_test.columns[[0]],axis=1, inplace=True)\n",
    "#X_train.drop(X_train.columns[[0]],axis=1, inplace=True)\n",
    "#y_train.drop(y_train.columns[[0]],axis=1, inplace=True)"
   ]
  },
  {
   "cell_type": "code",
   "execution_count": 101,
   "metadata": {
    "id": "w3ZqPEykke3N"
   },
   "outputs": [],
   "source": [
    "from sklearn.preprocessing import MinMaxScaler\n",
    "\n",
    "minmax=MinMaxScaler()\n",
    "y_train['Plant performance']=minmax.fit_transform(np.array(y_train['Plant performance']).reshape(-1,1))\n",
    "y_test['Plant performance']=minmax.transform(np.array(y_test['Plant performance']).reshape(-1,1))"
   ]
  },
  {
   "cell_type": "code",
   "execution_count": 102,
   "metadata": {
    "colab": {
     "base_uri": "https://localhost:8080/",
     "height": 1000
    },
    "id": "zuqB35DmKoQU",
    "outputId": "1371ff1b-e823-455e-84d2-ab82c5095776"
   },
   "outputs": [
    {
     "data": {
      "text/html": [
       "<div>\n",
       "<style scoped>\n",
       "    .dataframe tbody tr th:only-of-type {\n",
       "        vertical-align: middle;\n",
       "    }\n",
       "\n",
       "    .dataframe tbody tr th {\n",
       "        vertical-align: top;\n",
       "    }\n",
       "\n",
       "    .dataframe thead th {\n",
       "        text-align: right;\n",
       "    }\n",
       "</style>\n",
       "<table border=\"1\" class=\"dataframe\">\n",
       "  <thead>\n",
       "    <tr style=\"text-align: right;\">\n",
       "      <th></th>\n",
       "      <th>count_x_train</th>\n",
       "      <th>mean_x_train</th>\n",
       "      <th>std_x_train</th>\n",
       "      <th>min_x_train</th>\n",
       "      <th>25%_x_train</th>\n",
       "      <th>50%_x_train</th>\n",
       "      <th>75%_x_train</th>\n",
       "      <th>max_x_train</th>\n",
       "      <th>count_x_test</th>\n",
       "      <th>mean_x_test</th>\n",
       "      <th>std_x_test</th>\n",
       "      <th>min_x_test</th>\n",
       "      <th>25%_x_test</th>\n",
       "      <th>50%_x_test</th>\n",
       "      <th>75%_x_test</th>\n",
       "      <th>max_x_test</th>\n",
       "    </tr>\n",
       "  </thead>\n",
       "  <tbody>\n",
       "    <tr>\n",
       "      <th>Simultaneous</th>\n",
       "      <td>5849.0</td>\n",
       "      <td>0.049923</td>\n",
       "      <td>0.217805</td>\n",
       "      <td>0.00</td>\n",
       "      <td>0.0</td>\n",
       "      <td>0.00</td>\n",
       "      <td>0.00</td>\n",
       "      <td>1.00</td>\n",
       "      <td>1950.0</td>\n",
       "      <td>0.053333</td>\n",
       "      <td>0.224755</td>\n",
       "      <td>0.00</td>\n",
       "      <td>0.0</td>\n",
       "      <td>0.0</td>\n",
       "      <td>0.0</td>\n",
       "      <td>1.00</td>\n",
       "    </tr>\n",
       "    <tr>\n",
       "      <th>Sequential</th>\n",
       "      <td>5849.0</td>\n",
       "      <td>0.324500</td>\n",
       "      <td>0.468228</td>\n",
       "      <td>0.00</td>\n",
       "      <td>0.0</td>\n",
       "      <td>0.00</td>\n",
       "      <td>1.00</td>\n",
       "      <td>1.00</td>\n",
       "      <td>1950.0</td>\n",
       "      <td>0.329744</td>\n",
       "      <td>0.470241</td>\n",
       "      <td>0.00</td>\n",
       "      <td>0.0</td>\n",
       "      <td>0.0</td>\n",
       "      <td>1.0</td>\n",
       "      <td>1.00</td>\n",
       "    </tr>\n",
       "    <tr>\n",
       "      <th>Average temperature</th>\n",
       "      <td>5849.0</td>\n",
       "      <td>23.356676</td>\n",
       "      <td>5.615323</td>\n",
       "      <td>4.75</td>\n",
       "      <td>19.7</td>\n",
       "      <td>22.65</td>\n",
       "      <td>25.25</td>\n",
       "      <td>43.25</td>\n",
       "      <td>1950.0</td>\n",
       "      <td>23.024513</td>\n",
       "      <td>5.569973</td>\n",
       "      <td>4.75</td>\n",
       "      <td>19.3</td>\n",
       "      <td>22.6</td>\n",
       "      <td>25.2</td>\n",
       "      <td>43.25</td>\n",
       "    </tr>\n",
       "    <tr>\n",
       "      <th>Salt</th>\n",
       "      <td>5849.0</td>\n",
       "      <td>1.190973</td>\n",
       "      <td>10.480698</td>\n",
       "      <td>0.00</td>\n",
       "      <td>0.0</td>\n",
       "      <td>0.00</td>\n",
       "      <td>0.00</td>\n",
       "      <td>150.00</td>\n",
       "      <td>1950.0</td>\n",
       "      <td>1.312821</td>\n",
       "      <td>10.598537</td>\n",
       "      <td>0.00</td>\n",
       "      <td>0.0</td>\n",
       "      <td>0.0</td>\n",
       "      <td>0.0</td>\n",
       "      <td>150.00</td>\n",
       "    </tr>\n",
       "    <tr>\n",
       "      <th>Drought</th>\n",
       "      <td>5849.0</td>\n",
       "      <td>0.155069</td>\n",
       "      <td>0.522142</td>\n",
       "      <td>0.00</td>\n",
       "      <td>0.0</td>\n",
       "      <td>0.00</td>\n",
       "      <td>0.00</td>\n",
       "      <td>2.00</td>\n",
       "      <td>1950.0</td>\n",
       "      <td>0.166667</td>\n",
       "      <td>0.538337</td>\n",
       "      <td>0.00</td>\n",
       "      <td>0.0</td>\n",
       "      <td>0.0</td>\n",
       "      <td>0.0</td>\n",
       "      <td>2.00</td>\n",
       "    </tr>\n",
       "    <tr>\n",
       "      <th>Boron</th>\n",
       "      <td>5849.0</td>\n",
       "      <td>29.909585</td>\n",
       "      <td>1.627478</td>\n",
       "      <td>0.62</td>\n",
       "      <td>30.0</td>\n",
       "      <td>30.00</td>\n",
       "      <td>30.00</td>\n",
       "      <td>30.00</td>\n",
       "      <td>1950.0</td>\n",
       "      <td>29.939733</td>\n",
       "      <td>1.329627</td>\n",
       "      <td>0.62</td>\n",
       "      <td>30.0</td>\n",
       "      <td>30.0</td>\n",
       "      <td>30.0</td>\n",
       "      <td>30.00</td>\n",
       "    </tr>\n",
       "    <tr>\n",
       "      <th>Cd</th>\n",
       "      <td>5849.0</td>\n",
       "      <td>1.077297</td>\n",
       "      <td>7.362148</td>\n",
       "      <td>0.00</td>\n",
       "      <td>0.0</td>\n",
       "      <td>0.00</td>\n",
       "      <td>0.00</td>\n",
       "      <td>60.00</td>\n",
       "      <td>1950.0</td>\n",
       "      <td>1.414949</td>\n",
       "      <td>8.372200</td>\n",
       "      <td>0.00</td>\n",
       "      <td>0.0</td>\n",
       "      <td>0.0</td>\n",
       "      <td>0.0</td>\n",
       "      <td>60.00</td>\n",
       "    </tr>\n",
       "    <tr>\n",
       "      <th>UV</th>\n",
       "      <td>5849.0</td>\n",
       "      <td>1.463719</td>\n",
       "      <td>1.982994</td>\n",
       "      <td>0.00</td>\n",
       "      <td>1.0</td>\n",
       "      <td>1.00</td>\n",
       "      <td>1.00</td>\n",
       "      <td>10.00</td>\n",
       "      <td>1950.0</td>\n",
       "      <td>1.492169</td>\n",
       "      <td>2.043703</td>\n",
       "      <td>0.00</td>\n",
       "      <td>1.0</td>\n",
       "      <td>1.0</td>\n",
       "      <td>1.0</td>\n",
       "      <td>10.00</td>\n",
       "    </tr>\n",
       "    <tr>\n",
       "      <th>Ozone</th>\n",
       "      <td>5849.0</td>\n",
       "      <td>33.512600</td>\n",
       "      <td>569.052694</td>\n",
       "      <td>0.00</td>\n",
       "      <td>0.0</td>\n",
       "      <td>0.00</td>\n",
       "      <td>0.00</td>\n",
       "      <td>10000.00</td>\n",
       "      <td>1950.0</td>\n",
       "      <td>16.442667</td>\n",
       "      <td>392.050020</td>\n",
       "      <td>0.00</td>\n",
       "      <td>0.0</td>\n",
       "      <td>0.0</td>\n",
       "      <td>0.0</td>\n",
       "      <td>10000.00</td>\n",
       "    </tr>\n",
       "    <tr>\n",
       "      <th>Waterlogging</th>\n",
       "      <td>5849.0</td>\n",
       "      <td>0.149940</td>\n",
       "      <td>0.357043</td>\n",
       "      <td>0.00</td>\n",
       "      <td>0.0</td>\n",
       "      <td>0.00</td>\n",
       "      <td>0.00</td>\n",
       "      <td>1.00</td>\n",
       "      <td>1950.0</td>\n",
       "      <td>0.142564</td>\n",
       "      <td>0.349717</td>\n",
       "      <td>0.00</td>\n",
       "      <td>0.0</td>\n",
       "      <td>0.0</td>\n",
       "      <td>0.0</td>\n",
       "      <td>1.00</td>\n",
       "    </tr>\n",
       "    <tr>\n",
       "      <th>Bacteria</th>\n",
       "      <td>5849.0</td>\n",
       "      <td>0.657719</td>\n",
       "      <td>0.474514</td>\n",
       "      <td>0.00</td>\n",
       "      <td>0.0</td>\n",
       "      <td>1.00</td>\n",
       "      <td>1.00</td>\n",
       "      <td>1.00</td>\n",
       "      <td>1950.0</td>\n",
       "      <td>0.655897</td>\n",
       "      <td>0.475197</td>\n",
       "      <td>0.00</td>\n",
       "      <td>0.0</td>\n",
       "      <td>1.0</td>\n",
       "      <td>1.0</td>\n",
       "      <td>1.00</td>\n",
       "    </tr>\n",
       "    <tr>\n",
       "      <th>Fungus</th>\n",
       "      <td>5849.0</td>\n",
       "      <td>0.657719</td>\n",
       "      <td>0.474514</td>\n",
       "      <td>0.00</td>\n",
       "      <td>0.0</td>\n",
       "      <td>1.00</td>\n",
       "      <td>1.00</td>\n",
       "      <td>1.00</td>\n",
       "      <td>1950.0</td>\n",
       "      <td>0.655897</td>\n",
       "      <td>0.475197</td>\n",
       "      <td>0.00</td>\n",
       "      <td>0.0</td>\n",
       "      <td>1.0</td>\n",
       "      <td>1.0</td>\n",
       "      <td>1.00</td>\n",
       "    </tr>\n",
       "    <tr>\n",
       "      <th>Oomycete</th>\n",
       "      <td>5849.0</td>\n",
       "      <td>0.437511</td>\n",
       "      <td>0.496122</td>\n",
       "      <td>0.00</td>\n",
       "      <td>0.0</td>\n",
       "      <td>0.00</td>\n",
       "      <td>1.00</td>\n",
       "      <td>1.00</td>\n",
       "      <td>1950.0</td>\n",
       "      <td>0.425128</td>\n",
       "      <td>0.494489</td>\n",
       "      <td>0.00</td>\n",
       "      <td>0.0</td>\n",
       "      <td>0.0</td>\n",
       "      <td>1.0</td>\n",
       "      <td>1.00</td>\n",
       "    </tr>\n",
       "    <tr>\n",
       "      <th>Virus</th>\n",
       "      <td>5849.0</td>\n",
       "      <td>0.657719</td>\n",
       "      <td>0.474514</td>\n",
       "      <td>0.00</td>\n",
       "      <td>0.0</td>\n",
       "      <td>1.00</td>\n",
       "      <td>1.00</td>\n",
       "      <td>1.00</td>\n",
       "      <td>1950.0</td>\n",
       "      <td>0.655897</td>\n",
       "      <td>0.475197</td>\n",
       "      <td>0.00</td>\n",
       "      <td>0.0</td>\n",
       "      <td>1.0</td>\n",
       "      <td>1.0</td>\n",
       "      <td>1.00</td>\n",
       "    </tr>\n",
       "    <tr>\n",
       "      <th>Nematode</th>\n",
       "      <td>5849.0</td>\n",
       "      <td>0.657719</td>\n",
       "      <td>0.474514</td>\n",
       "      <td>0.00</td>\n",
       "      <td>0.0</td>\n",
       "      <td>1.00</td>\n",
       "      <td>1.00</td>\n",
       "      <td>1.00</td>\n",
       "      <td>1950.0</td>\n",
       "      <td>0.655897</td>\n",
       "      <td>0.475197</td>\n",
       "      <td>0.00</td>\n",
       "      <td>0.0</td>\n",
       "      <td>1.0</td>\n",
       "      <td>1.0</td>\n",
       "      <td>1.00</td>\n",
       "    </tr>\n",
       "    <tr>\n",
       "      <th>Insect</th>\n",
       "      <td>5849.0</td>\n",
       "      <td>0.657719</td>\n",
       "      <td>0.474514</td>\n",
       "      <td>0.00</td>\n",
       "      <td>0.0</td>\n",
       "      <td>1.00</td>\n",
       "      <td>1.00</td>\n",
       "      <td>1.00</td>\n",
       "      <td>1950.0</td>\n",
       "      <td>0.655897</td>\n",
       "      <td>0.475197</td>\n",
       "      <td>0.00</td>\n",
       "      <td>0.0</td>\n",
       "      <td>1.0</td>\n",
       "      <td>1.0</td>\n",
       "      <td>1.00</td>\n",
       "    </tr>\n",
       "    <tr>\n",
       "      <th>Mn</th>\n",
       "      <td>5849.0</td>\n",
       "      <td>1.094204</td>\n",
       "      <td>20.893995</td>\n",
       "      <td>0.00</td>\n",
       "      <td>0.0</td>\n",
       "      <td>0.00</td>\n",
       "      <td>0.00</td>\n",
       "      <td>400.00</td>\n",
       "      <td>1950.0</td>\n",
       "      <td>1.230769</td>\n",
       "      <td>22.159529</td>\n",
       "      <td>0.00</td>\n",
       "      <td>0.0</td>\n",
       "      <td>0.0</td>\n",
       "      <td>0.0</td>\n",
       "      <td>400.00</td>\n",
       "    </tr>\n",
       "    <tr>\n",
       "      <th>Pb</th>\n",
       "      <td>5849.0</td>\n",
       "      <td>2.051633</td>\n",
       "      <td>40.464515</td>\n",
       "      <td>0.00</td>\n",
       "      <td>0.0</td>\n",
       "      <td>0.00</td>\n",
       "      <td>0.00</td>\n",
       "      <td>800.00</td>\n",
       "      <td>1950.0</td>\n",
       "      <td>2.871795</td>\n",
       "      <td>47.857740</td>\n",
       "      <td>0.00</td>\n",
       "      <td>0.0</td>\n",
       "      <td>0.0</td>\n",
       "      <td>0.0</td>\n",
       "      <td>800.00</td>\n",
       "    </tr>\n",
       "    <tr>\n",
       "      <th>Zinc</th>\n",
       "      <td>5849.0</td>\n",
       "      <td>2.735510</td>\n",
       "      <td>52.234987</td>\n",
       "      <td>0.00</td>\n",
       "      <td>0.0</td>\n",
       "      <td>0.00</td>\n",
       "      <td>0.00</td>\n",
       "      <td>1000.00</td>\n",
       "      <td>1950.0</td>\n",
       "      <td>3.076923</td>\n",
       "      <td>55.398822</td>\n",
       "      <td>0.00</td>\n",
       "      <td>0.0</td>\n",
       "      <td>0.0</td>\n",
       "      <td>0.0</td>\n",
       "      <td>1000.00</td>\n",
       "    </tr>\n",
       "    <tr>\n",
       "      <th>Ni</th>\n",
       "      <td>5849.0</td>\n",
       "      <td>0.547102</td>\n",
       "      <td>10.446997</td>\n",
       "      <td>0.00</td>\n",
       "      <td>0.0</td>\n",
       "      <td>0.00</td>\n",
       "      <td>0.00</td>\n",
       "      <td>200.00</td>\n",
       "      <td>1950.0</td>\n",
       "      <td>0.615385</td>\n",
       "      <td>11.079764</td>\n",
       "      <td>0.00</td>\n",
       "      <td>0.0</td>\n",
       "      <td>0.0</td>\n",
       "      <td>0.0</td>\n",
       "      <td>200.00</td>\n",
       "    </tr>\n",
       "    <tr>\n",
       "      <th>Weed</th>\n",
       "      <td>5849.0</td>\n",
       "      <td>0.220209</td>\n",
       "      <td>0.414423</td>\n",
       "      <td>0.00</td>\n",
       "      <td>0.0</td>\n",
       "      <td>0.00</td>\n",
       "      <td>0.00</td>\n",
       "      <td>1.00</td>\n",
       "      <td>1950.0</td>\n",
       "      <td>0.230769</td>\n",
       "      <td>0.421433</td>\n",
       "      <td>0.00</td>\n",
       "      <td>0.0</td>\n",
       "      <td>0.0</td>\n",
       "      <td>0.0</td>\n",
       "      <td>1.00</td>\n",
       "    </tr>\n",
       "    <tr>\n",
       "      <th>Light intensity</th>\n",
       "      <td>5849.0</td>\n",
       "      <td>0.329458</td>\n",
       "      <td>0.477635</td>\n",
       "      <td>-1.00</td>\n",
       "      <td>0.0</td>\n",
       "      <td>0.00</td>\n",
       "      <td>1.00</td>\n",
       "      <td>1.00</td>\n",
       "      <td>1950.0</td>\n",
       "      <td>0.337436</td>\n",
       "      <td>0.474040</td>\n",
       "      <td>-1.00</td>\n",
       "      <td>0.0</td>\n",
       "      <td>0.0</td>\n",
       "      <td>1.0</td>\n",
       "      <td>1.00</td>\n",
       "    </tr>\n",
       "    <tr>\n",
       "      <th>Shade</th>\n",
       "      <td>5849.0</td>\n",
       "      <td>0.005471</td>\n",
       "      <td>0.073770</td>\n",
       "      <td>0.00</td>\n",
       "      <td>0.0</td>\n",
       "      <td>0.00</td>\n",
       "      <td>0.00</td>\n",
       "      <td>1.00</td>\n",
       "      <td>1950.0</td>\n",
       "      <td>0.006154</td>\n",
       "      <td>0.078225</td>\n",
       "      <td>0.00</td>\n",
       "      <td>0.0</td>\n",
       "      <td>0.0</td>\n",
       "      <td>0.0</td>\n",
       "      <td>1.00</td>\n",
       "    </tr>\n",
       "    <tr>\n",
       "      <th>Lead</th>\n",
       "      <td>5849.0</td>\n",
       "      <td>0.027697</td>\n",
       "      <td>0.406747</td>\n",
       "      <td>0.00</td>\n",
       "      <td>0.0</td>\n",
       "      <td>0.00</td>\n",
       "      <td>0.00</td>\n",
       "      <td>6.00</td>\n",
       "      <td>1950.0</td>\n",
       "      <td>0.052308</td>\n",
       "      <td>0.557915</td>\n",
       "      <td>0.00</td>\n",
       "      <td>0.0</td>\n",
       "      <td>0.0</td>\n",
       "      <td>0.0</td>\n",
       "      <td>6.00</td>\n",
       "    </tr>\n",
       "    <tr>\n",
       "      <th>Family_Aizoaceae</th>\n",
       "      <td>5849.0</td>\n",
       "      <td>0.008036</td>\n",
       "      <td>0.089288</td>\n",
       "      <td>0.00</td>\n",
       "      <td>0.0</td>\n",
       "      <td>0.00</td>\n",
       "      <td>0.00</td>\n",
       "      <td>1.00</td>\n",
       "      <td>1950.0</td>\n",
       "      <td>0.009744</td>\n",
       "      <td>0.098253</td>\n",
       "      <td>0.00</td>\n",
       "      <td>0.0</td>\n",
       "      <td>0.0</td>\n",
       "      <td>0.0</td>\n",
       "      <td>1.00</td>\n",
       "    </tr>\n",
       "    <tr>\n",
       "      <th>Family_Amaranthaceae</th>\n",
       "      <td>5849.0</td>\n",
       "      <td>0.055052</td>\n",
       "      <td>0.228102</td>\n",
       "      <td>0.00</td>\n",
       "      <td>0.0</td>\n",
       "      <td>0.00</td>\n",
       "      <td>0.00</td>\n",
       "      <td>1.00</td>\n",
       "      <td>1950.0</td>\n",
       "      <td>0.060513</td>\n",
       "      <td>0.238496</td>\n",
       "      <td>0.00</td>\n",
       "      <td>0.0</td>\n",
       "      <td>0.0</td>\n",
       "      <td>0.0</td>\n",
       "      <td>1.00</td>\n",
       "    </tr>\n",
       "    <tr>\n",
       "      <th>Family_Araliaceae</th>\n",
       "      <td>5849.0</td>\n",
       "      <td>0.008036</td>\n",
       "      <td>0.089288</td>\n",
       "      <td>0.00</td>\n",
       "      <td>0.0</td>\n",
       "      <td>0.00</td>\n",
       "      <td>0.00</td>\n",
       "      <td>1.00</td>\n",
       "      <td>1950.0</td>\n",
       "      <td>0.009744</td>\n",
       "      <td>0.098253</td>\n",
       "      <td>0.00</td>\n",
       "      <td>0.0</td>\n",
       "      <td>0.0</td>\n",
       "      <td>0.0</td>\n",
       "      <td>1.00</td>\n",
       "    </tr>\n",
       "    <tr>\n",
       "      <th>Family_Asteraceae</th>\n",
       "      <td>5849.0</td>\n",
       "      <td>0.054368</td>\n",
       "      <td>0.226762</td>\n",
       "      <td>0.00</td>\n",
       "      <td>0.0</td>\n",
       "      <td>0.00</td>\n",
       "      <td>0.00</td>\n",
       "      <td>1.00</td>\n",
       "      <td>1950.0</td>\n",
       "      <td>0.056923</td>\n",
       "      <td>0.231755</td>\n",
       "      <td>0.00</td>\n",
       "      <td>0.0</td>\n",
       "      <td>0.0</td>\n",
       "      <td>0.0</td>\n",
       "      <td>1.00</td>\n",
       "    </tr>\n",
       "    <tr>\n",
       "      <th>Family_Brassicaceae</th>\n",
       "      <td>5849.0</td>\n",
       "      <td>0.047529</td>\n",
       "      <td>0.212787</td>\n",
       "      <td>0.00</td>\n",
       "      <td>0.0</td>\n",
       "      <td>0.00</td>\n",
       "      <td>0.00</td>\n",
       "      <td>1.00</td>\n",
       "      <td>1950.0</td>\n",
       "      <td>0.049231</td>\n",
       "      <td>0.216405</td>\n",
       "      <td>0.00</td>\n",
       "      <td>0.0</td>\n",
       "      <td>0.0</td>\n",
       "      <td>0.0</td>\n",
       "      <td>1.00</td>\n",
       "    </tr>\n",
       "    <tr>\n",
       "      <th>Family_Caricaceae</th>\n",
       "      <td>5849.0</td>\n",
       "      <td>0.004445</td>\n",
       "      <td>0.066530</td>\n",
       "      <td>0.00</td>\n",
       "      <td>0.0</td>\n",
       "      <td>0.00</td>\n",
       "      <td>0.00</td>\n",
       "      <td>1.00</td>\n",
       "      <td>1950.0</td>\n",
       "      <td>0.003590</td>\n",
       "      <td>0.059822</td>\n",
       "      <td>0.00</td>\n",
       "      <td>0.0</td>\n",
       "      <td>0.0</td>\n",
       "      <td>0.0</td>\n",
       "      <td>1.00</td>\n",
       "    </tr>\n",
       "    <tr>\n",
       "      <th>Family_Caryophyllaceae</th>\n",
       "      <td>5849.0</td>\n",
       "      <td>0.014361</td>\n",
       "      <td>0.118986</td>\n",
       "      <td>0.00</td>\n",
       "      <td>0.0</td>\n",
       "      <td>0.00</td>\n",
       "      <td>0.00</td>\n",
       "      <td>1.00</td>\n",
       "      <td>1950.0</td>\n",
       "      <td>0.013333</td>\n",
       "      <td>0.114727</td>\n",
       "      <td>0.00</td>\n",
       "      <td>0.0</td>\n",
       "      <td>0.0</td>\n",
       "      <td>0.0</td>\n",
       "      <td>1.00</td>\n",
       "    </tr>\n",
       "    <tr>\n",
       "      <th>Family_Cucurbitaceae</th>\n",
       "      <td>5849.0</td>\n",
       "      <td>0.042571</td>\n",
       "      <td>0.201906</td>\n",
       "      <td>0.00</td>\n",
       "      <td>0.0</td>\n",
       "      <td>0.00</td>\n",
       "      <td>0.00</td>\n",
       "      <td>1.00</td>\n",
       "      <td>1950.0</td>\n",
       "      <td>0.052821</td>\n",
       "      <td>0.223732</td>\n",
       "      <td>0.00</td>\n",
       "      <td>0.0</td>\n",
       "      <td>0.0</td>\n",
       "      <td>0.0</td>\n",
       "      <td>1.00</td>\n",
       "    </tr>\n",
       "    <tr>\n",
       "      <th>Family_Euphorbiaceae</th>\n",
       "      <td>5849.0</td>\n",
       "      <td>0.004616</td>\n",
       "      <td>0.067791</td>\n",
       "      <td>0.00</td>\n",
       "      <td>0.0</td>\n",
       "      <td>0.00</td>\n",
       "      <td>0.00</td>\n",
       "      <td>1.00</td>\n",
       "      <td>1950.0</td>\n",
       "      <td>0.003077</td>\n",
       "      <td>0.055399</td>\n",
       "      <td>0.00</td>\n",
       "      <td>0.0</td>\n",
       "      <td>0.0</td>\n",
       "      <td>0.0</td>\n",
       "      <td>1.00</td>\n",
       "    </tr>\n",
       "    <tr>\n",
       "      <th>Family_Fabaceae</th>\n",
       "      <td>5849.0</td>\n",
       "      <td>0.228757</td>\n",
       "      <td>0.420068</td>\n",
       "      <td>0.00</td>\n",
       "      <td>0.0</td>\n",
       "      <td>0.00</td>\n",
       "      <td>0.00</td>\n",
       "      <td>1.00</td>\n",
       "      <td>1950.0</td>\n",
       "      <td>0.199487</td>\n",
       "      <td>0.399717</td>\n",
       "      <td>0.00</td>\n",
       "      <td>0.0</td>\n",
       "      <td>0.0</td>\n",
       "      <td>0.0</td>\n",
       "      <td>1.00</td>\n",
       "    </tr>\n",
       "    <tr>\n",
       "      <th>Family_Lamiaceae</th>\n",
       "      <td>5849.0</td>\n",
       "      <td>0.003761</td>\n",
       "      <td>0.061219</td>\n",
       "      <td>0.00</td>\n",
       "      <td>0.0</td>\n",
       "      <td>0.00</td>\n",
       "      <td>0.00</td>\n",
       "      <td>1.00</td>\n",
       "      <td>1950.0</td>\n",
       "      <td>0.005641</td>\n",
       "      <td>0.074914</td>\n",
       "      <td>0.00</td>\n",
       "      <td>0.0</td>\n",
       "      <td>0.0</td>\n",
       "      <td>0.0</td>\n",
       "      <td>1.00</td>\n",
       "    </tr>\n",
       "    <tr>\n",
       "      <th>Family_Linaceae</th>\n",
       "      <td>5849.0</td>\n",
       "      <td>0.003932</td>\n",
       "      <td>0.062590</td>\n",
       "      <td>0.00</td>\n",
       "      <td>0.0</td>\n",
       "      <td>0.00</td>\n",
       "      <td>0.00</td>\n",
       "      <td>1.00</td>\n",
       "      <td>1950.0</td>\n",
       "      <td>0.005128</td>\n",
       "      <td>0.071446</td>\n",
       "      <td>0.00</td>\n",
       "      <td>0.0</td>\n",
       "      <td>0.0</td>\n",
       "      <td>0.0</td>\n",
       "      <td>1.00</td>\n",
       "    </tr>\n",
       "    <tr>\n",
       "      <th>Family_Malvaceae</th>\n",
       "      <td>5849.0</td>\n",
       "      <td>0.036758</td>\n",
       "      <td>0.188184</td>\n",
       "      <td>0.00</td>\n",
       "      <td>0.0</td>\n",
       "      <td>0.00</td>\n",
       "      <td>0.00</td>\n",
       "      <td>1.00</td>\n",
       "      <td>1950.0</td>\n",
       "      <td>0.036410</td>\n",
       "      <td>0.187357</td>\n",
       "      <td>0.00</td>\n",
       "      <td>0.0</td>\n",
       "      <td>0.0</td>\n",
       "      <td>0.0</td>\n",
       "      <td>1.00</td>\n",
       "    </tr>\n",
       "    <tr>\n",
       "      <th>Family_Piperaceae</th>\n",
       "      <td>5849.0</td>\n",
       "      <td>0.007694</td>\n",
       "      <td>0.087383</td>\n",
       "      <td>0.00</td>\n",
       "      <td>0.0</td>\n",
       "      <td>0.00</td>\n",
       "      <td>0.00</td>\n",
       "      <td>1.00</td>\n",
       "      <td>1950.0</td>\n",
       "      <td>0.005128</td>\n",
       "      <td>0.071446</td>\n",
       "      <td>0.00</td>\n",
       "      <td>0.0</td>\n",
       "      <td>0.0</td>\n",
       "      <td>0.0</td>\n",
       "      <td>1.00</td>\n",
       "    </tr>\n",
       "    <tr>\n",
       "      <th>Family_Poaceae</th>\n",
       "      <td>5849.0</td>\n",
       "      <td>0.286887</td>\n",
       "      <td>0.452347</td>\n",
       "      <td>0.00</td>\n",
       "      <td>0.0</td>\n",
       "      <td>0.00</td>\n",
       "      <td>1.00</td>\n",
       "      <td>1.00</td>\n",
       "      <td>1950.0</td>\n",
       "      <td>0.278974</td>\n",
       "      <td>0.448610</td>\n",
       "      <td>0.00</td>\n",
       "      <td>0.0</td>\n",
       "      <td>0.0</td>\n",
       "      <td>1.0</td>\n",
       "      <td>1.00</td>\n",
       "    </tr>\n",
       "    <tr>\n",
       "      <th>Family_Rosaceae</th>\n",
       "      <td>5849.0</td>\n",
       "      <td>0.004103</td>\n",
       "      <td>0.063931</td>\n",
       "      <td>0.00</td>\n",
       "      <td>0.0</td>\n",
       "      <td>0.00</td>\n",
       "      <td>0.00</td>\n",
       "      <td>1.00</td>\n",
       "      <td>1950.0</td>\n",
       "      <td>0.004615</td>\n",
       "      <td>0.067797</td>\n",
       "      <td>0.00</td>\n",
       "      <td>0.0</td>\n",
       "      <td>0.0</td>\n",
       "      <td>0.0</td>\n",
       "      <td>1.00</td>\n",
       "    </tr>\n",
       "    <tr>\n",
       "      <th>Family_Solanaceae</th>\n",
       "      <td>5849.0</td>\n",
       "      <td>0.149256</td>\n",
       "      <td>0.356371</td>\n",
       "      <td>0.00</td>\n",
       "      <td>0.0</td>\n",
       "      <td>0.00</td>\n",
       "      <td>0.00</td>\n",
       "      <td>1.00</td>\n",
       "      <td>1950.0</td>\n",
       "      <td>0.167179</td>\n",
       "      <td>0.373232</td>\n",
       "      <td>0.00</td>\n",
       "      <td>0.0</td>\n",
       "      <td>0.0</td>\n",
       "      <td>0.0</td>\n",
       "      <td>1.00</td>\n",
       "    </tr>\n",
       "    <tr>\n",
       "      <th>Family_Theaceae</th>\n",
       "      <td>5849.0</td>\n",
       "      <td>0.021371</td>\n",
       "      <td>0.144631</td>\n",
       "      <td>0.00</td>\n",
       "      <td>0.0</td>\n",
       "      <td>0.00</td>\n",
       "      <td>0.00</td>\n",
       "      <td>1.00</td>\n",
       "      <td>1950.0</td>\n",
       "      <td>0.020513</td>\n",
       "      <td>0.141783</td>\n",
       "      <td>0.00</td>\n",
       "      <td>0.0</td>\n",
       "      <td>0.0</td>\n",
       "      <td>0.0</td>\n",
       "      <td>1.00</td>\n",
       "    </tr>\n",
       "    <tr>\n",
       "      <th>Family_Vitaceae</th>\n",
       "      <td>5849.0</td>\n",
       "      <td>0.010942</td>\n",
       "      <td>0.104039</td>\n",
       "      <td>0.00</td>\n",
       "      <td>0.0</td>\n",
       "      <td>0.00</td>\n",
       "      <td>0.00</td>\n",
       "      <td>1.00</td>\n",
       "      <td>1950.0</td>\n",
       "      <td>0.012308</td>\n",
       "      <td>0.110283</td>\n",
       "      <td>0.00</td>\n",
       "      <td>0.0</td>\n",
       "      <td>0.0</td>\n",
       "      <td>0.0</td>\n",
       "      <td>1.00</td>\n",
       "    </tr>\n",
       "    <tr>\n",
       "      <th>Type_Abiotic-biotic</th>\n",
       "      <td>5849.0</td>\n",
       "      <td>0.220209</td>\n",
       "      <td>0.414423</td>\n",
       "      <td>0.00</td>\n",
       "      <td>0.0</td>\n",
       "      <td>0.00</td>\n",
       "      <td>0.00</td>\n",
       "      <td>1.00</td>\n",
       "      <td>1950.0</td>\n",
       "      <td>0.230769</td>\n",
       "      <td>0.421433</td>\n",
       "      <td>0.00</td>\n",
       "      <td>0.0</td>\n",
       "      <td>0.0</td>\n",
       "      <td>0.0</td>\n",
       "      <td>1.00</td>\n",
       "    </tr>\n",
       "    <tr>\n",
       "      <th>Type_Biotic-biotic</th>\n",
       "      <td>5849.0</td>\n",
       "      <td>0.437511</td>\n",
       "      <td>0.496122</td>\n",
       "      <td>0.00</td>\n",
       "      <td>0.0</td>\n",
       "      <td>0.00</td>\n",
       "      <td>1.00</td>\n",
       "      <td>1.00</td>\n",
       "      <td>1950.0</td>\n",
       "      <td>0.425128</td>\n",
       "      <td>0.494489</td>\n",
       "      <td>0.00</td>\n",
       "      <td>0.0</td>\n",
       "      <td>0.0</td>\n",
       "      <td>1.0</td>\n",
       "      <td>1.00</td>\n",
       "    </tr>\n",
       "  </tbody>\n",
       "</table>\n",
       "</div>"
      ],
      "text/plain": [
       "                        count_x_train  mean_x_train  std_x_train  min_x_train  \\\n",
       "Simultaneous                   5849.0      0.049923     0.217805         0.00   \n",
       "Sequential                     5849.0      0.324500     0.468228         0.00   \n",
       "Average temperature            5849.0     23.356676     5.615323         4.75   \n",
       "Salt                           5849.0      1.190973    10.480698         0.00   \n",
       "Drought                        5849.0      0.155069     0.522142         0.00   \n",
       "Boron                          5849.0     29.909585     1.627478         0.62   \n",
       "Cd                             5849.0      1.077297     7.362148         0.00   \n",
       "UV                             5849.0      1.463719     1.982994         0.00   \n",
       "Ozone                          5849.0     33.512600   569.052694         0.00   \n",
       "Waterlogging                   5849.0      0.149940     0.357043         0.00   \n",
       "Bacteria                       5849.0      0.657719     0.474514         0.00   \n",
       "Fungus                         5849.0      0.657719     0.474514         0.00   \n",
       "Oomycete                       5849.0      0.437511     0.496122         0.00   \n",
       "Virus                          5849.0      0.657719     0.474514         0.00   \n",
       "Nematode                       5849.0      0.657719     0.474514         0.00   \n",
       "Insect                         5849.0      0.657719     0.474514         0.00   \n",
       "Mn                             5849.0      1.094204    20.893995         0.00   \n",
       "Pb                             5849.0      2.051633    40.464515         0.00   \n",
       "Zinc                           5849.0      2.735510    52.234987         0.00   \n",
       "Ni                             5849.0      0.547102    10.446997         0.00   \n",
       "Weed                           5849.0      0.220209     0.414423         0.00   \n",
       "Light intensity                5849.0      0.329458     0.477635        -1.00   \n",
       "Shade                          5849.0      0.005471     0.073770         0.00   \n",
       "Lead                           5849.0      0.027697     0.406747         0.00   \n",
       "Family_Aizoaceae               5849.0      0.008036     0.089288         0.00   \n",
       "Family_Amaranthaceae           5849.0      0.055052     0.228102         0.00   \n",
       "Family_Araliaceae              5849.0      0.008036     0.089288         0.00   \n",
       "Family_Asteraceae              5849.0      0.054368     0.226762         0.00   \n",
       "Family_Brassicaceae            5849.0      0.047529     0.212787         0.00   \n",
       "Family_Caricaceae              5849.0      0.004445     0.066530         0.00   \n",
       "Family_Caryophyllaceae         5849.0      0.014361     0.118986         0.00   \n",
       "Family_Cucurbitaceae           5849.0      0.042571     0.201906         0.00   \n",
       "Family_Euphorbiaceae           5849.0      0.004616     0.067791         0.00   \n",
       "Family_Fabaceae                5849.0      0.228757     0.420068         0.00   \n",
       "Family_Lamiaceae               5849.0      0.003761     0.061219         0.00   \n",
       "Family_Linaceae                5849.0      0.003932     0.062590         0.00   \n",
       "Family_Malvaceae               5849.0      0.036758     0.188184         0.00   \n",
       "Family_Piperaceae              5849.0      0.007694     0.087383         0.00   \n",
       "Family_Poaceae                 5849.0      0.286887     0.452347         0.00   \n",
       "Family_Rosaceae                5849.0      0.004103     0.063931         0.00   \n",
       "Family_Solanaceae              5849.0      0.149256     0.356371         0.00   \n",
       "Family_Theaceae                5849.0      0.021371     0.144631         0.00   \n",
       "Family_Vitaceae                5849.0      0.010942     0.104039         0.00   \n",
       "Type_Abiotic-biotic            5849.0      0.220209     0.414423         0.00   \n",
       "Type_Biotic-biotic             5849.0      0.437511     0.496122         0.00   \n",
       "\n",
       "                        25%_x_train  50%_x_train  75%_x_train  max_x_train  \\\n",
       "Simultaneous                    0.0         0.00         0.00         1.00   \n",
       "Sequential                      0.0         0.00         1.00         1.00   \n",
       "Average temperature            19.7        22.65        25.25        43.25   \n",
       "Salt                            0.0         0.00         0.00       150.00   \n",
       "Drought                         0.0         0.00         0.00         2.00   \n",
       "Boron                          30.0        30.00        30.00        30.00   \n",
       "Cd                              0.0         0.00         0.00        60.00   \n",
       "UV                              1.0         1.00         1.00        10.00   \n",
       "Ozone                           0.0         0.00         0.00     10000.00   \n",
       "Waterlogging                    0.0         0.00         0.00         1.00   \n",
       "Bacteria                        0.0         1.00         1.00         1.00   \n",
       "Fungus                          0.0         1.00         1.00         1.00   \n",
       "Oomycete                        0.0         0.00         1.00         1.00   \n",
       "Virus                           0.0         1.00         1.00         1.00   \n",
       "Nematode                        0.0         1.00         1.00         1.00   \n",
       "Insect                          0.0         1.00         1.00         1.00   \n",
       "Mn                              0.0         0.00         0.00       400.00   \n",
       "Pb                              0.0         0.00         0.00       800.00   \n",
       "Zinc                            0.0         0.00         0.00      1000.00   \n",
       "Ni                              0.0         0.00         0.00       200.00   \n",
       "Weed                            0.0         0.00         0.00         1.00   \n",
       "Light intensity                 0.0         0.00         1.00         1.00   \n",
       "Shade                           0.0         0.00         0.00         1.00   \n",
       "Lead                            0.0         0.00         0.00         6.00   \n",
       "Family_Aizoaceae                0.0         0.00         0.00         1.00   \n",
       "Family_Amaranthaceae            0.0         0.00         0.00         1.00   \n",
       "Family_Araliaceae               0.0         0.00         0.00         1.00   \n",
       "Family_Asteraceae               0.0         0.00         0.00         1.00   \n",
       "Family_Brassicaceae             0.0         0.00         0.00         1.00   \n",
       "Family_Caricaceae               0.0         0.00         0.00         1.00   \n",
       "Family_Caryophyllaceae          0.0         0.00         0.00         1.00   \n",
       "Family_Cucurbitaceae            0.0         0.00         0.00         1.00   \n",
       "Family_Euphorbiaceae            0.0         0.00         0.00         1.00   \n",
       "Family_Fabaceae                 0.0         0.00         0.00         1.00   \n",
       "Family_Lamiaceae                0.0         0.00         0.00         1.00   \n",
       "Family_Linaceae                 0.0         0.00         0.00         1.00   \n",
       "Family_Malvaceae                0.0         0.00         0.00         1.00   \n",
       "Family_Piperaceae               0.0         0.00         0.00         1.00   \n",
       "Family_Poaceae                  0.0         0.00         1.00         1.00   \n",
       "Family_Rosaceae                 0.0         0.00         0.00         1.00   \n",
       "Family_Solanaceae               0.0         0.00         0.00         1.00   \n",
       "Family_Theaceae                 0.0         0.00         0.00         1.00   \n",
       "Family_Vitaceae                 0.0         0.00         0.00         1.00   \n",
       "Type_Abiotic-biotic             0.0         0.00         0.00         1.00   \n",
       "Type_Biotic-biotic              0.0         0.00         1.00         1.00   \n",
       "\n",
       "                        count_x_test  mean_x_test  std_x_test  min_x_test  \\\n",
       "Simultaneous                  1950.0     0.053333    0.224755        0.00   \n",
       "Sequential                    1950.0     0.329744    0.470241        0.00   \n",
       "Average temperature           1950.0    23.024513    5.569973        4.75   \n",
       "Salt                          1950.0     1.312821   10.598537        0.00   \n",
       "Drought                       1950.0     0.166667    0.538337        0.00   \n",
       "Boron                         1950.0    29.939733    1.329627        0.62   \n",
       "Cd                            1950.0     1.414949    8.372200        0.00   \n",
       "UV                            1950.0     1.492169    2.043703        0.00   \n",
       "Ozone                         1950.0    16.442667  392.050020        0.00   \n",
       "Waterlogging                  1950.0     0.142564    0.349717        0.00   \n",
       "Bacteria                      1950.0     0.655897    0.475197        0.00   \n",
       "Fungus                        1950.0     0.655897    0.475197        0.00   \n",
       "Oomycete                      1950.0     0.425128    0.494489        0.00   \n",
       "Virus                         1950.0     0.655897    0.475197        0.00   \n",
       "Nematode                      1950.0     0.655897    0.475197        0.00   \n",
       "Insect                        1950.0     0.655897    0.475197        0.00   \n",
       "Mn                            1950.0     1.230769   22.159529        0.00   \n",
       "Pb                            1950.0     2.871795   47.857740        0.00   \n",
       "Zinc                          1950.0     3.076923   55.398822        0.00   \n",
       "Ni                            1950.0     0.615385   11.079764        0.00   \n",
       "Weed                          1950.0     0.230769    0.421433        0.00   \n",
       "Light intensity               1950.0     0.337436    0.474040       -1.00   \n",
       "Shade                         1950.0     0.006154    0.078225        0.00   \n",
       "Lead                          1950.0     0.052308    0.557915        0.00   \n",
       "Family_Aizoaceae              1950.0     0.009744    0.098253        0.00   \n",
       "Family_Amaranthaceae          1950.0     0.060513    0.238496        0.00   \n",
       "Family_Araliaceae             1950.0     0.009744    0.098253        0.00   \n",
       "Family_Asteraceae             1950.0     0.056923    0.231755        0.00   \n",
       "Family_Brassicaceae           1950.0     0.049231    0.216405        0.00   \n",
       "Family_Caricaceae             1950.0     0.003590    0.059822        0.00   \n",
       "Family_Caryophyllaceae        1950.0     0.013333    0.114727        0.00   \n",
       "Family_Cucurbitaceae          1950.0     0.052821    0.223732        0.00   \n",
       "Family_Euphorbiaceae          1950.0     0.003077    0.055399        0.00   \n",
       "Family_Fabaceae               1950.0     0.199487    0.399717        0.00   \n",
       "Family_Lamiaceae              1950.0     0.005641    0.074914        0.00   \n",
       "Family_Linaceae               1950.0     0.005128    0.071446        0.00   \n",
       "Family_Malvaceae              1950.0     0.036410    0.187357        0.00   \n",
       "Family_Piperaceae             1950.0     0.005128    0.071446        0.00   \n",
       "Family_Poaceae                1950.0     0.278974    0.448610        0.00   \n",
       "Family_Rosaceae               1950.0     0.004615    0.067797        0.00   \n",
       "Family_Solanaceae             1950.0     0.167179    0.373232        0.00   \n",
       "Family_Theaceae               1950.0     0.020513    0.141783        0.00   \n",
       "Family_Vitaceae               1950.0     0.012308    0.110283        0.00   \n",
       "Type_Abiotic-biotic           1950.0     0.230769    0.421433        0.00   \n",
       "Type_Biotic-biotic            1950.0     0.425128    0.494489        0.00   \n",
       "\n",
       "                        25%_x_test  50%_x_test  75%_x_test  max_x_test  \n",
       "Simultaneous                   0.0         0.0         0.0        1.00  \n",
       "Sequential                     0.0         0.0         1.0        1.00  \n",
       "Average temperature           19.3        22.6        25.2       43.25  \n",
       "Salt                           0.0         0.0         0.0      150.00  \n",
       "Drought                        0.0         0.0         0.0        2.00  \n",
       "Boron                         30.0        30.0        30.0       30.00  \n",
       "Cd                             0.0         0.0         0.0       60.00  \n",
       "UV                             1.0         1.0         1.0       10.00  \n",
       "Ozone                          0.0         0.0         0.0    10000.00  \n",
       "Waterlogging                   0.0         0.0         0.0        1.00  \n",
       "Bacteria                       0.0         1.0         1.0        1.00  \n",
       "Fungus                         0.0         1.0         1.0        1.00  \n",
       "Oomycete                       0.0         0.0         1.0        1.00  \n",
       "Virus                          0.0         1.0         1.0        1.00  \n",
       "Nematode                       0.0         1.0         1.0        1.00  \n",
       "Insect                         0.0         1.0         1.0        1.00  \n",
       "Mn                             0.0         0.0         0.0      400.00  \n",
       "Pb                             0.0         0.0         0.0      800.00  \n",
       "Zinc                           0.0         0.0         0.0     1000.00  \n",
       "Ni                             0.0         0.0         0.0      200.00  \n",
       "Weed                           0.0         0.0         0.0        1.00  \n",
       "Light intensity                0.0         0.0         1.0        1.00  \n",
       "Shade                          0.0         0.0         0.0        1.00  \n",
       "Lead                           0.0         0.0         0.0        6.00  \n",
       "Family_Aizoaceae               0.0         0.0         0.0        1.00  \n",
       "Family_Amaranthaceae           0.0         0.0         0.0        1.00  \n",
       "Family_Araliaceae              0.0         0.0         0.0        1.00  \n",
       "Family_Asteraceae              0.0         0.0         0.0        1.00  \n",
       "Family_Brassicaceae            0.0         0.0         0.0        1.00  \n",
       "Family_Caricaceae              0.0         0.0         0.0        1.00  \n",
       "Family_Caryophyllaceae         0.0         0.0         0.0        1.00  \n",
       "Family_Cucurbitaceae           0.0         0.0         0.0        1.00  \n",
       "Family_Euphorbiaceae           0.0         0.0         0.0        1.00  \n",
       "Family_Fabaceae                0.0         0.0         0.0        1.00  \n",
       "Family_Lamiaceae               0.0         0.0         0.0        1.00  \n",
       "Family_Linaceae                0.0         0.0         0.0        1.00  \n",
       "Family_Malvaceae               0.0         0.0         0.0        1.00  \n",
       "Family_Piperaceae              0.0         0.0         0.0        1.00  \n",
       "Family_Poaceae                 0.0         0.0         1.0        1.00  \n",
       "Family_Rosaceae                0.0         0.0         0.0        1.00  \n",
       "Family_Solanaceae              0.0         0.0         0.0        1.00  \n",
       "Family_Theaceae                0.0         0.0         0.0        1.00  \n",
       "Family_Vitaceae                0.0         0.0         0.0        1.00  \n",
       "Type_Abiotic-biotic            0.0         0.0         0.0        1.00  \n",
       "Type_Biotic-biotic             0.0         0.0         1.0        1.00  "
      ]
     },
     "execution_count": 102,
     "metadata": {},
     "output_type": "execute_result"
    }
   ],
   "source": [
    "X_train.describe().transpose().join(X_test.describe().transpose(),lsuffix='_x_train',rsuffix='_x_test')"
   ]
  },
  {
   "cell_type": "code",
   "execution_count": 103,
   "metadata": {
    "colab": {
     "base_uri": "https://localhost:8080/"
    },
    "id": "AmUGmdcUgj_p",
    "outputId": "185f97b2-8736-4ca7-f07c-c6ae256e802b"
   },
   "outputs": [
    {
     "data": {
      "text/plain": [
       "0    0.503505\n",
       "2    0.304667\n",
       "1    0.191828\n",
       "Name: Parameter, dtype: float64"
      ]
     },
     "execution_count": 103,
     "metadata": {},
     "output_type": "execute_result"
    }
   ],
   "source": [
    "y_train.Parameter.value_counts()/y_train.shape[0]"
   ]
  },
  {
   "cell_type": "code",
   "execution_count": 104,
   "metadata": {
    "colab": {
     "base_uri": "https://localhost:8080/"
    },
    "id": "mF4tURrwgze4",
    "outputId": "40d6432c-288e-47af-baf9-b5a2bffba781"
   },
   "outputs": [
    {
     "data": {
      "text/plain": [
       "0    0.503590\n",
       "2    0.304615\n",
       "1    0.191795\n",
       "Name: Parameter, dtype: float64"
      ]
     },
     "execution_count": 104,
     "metadata": {},
     "output_type": "execute_result"
    }
   ],
   "source": [
    "y_test.Parameter.value_counts()/y_test.shape[0]"
   ]
  },
  {
   "cell_type": "code",
   "execution_count": 105,
   "metadata": {
    "colab": {
     "base_uri": "https://localhost:8080/",
     "height": 282
    },
    "id": "PxNLm3RxhA6g",
    "outputId": "971ebfb2-a0d9-4eeb-89c6-f7397da2f8fb"
   },
   "outputs": [
    {
     "data": {
      "text/plain": [
       "<matplotlib.legend.Legend at 0x1ae36659340>"
      ]
     },
     "execution_count": 105,
     "metadata": {},
     "output_type": "execute_result"
    },
    {
     "data": {
      "image/png": "[encoded data removed]",
      "text/plain": [
       "<Figure size 432x288 with 1 Axes>"
      ]
     },
     "metadata": {
      "needs_background": "light"
     },
     "output_type": "display_data"
    }
   ],
   "source": [
    "ax=y_train['Plant performance'].hist(label='train')\n",
    "y_test['Plant performance'].hist(label='test',ax=ax)\n",
    "plt.legend()"
   ]
  },
  {
   "cell_type": "code",
   "execution_count": 106,
   "metadata": {
    "colab": {
     "base_uri": "https://localhost:8080/",
     "height": 282
    },
    "id": "J9Ew40OenoNf",
    "outputId": "7791c9a9-4048-4dbb-d62a-1a6ca9953143"
   },
   "outputs": [
    {
     "data": {
      "text/plain": [
       "<matplotlib.legend.Legend at 0x1ae366eafd0>"
      ]
     },
     "execution_count": 106,
     "metadata": {},
     "output_type": "execute_result"
    },
    {
     "data": {
      "image/png": "[encoded data removed]",
      "text/plain": [
       "<Figure size 432x288 with 1 Axes>"
      ]
     },
     "metadata": {
      "needs_background": "light"
     },
     "output_type": "display_data"
    }
   ],
   "source": [
    "ax=y_train['Parameter'].hist(label='train')\n",
    "y_test['Parameter'].hist(label='test',ax=ax)\n",
    "plt.legend()"
   ]
  },
  {
   "cell_type": "code",
   "execution_count": 107,
   "metadata": {
    "id": "GAnugAiNKDE1"
   },
   "outputs": [],
   "source": [
    "normalizer = preprocessing.Normalization(axis=-1)\n",
    "normalizer.adapt(np.array(X_train))"
   ]
  },
  {
   "cell_type": "code",
   "execution_count": null,
   "metadata": {},
   "outputs": [],
   "source": []
  },
  {
   "cell_type": "code",
   "execution_count": 108,
   "metadata": {},
   "outputs": [
    {
     "data": {
      "text/html": [
       "<div>\n",
       "<style scoped>\n",
       "    .dataframe tbody tr th:only-of-type {\n",
       "        vertical-align: middle;\n",
       "    }\n",
       "\n",
       "    .dataframe tbody tr th {\n",
       "        vertical-align: top;\n",
       "    }\n",
       "\n",
       "    .dataframe thead th {\n",
       "        text-align: right;\n",
       "    }\n",
       "</style>\n",
       "<table border=\"1\" class=\"dataframe\">\n",
       "  <thead>\n",
       "    <tr style=\"text-align: right;\">\n",
       "      <th></th>\n",
       "      <th>Simultaneous</th>\n",
       "      <th>Sequential</th>\n",
       "      <th>Average temperature</th>\n",
       "      <th>Salt</th>\n",
       "      <th>Drought</th>\n",
       "      <th>Boron</th>\n",
       "      <th>Cd</th>\n",
       "      <th>UV</th>\n",
       "      <th>Ozone</th>\n",
       "      <th>Waterlogging</th>\n",
       "      <th>...</th>\n",
       "      <th>Family_Linaceae</th>\n",
       "      <th>Family_Malvaceae</th>\n",
       "      <th>Family_Piperaceae</th>\n",
       "      <th>Family_Poaceae</th>\n",
       "      <th>Family_Rosaceae</th>\n",
       "      <th>Family_Solanaceae</th>\n",
       "      <th>Family_Theaceae</th>\n",
       "      <th>Family_Vitaceae</th>\n",
       "      <th>Type_Abiotic-biotic</th>\n",
       "      <th>Type_Biotic-biotic</th>\n",
       "    </tr>\n",
       "  </thead>\n",
       "  <tbody>\n",
       "    <tr>\n",
       "      <th>1791</th>\n",
       "      <td>0.0</td>\n",
       "      <td>1.0</td>\n",
       "      <td>24.80</td>\n",
       "      <td>0</td>\n",
       "      <td>0</td>\n",
       "      <td>30.0</td>\n",
       "      <td>0.0</td>\n",
       "      <td>1.0</td>\n",
       "      <td>0.0</td>\n",
       "      <td>0</td>\n",
       "      <td>...</td>\n",
       "      <td>0</td>\n",
       "      <td>0</td>\n",
       "      <td>0</td>\n",
       "      <td>0</td>\n",
       "      <td>0</td>\n",
       "      <td>0</td>\n",
       "      <td>0</td>\n",
       "      <td>0</td>\n",
       "      <td>0</td>\n",
       "      <td>1</td>\n",
       "    </tr>\n",
       "    <tr>\n",
       "      <th>2170</th>\n",
       "      <td>1.0</td>\n",
       "      <td>0.0</td>\n",
       "      <td>21.35</td>\n",
       "      <td>0</td>\n",
       "      <td>0</td>\n",
       "      <td>30.0</td>\n",
       "      <td>0.0</td>\n",
       "      <td>1.0</td>\n",
       "      <td>0.0</td>\n",
       "      <td>0</td>\n",
       "      <td>...</td>\n",
       "      <td>0</td>\n",
       "      <td>0</td>\n",
       "      <td>0</td>\n",
       "      <td>0</td>\n",
       "      <td>0</td>\n",
       "      <td>0</td>\n",
       "      <td>0</td>\n",
       "      <td>0</td>\n",
       "      <td>0</td>\n",
       "      <td>1</td>\n",
       "    </tr>\n",
       "    <tr>\n",
       "      <th>2794</th>\n",
       "      <td>0.0</td>\n",
       "      <td>0.0</td>\n",
       "      <td>20.60</td>\n",
       "      <td>0</td>\n",
       "      <td>0</td>\n",
       "      <td>30.0</td>\n",
       "      <td>0.0</td>\n",
       "      <td>1.0</td>\n",
       "      <td>0.0</td>\n",
       "      <td>0</td>\n",
       "      <td>...</td>\n",
       "      <td>0</td>\n",
       "      <td>0</td>\n",
       "      <td>0</td>\n",
       "      <td>0</td>\n",
       "      <td>0</td>\n",
       "      <td>0</td>\n",
       "      <td>1</td>\n",
       "      <td>0</td>\n",
       "      <td>0</td>\n",
       "      <td>1</td>\n",
       "    </tr>\n",
       "    <tr>\n",
       "      <th>3304</th>\n",
       "      <td>0.0</td>\n",
       "      <td>1.0</td>\n",
       "      <td>29.10</td>\n",
       "      <td>0</td>\n",
       "      <td>0</td>\n",
       "      <td>30.0</td>\n",
       "      <td>0.0</td>\n",
       "      <td>1.0</td>\n",
       "      <td>0.0</td>\n",
       "      <td>0</td>\n",
       "      <td>...</td>\n",
       "      <td>0</td>\n",
       "      <td>0</td>\n",
       "      <td>0</td>\n",
       "      <td>1</td>\n",
       "      <td>0</td>\n",
       "      <td>0</td>\n",
       "      <td>0</td>\n",
       "      <td>0</td>\n",
       "      <td>0</td>\n",
       "      <td>1</td>\n",
       "    </tr>\n",
       "    <tr>\n",
       "      <th>6525</th>\n",
       "      <td>0.0</td>\n",
       "      <td>0.0</td>\n",
       "      <td>18.10</td>\n",
       "      <td>1</td>\n",
       "      <td>0</td>\n",
       "      <td>30.0</td>\n",
       "      <td>0.0</td>\n",
       "      <td>1.0</td>\n",
       "      <td>0.0</td>\n",
       "      <td>0</td>\n",
       "      <td>...</td>\n",
       "      <td>0</td>\n",
       "      <td>0</td>\n",
       "      <td>0</td>\n",
       "      <td>0</td>\n",
       "      <td>0</td>\n",
       "      <td>0</td>\n",
       "      <td>0</td>\n",
       "      <td>0</td>\n",
       "      <td>0</td>\n",
       "      <td>0</td>\n",
       "    </tr>\n",
       "    <tr>\n",
       "      <th>...</th>\n",
       "      <td>...</td>\n",
       "      <td>...</td>\n",
       "      <td>...</td>\n",
       "      <td>...</td>\n",
       "      <td>...</td>\n",
       "      <td>...</td>\n",
       "      <td>...</td>\n",
       "      <td>...</td>\n",
       "      <td>...</td>\n",
       "      <td>...</td>\n",
       "      <td>...</td>\n",
       "      <td>...</td>\n",
       "      <td>...</td>\n",
       "      <td>...</td>\n",
       "      <td>...</td>\n",
       "      <td>...</td>\n",
       "      <td>...</td>\n",
       "      <td>...</td>\n",
       "      <td>...</td>\n",
       "      <td>...</td>\n",
       "      <td>...</td>\n",
       "    </tr>\n",
       "    <tr>\n",
       "      <th>1296</th>\n",
       "      <td>0.0</td>\n",
       "      <td>0.0</td>\n",
       "      <td>27.70</td>\n",
       "      <td>0</td>\n",
       "      <td>0</td>\n",
       "      <td>30.0</td>\n",
       "      <td>0.0</td>\n",
       "      <td>1.0</td>\n",
       "      <td>0.0</td>\n",
       "      <td>0</td>\n",
       "      <td>...</td>\n",
       "      <td>0</td>\n",
       "      <td>0</td>\n",
       "      <td>0</td>\n",
       "      <td>0</td>\n",
       "      <td>0</td>\n",
       "      <td>0</td>\n",
       "      <td>0</td>\n",
       "      <td>0</td>\n",
       "      <td>0</td>\n",
       "      <td>1</td>\n",
       "    </tr>\n",
       "    <tr>\n",
       "      <th>2198</th>\n",
       "      <td>1.0</td>\n",
       "      <td>0.0</td>\n",
       "      <td>14.95</td>\n",
       "      <td>0</td>\n",
       "      <td>0</td>\n",
       "      <td>30.0</td>\n",
       "      <td>0.0</td>\n",
       "      <td>1.0</td>\n",
       "      <td>0.0</td>\n",
       "      <td>0</td>\n",
       "      <td>...</td>\n",
       "      <td>0</td>\n",
       "      <td>0</td>\n",
       "      <td>0</td>\n",
       "      <td>0</td>\n",
       "      <td>0</td>\n",
       "      <td>1</td>\n",
       "      <td>0</td>\n",
       "      <td>0</td>\n",
       "      <td>0</td>\n",
       "      <td>1</td>\n",
       "    </tr>\n",
       "    <tr>\n",
       "      <th>7340</th>\n",
       "      <td>0.0</td>\n",
       "      <td>1.0</td>\n",
       "      <td>28.40</td>\n",
       "      <td>1</td>\n",
       "      <td>0</td>\n",
       "      <td>30.0</td>\n",
       "      <td>0.0</td>\n",
       "      <td>0.0</td>\n",
       "      <td>0.0</td>\n",
       "      <td>0</td>\n",
       "      <td>...</td>\n",
       "      <td>0</td>\n",
       "      <td>0</td>\n",
       "      <td>0</td>\n",
       "      <td>0</td>\n",
       "      <td>0</td>\n",
       "      <td>0</td>\n",
       "      <td>0</td>\n",
       "      <td>0</td>\n",
       "      <td>0</td>\n",
       "      <td>0</td>\n",
       "    </tr>\n",
       "    <tr>\n",
       "      <th>2316</th>\n",
       "      <td>0.0</td>\n",
       "      <td>0.0</td>\n",
       "      <td>15.20</td>\n",
       "      <td>0</td>\n",
       "      <td>0</td>\n",
       "      <td>30.0</td>\n",
       "      <td>0.0</td>\n",
       "      <td>1.0</td>\n",
       "      <td>0.0</td>\n",
       "      <td>0</td>\n",
       "      <td>...</td>\n",
       "      <td>0</td>\n",
       "      <td>0</td>\n",
       "      <td>0</td>\n",
       "      <td>0</td>\n",
       "      <td>0</td>\n",
       "      <td>1</td>\n",
       "      <td>0</td>\n",
       "      <td>0</td>\n",
       "      <td>0</td>\n",
       "      <td>1</td>\n",
       "    </tr>\n",
       "    <tr>\n",
       "      <th>2977</th>\n",
       "      <td>0.0</td>\n",
       "      <td>0.0</td>\n",
       "      <td>18.75</td>\n",
       "      <td>0</td>\n",
       "      <td>0</td>\n",
       "      <td>30.0</td>\n",
       "      <td>0.0</td>\n",
       "      <td>1.0</td>\n",
       "      <td>0.0</td>\n",
       "      <td>0</td>\n",
       "      <td>...</td>\n",
       "      <td>0</td>\n",
       "      <td>0</td>\n",
       "      <td>0</td>\n",
       "      <td>0</td>\n",
       "      <td>0</td>\n",
       "      <td>1</td>\n",
       "      <td>0</td>\n",
       "      <td>0</td>\n",
       "      <td>0</td>\n",
       "      <td>1</td>\n",
       "    </tr>\n",
       "  </tbody>\n",
       "</table>\n",
       "<p>5849 rows × 45 columns</p>\n",
       "</div>"
      ],
      "text/plain": [
       "      Simultaneous  Sequential  Average temperature  Salt  Drought  Boron  \\\n",
       "1791           0.0         1.0                24.80     0        0   30.0   \n",
       "2170           1.0         0.0                21.35     0        0   30.0   \n",
       "2794           0.0         0.0                20.60     0        0   30.0   \n",
       "3304           0.0         1.0                29.10     0        0   30.0   \n",
       "6525           0.0         0.0                18.10     1        0   30.0   \n",
       "...            ...         ...                  ...   ...      ...    ...   \n",
       "1296           0.0         0.0                27.70     0        0   30.0   \n",
       "2198           1.0         0.0                14.95     0        0   30.0   \n",
       "7340           0.0         1.0                28.40     1        0   30.0   \n",
       "2316           0.0         0.0                15.20     0        0   30.0   \n",
       "2977           0.0         0.0                18.75     0        0   30.0   \n",
       "\n",
       "       Cd   UV  Ozone  Waterlogging  ...  Family_Linaceae  Family_Malvaceae  \\\n",
       "1791  0.0  1.0    0.0             0  ...                0                 0   \n",
       "2170  0.0  1.0    0.0             0  ...                0                 0   \n",
       "2794  0.0  1.0    0.0             0  ...                0                 0   \n",
       "3304  0.0  1.0    0.0             0  ...                0                 0   \n",
       "6525  0.0  1.0    0.0             0  ...                0                 0   \n",
       "...   ...  ...    ...           ...  ...              ...               ...   \n",
       "1296  0.0  1.0    0.0             0  ...                0                 0   \n",
       "2198  0.0  1.0    0.0             0  ...                0                 0   \n",
       "7340  0.0  0.0    0.0             0  ...                0                 0   \n",
       "2316  0.0  1.0    0.0             0  ...                0                 0   \n",
       "2977  0.0  1.0    0.0             0  ...                0                 0   \n",
       "\n",
       "      Family_Piperaceae  Family_Poaceae  Family_Rosaceae  Family_Solanaceae  \\\n",
       "1791                  0               0                0                  0   \n",
       "2170                  0               0                0                  0   \n",
       "2794                  0               0                0                  0   \n",
       "3304                  0               1                0                  0   \n",
       "6525                  0               0                0                  0   \n",
       "...                 ...             ...              ...                ...   \n",
       "1296                  0               0                0                  0   \n",
       "2198                  0               0                0                  1   \n",
       "7340                  0               0                0                  0   \n",
       "2316                  0               0                0                  1   \n",
       "2977                  0               0                0                  1   \n",
       "\n",
       "      Family_Theaceae  Family_Vitaceae  Type_Abiotic-biotic  \\\n",
       "1791                0                0                    0   \n",
       "2170                0                0                    0   \n",
       "2794                1                0                    0   \n",
       "3304                0                0                    0   \n",
       "6525                0                0                    0   \n",
       "...               ...              ...                  ...   \n",
       "1296                0                0                    0   \n",
       "2198                0                0                    0   \n",
       "7340                0                0                    0   \n",
       "2316                0                0                    0   \n",
       "2977                0                0                    0   \n",
       "\n",
       "      Type_Biotic-biotic  \n",
       "1791                   1  \n",
       "2170                   1  \n",
       "2794                   1  \n",
       "3304                   1  \n",
       "6525                   0  \n",
       "...                  ...  \n",
       "1296                   1  \n",
       "2198                   1  \n",
       "7340                   0  \n",
       "2316                   1  \n",
       "2977                   1  \n",
       "\n",
       "[5849 rows x 45 columns]"
      ]
     },
     "execution_count": 108,
     "metadata": {},
     "output_type": "execute_result"
    }
   ],
   "source": [
    "X_train"
   ]
  },
  {
   "cell_type": "code",
   "execution_count": 109,
   "metadata": {
    "colab": {
     "base_uri": "https://localhost:8080/"
    },
    "id": "mYcYrQQ4oCDp",
    "outputId": "a8324376-7060-4893-876c-66b755528721"
   },
   "outputs": [
    {
     "data": {
      "text/plain": [
       "0    3927\n",
       "2    2376\n",
       "1    1496\n",
       "Name: Parameter, dtype: int64"
      ]
     },
     "execution_count": 109,
     "metadata": {},
     "output_type": "execute_result"
    }
   ],
   "source": [
    "y.Parameter.value_counts()"
   ]
  },
  {
   "cell_type": "code",
   "execution_count": 110,
   "metadata": {
    "colab": {
     "base_uri": "https://localhost:8080/"
    },
    "id": "PvNCHgaTON7h",
    "outputId": "25ff6601-b4fd-4b48-b552-288509dabe86"
   },
   "outputs": [
    {
     "data": {
      "text/plain": [
       "((5849, 45), (1950, 45))"
      ]
     },
     "execution_count": 110,
     "metadata": {},
     "output_type": "execute_result"
    }
   ],
   "source": [
    "X_train.shape,X_test.shape"
   ]
  },
  {
   "cell_type": "code",
   "execution_count": 111,
   "metadata": {
    "colab": {
     "base_uri": "https://localhost:8080/"
    },
    "id": "TVd1LqaIRVoS",
    "outputId": "a908c5ab-aff2-4c97-d7b0-73a017a41e37"
   },
   "outputs": [
    {
     "data": {
      "text/plain": [
       "((5849, 2), (1950, 2))"
      ]
     },
     "execution_count": 111,
     "metadata": {},
     "output_type": "execute_result"
    }
   ],
   "source": [
    "y_train.shape,y_test.shape"
   ]
  },
  {
   "cell_type": "code",
   "execution_count": 112,
   "metadata": {
    "colab": {
     "base_uri": "https://localhost:8080/"
    },
    "id": "3WHkvlmDn3Cr",
    "outputId": "33e3f7af-a4c9-4512-8966-301a32524fc7"
   },
   "outputs": [
    {
     "data": {
      "text/plain": [
       "0    2945\n",
       "2    1782\n",
       "1    1122\n",
       "Name: Parameter, dtype: int64"
      ]
     },
     "execution_count": 112,
     "metadata": {},
     "output_type": "execute_result"
    }
   ],
   "source": [
    "y_train['Parameter'].value_counts()"
   ]
  },
  {
   "cell_type": "code",
   "execution_count": 113,
   "metadata": {
    "id": "HjAH7AiG5exW"
   },
   "outputs": [],
   "source": [
    "def get_model(input_dim,norm):\n",
    "    \n",
    "    norm\n",
    "    input_layer = keras.Input(shape=(input_dim,), name=\"input_layer\")\n",
    "    dense_1 = keras.layers.Dense(256, name = 'dense_1',activation='elu')(input_layer)\n",
    "    drop_out1=keras.layers.Dropout(0.3,name='drop_out1')(dense_1)\n",
    "    dense_2 = keras.layers.Dense(128, name = 'dense_2',activation='elu')(drop_out1)\n",
    "    drop_out2=keras.layers.Dropout(0.2,name='drop_out2')(dense_2)\n",
    "    dense_3=keras.layers.Dense(64,activation='elu',name='dense_3')(drop_out2)\n",
    "    dense_4=keras.layers.Dense(32,activation='elu',name='dense_4')(dense_3)\n",
    "    \n",
    "    regression_output = keras.layers.Dense(1, activation = 'linear', name = 'regression_output')(dense_3)\n",
    "    classification_output = keras.layers.Dense(3, activation = 'softmax', name = 'classification_output')(dense_3)\n",
    "    model = keras.Model(inputs=input_layer,outputs=[regression_output, classification_output])\n",
    "    \n",
    "    return(model)\n",
    "\n",
    "def get_predictions(model, df, y):\n",
    "    \n",
    "    predictions = model.predict(df)\n",
    "\n",
    "    pdf = pd.DataFrame(predictions[1], columns = le.inverse_transform(list(range(3))))\n",
    "    \n",
    "    pdf=pd.concat([pdf,pd.Series(le.inverse_transform(np.argmax(predictions[1],axis=1)),name='predicted_class')],axis=1)\n",
    "    #pdf['predicted_class'] = le.inverse_transform(np.argmax(predictions[1],axis=1))#pdf.predicted_proba >= 0.5\n",
    "    #print(pdf.tail())\n",
    "    pdf['actual_class'] = le.inverse_transform(y.Parameter.reset_index(drop=True))\n",
    "\n",
    "    pdf['predicted_reg'] = predictions[0]\n",
    "\n",
    "    pdf['actual_reg'] = y['Plant performance'].reset_index(drop=True)\n",
    "    \n",
    "    return(pdf)\n",
    "\n",
    "def evaluate_model(df):\n",
    "    \n",
    "    precision = precision_score(df.actual_class, df.predicted_class,average='weighted')\n",
    "    recall = recall_score(df.actual_class, df.predicted_class,average='weighted')\n",
    "    accuracy=accuracy_score(df.actual_class, df.predicted_class)\n",
    "    r2 = r2_score(df.actual_reg, df.predicted_reg)\n",
    "    rmse=mean_squared_error(df.actual_reg, df.predicted_reg)**0.5\n",
    "    metrics={'precision':precision,'recall':recall,'accuracy':accuracy,'r2':r2,'rmse':rmse}\n",
    "    fig,axs=plt.subplots(nrows=1,ncols=1,figsize=(10,10))\n",
    "    cm = confusion_matrix(df['actual_class'], df['predicted_class'], normalize='true')\n",
    "    disp = ConfusionMatrixDisplay(confusion_matrix=cm, display_labels=le.inverse_transform(list(range(3))))\n",
    "    disp.plot(cmap=plt.cm.Blues,ax=axs)\n",
    "    plt.show()\n",
    "    return(metrics)"
   ]
  },
  {
   "cell_type": "code",
   "execution_count": 114,
   "metadata": {
    "id": "2pQQpsTOFM_o"
   },
   "outputs": [],
   "source": [
    "#predictions = model.predict(X_train)\n",
    "#predictions[1]\n",
    "#pdf = pd.DataFrame(predictions[1], columns = le.inverse_transform(list(range(5))))\n",
    "#pdf.head()"
   ]
  },
  {
   "cell_type": "code",
   "execution_count": 115,
   "metadata": {
    "id": "caC_C92XKxA2"
   },
   "outputs": [],
   "source": [
    "# def plot_loss(history):\n",
    "#   plt.plot(history.history['loss'], label='loss')\n",
    "#   plt.plot(history.history['val_loss'], label='val_loss')\n",
    "#   plt.ylim([0, 10])\n",
    "#   plt.xlabel('Epoch')\n",
    "#   plt.ylabel('Error Biomass')\n",
    "#   plt.legend()\n",
    "#   plt.grid(True)"
   ]
  },
  {
   "cell_type": "markdown",
   "metadata": {
    "id": "CXIbZJ1-bkgJ"
   },
   "source": [
    "### Train set"
   ]
  },
  {
   "cell_type": "markdown",
   "metadata": {
    "id": "BmtqAd9xZqcU"
   },
   "source": [
    "Training with different weights for regression and classification"
   ]
  },
  {
   "cell_type": "code",
   "execution_count": 116,
   "metadata": {
    "colab": {
     "base_uri": "https://localhost:8080/",
     "height": 1000
    },
    "id": "STBzPltdZ2al",
    "outputId": "c3a4a35a-0ea1-4020-a86a-c2d8dad3af98"
   },
   "outputs": [
    {
     "name": "stdout",
     "output_type": "stream",
     "text": [
      "[1, 100]\n",
      "183/183 [==============================] - 1s 2ms/step\n"
     ]
    },
    {
     "data": {
      "image/png": "[encoded data removed]",
      "text/plain": [
       "<Figure size 720x720 with 2 Axes>"
      ]
     },
     "metadata": {
      "needs_background": "light"
     },
     "output_type": "display_data"
    },
    {
     "name": "stdout",
     "output_type": "stream",
     "text": [
      "[1, 50]\n",
      "183/183 [==============================] - 0s 2ms/step\n"
     ]
    },
    {
     "data": {
      "image/png": "[encoded data removed]",
      "text/plain": [
       "<Figure size 720x720 with 2 Axes>"
      ]
     },
     "metadata": {
      "needs_background": "light"
     },
     "output_type": "display_data"
    },
    {
     "name": "stdout",
     "output_type": "stream",
     "text": [
      "[1, 10]\n",
      "183/183 [==============================] - 0s 2ms/step\n"
     ]
    },
    {
     "data": {
      "image/png": "[encoded data removed]",
      "text/plain": [
       "<Figure size 720x720 with 2 Axes>"
      ]
     },
     "metadata": {
      "needs_background": "light"
     },
     "output_type": "display_data"
    },
    {
     "name": "stdout",
     "output_type": "stream",
     "text": [
      "[1, 1]\n",
      "183/183 [==============================] - 0s 2ms/step\n"
     ]
    },
    {
     "name": "stderr",
     "output_type": "stream",
     "text": [
      "C:\\Users\\manuk\\anaconda3\\lib\\site-packages\\sklearn\\metrics\\_classification.py:1248: UndefinedMetricWarning: Precision is ill-defined and being set to 0.0 in labels with no predicted samples. Use `zero_division` parameter to control this behavior.\n",
      "  _warn_prf(average, modifier, msg_start, len(result))\n"
     ]
    },
    {
     "data": {
      "image/png": "[encoded data removed]",
      "text/plain": [
       "<Figure size 720x720 with 2 Axes>"
      ]
     },
     "metadata": {
      "needs_background": "light"
     },
     "output_type": "display_data"
    },
    {
     "name": "stdout",
     "output_type": "stream",
     "text": [
      "[10, 1]\n",
      "183/183 [==============================] - 0s 2ms/step\n"
     ]
    },
    {
     "name": "stderr",
     "output_type": "stream",
     "text": [
      "C:\\Users\\manuk\\anaconda3\\lib\\site-packages\\sklearn\\metrics\\_classification.py:1248: UndefinedMetricWarning: Precision is ill-defined and being set to 0.0 in labels with no predicted samples. Use `zero_division` parameter to control this behavior.\n",
      "  _warn_prf(average, modifier, msg_start, len(result))\n"
     ]
    },
    {
     "data": {
      "image/png": "[encoded data removed]",
      "text/plain": [
       "<Figure size 720x720 with 2 Axes>"
      ]
     },
     "metadata": {
      "needs_background": "light"
     },
     "output_type": "display_data"
    },
    {
     "name": "stdout",
     "output_type": "stream",
     "text": [
      "[50, 1]\n",
      "183/183 [==============================] - 0s 2ms/step\n"
     ]
    },
    {
     "name": "stderr",
     "output_type": "stream",
     "text": [
      "C:\\Users\\manuk\\anaconda3\\lib\\site-packages\\sklearn\\metrics\\_classification.py:1248: UndefinedMetricWarning: Precision is ill-defined and being set to 0.0 in labels with no predicted samples. Use `zero_division` parameter to control this behavior.\n",
      "  _warn_prf(average, modifier, msg_start, len(result))\n"
     ]
    },
    {
     "data": {
      "image/png": "[encoded data removed]",
      "text/plain": [
       "<Figure size 720x720 with 2 Axes>"
      ]
     },
     "metadata": {
      "needs_background": "light"
     },
     "output_type": "display_data"
    },
    {
     "name": "stdout",
     "output_type": "stream",
     "text": [
      "[100, 1]\n",
      "183/183 [==============================] - 0s 2ms/step\n"
     ]
    },
    {
     "name": "stderr",
     "output_type": "stream",
     "text": [
      "C:\\Users\\manuk\\anaconda3\\lib\\site-packages\\sklearn\\metrics\\_classification.py:1248: UndefinedMetricWarning: Precision is ill-defined and being set to 0.0 in labels with no predicted samples. Use `zero_division` parameter to control this behavior.\n",
      "  _warn_prf(average, modifier, msg_start, len(result))\n"
     ]
    },
    {
     "data": {
      "image/png": "[encoded data removed]",
      "text/plain": [
       "<Figure size 720x720 with 2 Axes>"
      ]
     },
     "metadata": {
      "needs_background": "light"
     },
     "output_type": "display_data"
    }
   ],
   "source": [
    "result_dict = {}\n",
    "\n",
    "for loss_weight_param in ([1,100],[1,50],[1,10],[1,1],[10,1],[50,1],[100,1]):\n",
    "    \n",
    "    model = get_model(45,normalizer)\n",
    "    #model = loaded_model\n",
    "    \n",
    "    model.compile(\n",
    "    optimizer=tf.optimizers.Adam(learning_rate=0.003),\n",
    "               #tf.optimizers.Adam(learning_rate=0.001)],\n",
    "    loss=[\n",
    "        keras.losses.MeanSquaredError(),\n",
    "        keras.losses.SparseCategoricalCrossentropy(),\n",
    "    ],loss_weights = loss_weight_param)\n",
    "    \n",
    "    history_train=model.fit(X_train,\n",
    "    {\"regression_output\": y_train['Plant performance'], \"classification_output\": y_train.Parameter},\n",
    "    epochs=500,batch_size=50,verbose=0)\n",
    "    \n",
    "    reg_losses=history_train.history['regression_output_loss']\n",
    "    class_losses=history_train.history['classification_output_loss']\n",
    "    \n",
    "    print(str(loss_weight_param))\n",
    "    predictions = get_predictions(model, X_train, y_train)\n",
    "    \n",
    "    result_dict.update({str(loss_weight_param):evaluate_model(predictions)})"
   ]
  },
  {
   "cell_type": "code",
   "execution_count": 117,
   "metadata": {
    "colab": {
     "base_uri": "https://localhost:8080/"
    },
    "id": "Okkolp2P80dL",
    "outputId": "47021a0b-7394-41f9-b6cc-1e3a53a71104"
   },
   "outputs": [
    {
     "name": "stdout",
     "output_type": "stream",
     "text": [
      "Model: \"model_6\"\n",
      "__________________________________________________________________________________________________\n",
      " Layer (type)                   Output Shape         Param #     Connected to                     \n",
      "==================================================================================================\n",
      " input_layer (InputLayer)       [(None, 45)]         0           []                               \n",
      "                                                                                                  \n",
      " dense_1 (Dense)                (None, 256)          11776       ['input_layer[0][0]']            \n",
      "                                                                                                  \n",
      " drop_out1 (Dropout)            (None, 256)          0           ['dense_1[0][0]']                \n",
      "                                                                                                  \n",
      " dense_2 (Dense)                (None, 128)          32896       ['drop_out1[0][0]']              \n",
      "                                                                                                  \n",
      " drop_out2 (Dropout)            (None, 128)          0           ['dense_2[0][0]']                \n",
      "                                                                                                  \n",
      " dense_3 (Dense)                (None, 64)           8256        ['drop_out2[0][0]']              \n",
      "                                                                                                  \n",
      " regression_output (Dense)      (None, 1)            65          ['dense_3[0][0]']                \n",
      "                                                                                                  \n",
      " classification_output (Dense)  (None, 3)            195         ['dense_3[0][0]']                \n",
      "                                                                                                  \n",
      "==================================================================================================\n",
      "Total params: 53,188\n",
      "Trainable params: 53,188\n",
      "Non-trainable params: 0\n",
      "__________________________________________________________________________________________________\n"
     ]
    }
   ],
   "source": [
    "model.summary()"
   ]
  },
  {
   "cell_type": "code",
   "execution_count": 118,
   "metadata": {
    "colab": {
     "base_uri": "https://localhost:8080/",
     "height": 1000
    },
    "id": "Q3Z0KNro8vFZ",
    "outputId": "29a6e111-d2cc-44ab-8fa5-1f1cd78a2c1e"
   },
   "outputs": [
    {
     "name": "stdout",
     "output_type": "stream",
     "text": [
      "[1, 100]\n",
      "61/61 [==============================] - 0s 2ms/step\n"
     ]
    },
    {
     "data": {
      "image/png": "[encoded data removed]",
      "text/plain": [
       "<Figure size 720x720 with 2 Axes>"
      ]
     },
     "metadata": {
      "needs_background": "light"
     },
     "output_type": "display_data"
    },
    {
     "name": "stdout",
     "output_type": "stream",
     "text": [
      "[1, 50]\n",
      "61/61 [==============================] - 0s 2ms/step\n"
     ]
    },
    {
     "data": {
      "image/png": "[encoded data removed]",
      "text/plain": [
       "<Figure size 720x720 with 2 Axes>"
      ]
     },
     "metadata": {
      "needs_background": "light"
     },
     "output_type": "display_data"
    },
    {
     "name": "stdout",
     "output_type": "stream",
     "text": [
      "[1, 10]\n",
      "61/61 [==============================] - 0s 2ms/step\n"
     ]
    },
    {
     "data": {
      "image/png": "[encoded data removed]",
      "text/plain": [
       "<Figure size 720x720 with 2 Axes>"
      ]
     },
     "metadata": {
      "needs_background": "light"
     },
     "output_type": "display_data"
    },
    {
     "name": "stdout",
     "output_type": "stream",
     "text": [
      "[1, 1]\n",
      "61/61 [==============================] - 0s 3ms/step\n"
     ]
    },
    {
     "data": {
      "image/png": "[encoded data removed]",
      "text/plain": [
       "<Figure size 720x720 with 2 Axes>"
      ]
     },
     "metadata": {
      "needs_background": "light"
     },
     "output_type": "display_data"
    },
    {
     "name": "stdout",
     "output_type": "stream",
     "text": [
      "[10, 1]\n",
      "61/61 [==============================] - 0s 2ms/step\n"
     ]
    },
    {
     "name": "stderr",
     "output_type": "stream",
     "text": [
      "C:\\Users\\manuk\\anaconda3\\lib\\site-packages\\sklearn\\metrics\\_classification.py:1248: UndefinedMetricWarning: Precision is ill-defined and being set to 0.0 in labels with no predicted samples. Use `zero_division` parameter to control this behavior.\n",
      "  _warn_prf(average, modifier, msg_start, len(result))\n"
     ]
    },
    {
     "data": {
      "image/png": "[encoded data removed]",
      "text/plain": [
       "<Figure size 720x720 with 2 Axes>"
      ]
     },
     "metadata": {
      "needs_background": "light"
     },
     "output_type": "display_data"
    },
    {
     "name": "stdout",
     "output_type": "stream",
     "text": [
      "[50, 1]\n",
      "61/61 [==============================] - 0s 2ms/step\n"
     ]
    },
    {
     "name": "stderr",
     "output_type": "stream",
     "text": [
      "C:\\Users\\manuk\\anaconda3\\lib\\site-packages\\sklearn\\metrics\\_classification.py:1248: UndefinedMetricWarning: Precision is ill-defined and being set to 0.0 in labels with no predicted samples. Use `zero_division` parameter to control this behavior.\n",
      "  _warn_prf(average, modifier, msg_start, len(result))\n"
     ]
    },
    {
     "data": {
      "image/png": "[encoded data removed]",
      "text/plain": [
       "<Figure size 720x720 with 2 Axes>"
      ]
     },
     "metadata": {
      "needs_background": "light"
     },
     "output_type": "display_data"
    },
    {
     "name": "stdout",
     "output_type": "stream",
     "text": [
      "[100, 1]\n",
      "61/61 [==============================] - 0s 2ms/step\n"
     ]
    },
    {
     "name": "stderr",
     "output_type": "stream",
     "text": [
      "C:\\Users\\manuk\\anaconda3\\lib\\site-packages\\sklearn\\metrics\\_classification.py:1248: UndefinedMetricWarning: Precision is ill-defined and being set to 0.0 in labels with no predicted samples. Use `zero_division` parameter to control this behavior.\n",
      "  _warn_prf(average, modifier, msg_start, len(result))\n"
     ]
    },
    {
     "data": {
      "image/png": "[encoded data removed]",
      "text/plain": [
       "<Figure size 720x720 with 2 Axes>"
      ]
     },
     "metadata": {
      "needs_background": "light"
     },
     "output_type": "display_data"
    }
   ],
   "source": [
    "result_dict = {}\n",
    "\n",
    "for loss_weight_param in ([1,100],[1,50],[1,10],[1,1],[10,1],[50,1],[100,1]):\n",
    "    \n",
    "    model = get_model(45,normalizer)\n",
    "    \n",
    "    model.compile(\n",
    "    optimizer=#[tf.optimizers.Adam(learning_rate=0.01),\n",
    "               tf.optimizers.Adam(learning_rate=0.003),\n",
    "    loss=[\n",
    "        keras.losses.MeanSquaredError(),\n",
    "        keras.losses.SparseCategoricalCrossentropy(),\n",
    "    ],loss_weights = loss_weight_param)\n",
    "    \n",
    "    model.fit(X_train,\n",
    "    {\"regression_output\": y_train['Plant performance'], \"classification_output\": y_train.Parameter},\n",
    "    epochs=200,batch_size=50,verbose=0)\n",
    "    \n",
    "    print(str(loss_weight_param))\n",
    "    predictions = get_predictions(model, X_test, y_test)\n",
    "    \n",
    "    result_dict.update({str(loss_weight_param):evaluate_model(predictions)})"
   ]
  },
  {
   "cell_type": "code",
   "execution_count": 119,
   "metadata": {
    "colab": {
     "base_uri": "https://localhost:8080/",
     "height": 640
    },
    "id": "hOY_BxYJZiNr",
    "outputId": "b36fd149-1f76-4536-8754-6dcae5b62d3f"
   },
   "outputs": [
    {
     "data": {
      "text/plain": [
       "<matplotlib.collections.LineCollection at 0x1ae40417250>"
      ]
     },
     "execution_count": 119,
     "metadata": {},
     "output_type": "execute_result"
    },
    {
     "data": {
      "image/png": "[encoded data removed]",
      "text/plain": [
       "<Figure size 1080x720 with 2 Axes>"
      ]
     },
     "metadata": {
      "needs_background": "light"
     },
     "output_type": "display_data"
    }
   ],
   "source": [
    "plt.figure(figsize=(15,10))\n",
    "plt.subplot(1,2,1)\n",
    "plt.scatter(predictions.predicted_reg, predictions.actual_reg, alpha = 0.25)\n",
    "plt.title('Actual verus predicted regression output \\n Train Dataset')\n",
    "plt.subplot(1,2,2)\n",
    "plt.scatter(predictions.predicted_class, predictions.actual_class, alpha = 0.25)\n",
    "plt.title('Actual class versus predicted probability \\n Train Dataset')\n",
    "plt.vlines(x = 0.5, ymin=0, ymax=1, color ='k', linestyle = ':', alpha = 0.5)\n"
   ]
  },
  {
   "cell_type": "code",
   "execution_count": 120,
   "metadata": {
    "colab": {
     "base_uri": "https://localhost:8080/",
     "height": 640
    },
    "id": "9octcb-S80XO",
    "outputId": "541ad5a1-5772-427c-e4c2-78e6697991f8"
   },
   "outputs": [
    {
     "data": {
      "text/plain": [
       "<matplotlib.collections.LineCollection at 0x1ae3a2df580>"
      ]
     },
     "execution_count": 120,
     "metadata": {},
     "output_type": "execute_result"
    },
    {
     "data": {
      "image/png": "[encoded data removed]",
      "text/plain": [
       "<Figure size 1080x720 with 2 Axes>"
      ]
     },
     "metadata": {
      "needs_background": "light"
     },
     "output_type": "display_data"
    }
   ],
   "source": [
    "plt.figure(figsize=(15,10))\n",
    "plt.subplot(1,2,1)\n",
    "plt.scatter(predictions.predicted_reg, predictions.actual_reg, alpha = 0.25)\n",
    "plt.title('Actual verus predicted regression output \\n Test Dataset')\n",
    "plt.subplot(1,2,2)\n",
    "plt.scatter(predictions.predicted_class, predictions.actual_class, alpha = 0.25)\n",
    "plt.title('Actual class versus predicted probability \\n Test Dataset')\n",
    "plt.vlines(x = 0.5, ymin=0, ymax=1, color ='k', linestyle = ':', alpha = 0.5)\n"
   ]
  },
  {
   "cell_type": "code",
   "execution_count": 121,
   "metadata": {
    "id": "KXlCpI8-_kpd"
   },
   "outputs": [],
   "source": [
    "r2_list = list()\n",
    "prec_list = list()\n",
    "rec_list = list()\n",
    "acc_list=list()\n",
    "rmse_list=list()\n",
    "\n",
    "for i in result_dict.values():\n",
    "    r2_list.append(i['r2'])\n",
    "    prec_list.append(i['precision'])\n",
    "    rec_list.append(i['recall'])\n",
    "    acc_list.append(i['accuracy'])\n",
    "    rmse_list.append(i['rmse'])"
   ]
  },
  {
   "cell_type": "code",
   "execution_count": 122,
   "metadata": {
    "colab": {
     "base_uri": "https://localhost:8080/"
    },
    "id": "gFqxBQcccp7H",
    "outputId": "81221ad0-d193-4ad9-d42f-5a83ba237ee6"
   },
   "outputs": [
    {
     "data": {
      "text/plain": [
       "[-18.14959354126411,\n",
       " -0.7586415582716377,\n",
       " -0.4093476648203429,\n",
       " -0.7652568064134826,\n",
       " -0.04402959705877629,\n",
       " -0.6145112881275396,\n",
       " -15.34399377470448]"
      ]
     },
     "execution_count": 122,
     "metadata": {},
     "output_type": "execute_result"
    }
   ],
   "source": [
    "r2_list"
   ]
  },
  {
   "cell_type": "code",
   "execution_count": 123,
   "metadata": {
    "colab": {
     "base_uri": "https://localhost:8080/"
    },
    "id": "QnktPaHt715S",
    "outputId": "5d64cc85-c37f-4ff3-893b-8f17294b2d6d"
   },
   "outputs": [
    {
     "data": {
      "text/plain": [
       "[-18.14959354126411,\n",
       " -0.7586415582716377,\n",
       " -0.4093476648203429,\n",
       " -0.7652568064134826,\n",
       " -0.04402959705877629,\n",
       " -0.6145112881275396,\n",
       " -15.34399377470448]"
      ]
     },
     "execution_count": 123,
     "metadata": {},
     "output_type": "execute_result"
    }
   ],
   "source": [
    "r2_list"
   ]
  },
  {
   "cell_type": "code",
   "execution_count": 124,
   "metadata": {
    "colab": {
     "base_uri": "https://localhost:8080/"
    },
    "id": "fBcjdJqCufBH",
    "outputId": "2a26b298-b583-4344-bcaa-290df299ce29"
   },
   "outputs": [
    {
     "data": {
      "text/plain": [
       "[0.7753846153846153,\n",
       " 0.7897435897435897,\n",
       " 0.7630769230769231,\n",
       " 0.7435897435897436,\n",
       " 0.5035897435897436,\n",
       " 0.5035897435897436,\n",
       " 0.5035897435897436]"
      ]
     },
     "execution_count": 124,
     "metadata": {},
     "output_type": "execute_result"
    }
   ],
   "source": [
    "acc_list"
   ]
  },
  {
   "cell_type": "code",
   "execution_count": 125,
   "metadata": {
    "colab": {
     "base_uri": "https://localhost:8080/",
     "height": 298
    },
    "id": "zfTspfsw_nYA",
    "outputId": "6cbf795c-70b9-4b50-f84d-fc334d7b7fb1"
   },
   "outputs": [
    {
     "data": {
      "text/plain": [
       "<matplotlib.legend.Legend at 0x1ae3b740e20>"
      ]
     },
     "execution_count": 125,
     "metadata": {},
     "output_type": "execute_result"
    },
    {
     "data": {
      "image/png": "[encoded data removed]",
      "text/plain": [
       "<Figure size 432x288 with 1 Axes>"
      ]
     },
     "metadata": {
      "needs_background": "light"
     },
     "output_type": "display_data"
    }
   ],
   "source": [
    "plt.plot(list(result_dict.keys()),r2_list, marker = 'o', label = 'r2', color ='grey')\n",
    "plt.title('r2 scores versus loss_weights')\n",
    "plt.legend()"
   ]
  },
  {
   "cell_type": "code",
   "execution_count": 126,
   "metadata": {
    "colab": {
     "base_uri": "https://localhost:8080/",
     "height": 298
    },
    "id": "h751iLwSdRXq",
    "outputId": "3da80158-822e-47e7-87f3-e87638c9b4a4"
   },
   "outputs": [
    {
     "data": {
      "text/plain": [
       "<matplotlib.legend.Legend at 0x1ae3b6edeb0>"
      ]
     },
     "execution_count": 126,
     "metadata": {},
     "output_type": "execute_result"
    },
    {
     "data": {
      "image/png": "[encoded data removed]",
      "text/plain": [
       "<Figure size 432x288 with 1 Axes>"
      ]
     },
     "metadata": {
      "needs_background": "light"
     },
     "output_type": "display_data"
    }
   ],
   "source": [
    "plt.plot(list(result_dict.keys()),rmse_list, marker = 'o', label = 'rmse', color ='grey')\n",
    "plt.title('rmse versus loss_weights')\n",
    "plt.legend()"
   ]
  },
  {
   "cell_type": "markdown",
   "metadata": {
    "id": "t0jeHoxOfj6y"
   },
   "source": [
    "After comparing the various metrics and the trade off between them, it is best to go with equal weights for both regression and classification outputs."
   ]
  },
  {
   "cell_type": "code",
   "execution_count": 127,
   "metadata": {
    "colab": {
     "base_uri": "https://localhost:8080/",
     "height": 298
    },
    "id": "xY5rmxk38oZ6",
    "outputId": "a261a27a-22c8-45ad-8dc9-f13db3d6b15d"
   },
   "outputs": [
    {
     "data": {
      "text/plain": [
       "<matplotlib.legend.Legend at 0x1ae427ab7c0>"
      ]
     },
     "execution_count": 127,
     "metadata": {},
     "output_type": "execute_result"
    },
    {
     "data": {
      "image/png": "[encoded data removed]",
      "text/plain": [
       "<Figure size 432x288 with 1 Axes>"
      ]
     },
     "metadata": {
      "needs_background": "light"
     },
     "output_type": "display_data"
    }
   ],
   "source": [
    "plt.plot(list(result_dict.keys()),rmse_list, marker = 'o', label = 'rmse', color ='grey')\n",
    "plt.title('rmse versus loss_weights')\n",
    "plt.legend()"
   ]
  },
  {
   "cell_type": "code",
   "execution_count": 128,
   "metadata": {
    "colab": {
     "base_uri": "https://localhost:8080/",
     "height": 281
    },
    "id": "uygzcsz4_tyQ",
    "outputId": "3415a2ee-19f1-48fd-9558-3d5dacf2fb4d"
   },
   "outputs": [
    {
     "data": {
      "image/png": "[encoded data removed]",
      "text/plain": [
       "<Figure size 432x288 with 1 Axes>"
      ]
     },
     "metadata": {
      "needs_background": "light"
     },
     "output_type": "display_data"
    }
   ],
   "source": [
    "fig, ax = plt.subplots()\n",
    "\n",
    "ax.plot(list(result_dict.keys()), prec_list, marker = '*', markersize = 10, linestyle = '', label = 'Precision')\n",
    "ax.plot(rec_list, marker ='*', markersize = 10, linestyle = '', label = 'Recall')\n",
    "plt.title('Precision & Recall versus loss_weights')\n",
    "plt.legend()\n",
    "plt.show()"
   ]
  },
  {
   "cell_type": "markdown",
   "metadata": {
    "id": "9ugDTGUgBjLU"
   },
   "source": [
    "### Equal Weight - (1,1)"
   ]
  },
  {
   "cell_type": "code",
   "execution_count": 129,
   "metadata": {
    "id": "Sex4iZeKdYYf"
   },
   "outputs": [],
   "source": [
    "model = get_model(45,normalizer)\n",
    "   \n",
    "model.compile(\n",
    "    optimizer=#[tf.optimizers.Adam(learning_rate=0.003),\n",
    "               tf.optimizers.Adam(learning_rate=0.003),\n",
    "    loss=[\n",
    "        keras.losses.MeanSquaredError(),\n",
    "        keras.losses.SparseCategoricalCrossentropy(),\n",
    "    ],loss_weights = [1,10], metrics=[keras.metrics.RootMeanSquaredError(),keras.metrics.SparseCategoricalAccuracy()])\n",
    "    \n",
    "history=model.fit(X_train,\n",
    "    {\"regression_output\": y_train['Plant performance'], \"classification_output\": y_train.Parameter},\n",
    "    epochs=500,batch_size=50,verbose=0,validation_split=0.2)"
   ]
  },
  {
   "cell_type": "code",
   "execution_count": 130,
   "metadata": {
    "colab": {
     "base_uri": "https://localhost:8080/"
    },
    "id": "fQ43rWP9dlni",
    "outputId": "4226a3b2-46a4-4441-b776-d328ed338f91"
   },
   "outputs": [
    {
     "data": {
      "text/plain": [
       "dict_keys(['loss', 'regression_output_loss', 'classification_output_loss', 'regression_output_root_mean_squared_error', 'regression_output_sparse_categorical_accuracy', 'classification_output_root_mean_squared_error', 'classification_output_sparse_categorical_accuracy', 'val_loss', 'val_regression_output_loss', 'val_classification_output_loss', 'val_regression_output_root_mean_squared_error', 'val_regression_output_sparse_categorical_accuracy', 'val_classification_output_root_mean_squared_error', 'val_classification_output_sparse_categorical_accuracy'])"
      ]
     },
     "execution_count": 130,
     "metadata": {},
     "output_type": "execute_result"
    }
   ],
   "source": [
    "history.history.keys()"
   ]
  },
  {
   "cell_type": "code",
   "execution_count": 131,
   "metadata": {
    "colab": {
     "base_uri": "https://localhost:8080/",
     "height": 298
    },
    "id": "m0E82meaPP_d",
    "outputId": "b7464f63-09fc-4cb8-b02c-489c5b4b046f"
   },
   "outputs": [
    {
     "data": {
      "text/plain": [
       "Text(0.5, 1.0, 'loss(mse) for regression')"
      ]
     },
     "execution_count": 131,
     "metadata": {},
     "output_type": "execute_result"
    },
    {
     "data": {
      "image/png": "[encoded data removed]",
      "text/plain": [
       "<Figure size 432x288 with 1 Axes>"
      ]
     },
     "metadata": {
      "needs_background": "light"
     },
     "output_type": "display_data"
    }
   ],
   "source": [
    "plt.plot(history.history['regression_output_loss'])\n",
    "plt.plot(history.history['val_regression_output_loss'])\n",
    "plt.legend(['train','val'])\n",
    "plt.title('loss(mse) for regression')"
   ]
  },
  {
   "cell_type": "code",
   "execution_count": 132,
   "metadata": {
    "colab": {
     "base_uri": "https://localhost:8080/",
     "height": 298
    },
    "id": "Vo7VD-VmPmQw",
    "outputId": "d0e81887-119f-44c1-b2ce-743f5329f21c"
   },
   "outputs": [
    {
     "data": {
      "text/plain": [
       "Text(0.5, 1.0, 'loss(sparse categorical cross entropy) for classification')"
      ]
     },
     "execution_count": 132,
     "metadata": {},
     "output_type": "execute_result"
    },
    {
     "data": {
      "image/png": "[encoded data removed]",
      "text/plain": [
       "<Figure size 432x288 with 1 Axes>"
      ]
     },
     "metadata": {
      "needs_background": "light"
     },
     "output_type": "display_data"
    }
   ],
   "source": [
    "plt.plot(history.history['classification_output_loss'])\n",
    "plt.plot(history.history['val_classification_output_loss'])\n",
    "plt.legend(['train','val'])\n",
    "plt.title('loss(sparse categorical cross entropy) for classification')"
   ]
  },
  {
   "cell_type": "code",
   "execution_count": 133,
   "metadata": {
    "colab": {
     "base_uri": "https://localhost:8080/",
     "height": 298
    },
    "id": "cZHAiRiBf_5E",
    "outputId": "c3024e71-30be-4803-d1ba-5d185faff19b"
   },
   "outputs": [
    {
     "data": {
      "text/plain": [
       "Text(0.5, 1.0, 'rmse for regression output')"
      ]
     },
     "execution_count": 133,
     "metadata": {},
     "output_type": "execute_result"
    },
    {
     "data": {
      "image/png": "[encoded data removed]",
      "text/plain": [
       "<Figure size 432x288 with 1 Axes>"
      ]
     },
     "metadata": {
      "needs_background": "light"
     },
     "output_type": "display_data"
    }
   ],
   "source": [
    "plt.plot(history.history['regression_output_root_mean_squared_error'])\n",
    "plt.plot(history.history['val_regression_output_root_mean_squared_error'])\n",
    "plt.legend(['train','val'])\n",
    "plt.title('rmse for regression output')"
   ]
  },
  {
   "cell_type": "code",
   "execution_count": 134,
   "metadata": {
    "colab": {
     "base_uri": "https://localhost:8080/",
     "height": 298
    },
    "id": "TdhUC9dZiYNz",
    "outputId": "e2f05fb9-c54c-419c-b123-0e8ca6816e48"
   },
   "outputs": [
    {
     "data": {
      "text/plain": [
       "Text(0.5, 1.0, 'accuracy for classification output')"
      ]
     },
     "execution_count": 134,
     "metadata": {},
     "output_type": "execute_result"
    },
    {
     "data": {
      "image/png": "[encoded data removed]",
      "text/plain": [
       "<Figure size 432x288 with 1 Axes>"
      ]
     },
     "metadata": {
      "needs_background": "light"
     },
     "output_type": "display_data"
    }
   ],
   "source": [
    "plt.plot(history.history['classification_output_sparse_categorical_accuracy'])\n",
    "plt.plot(history.history['val_classification_output_sparse_categorical_accuracy'])\n",
    "plt.legend(['train','val'])\n",
    "plt.title('accuracy for classification output')"
   ]
  },
  {
   "cell_type": "code",
   "execution_count": 135,
   "metadata": {
    "id": "kLm66RGw0nvb"
   },
   "outputs": [],
   "source": [
    "def evaluation(pdf):\n",
    "  precision = precision_score(pdf.actual_class, pdf.predicted_class,average='weighted')\n",
    "  recall = recall_score(pdf.actual_class, pdf.predicted_class,average='weighted')\n",
    "  accuracy=accuracy_score(pdf.actual_class, pdf.predicted_class)\n",
    "  r2 = r2_score(pdf.actual_reg, pdf.predicted_reg)\n",
    "  rmse=mean_squared_error(pdf.actual_reg, pdf.predicted_reg)**0.5\n",
    "  metrics={'precision':precision,'recall':recall,'accuracy':accuracy,'r2':r2,'rmse':rmse}\n",
    "  fig,axs=plt.subplots(nrows=1,ncols=1,figsize=(10,10))\n",
    "  cm = confusion_matrix(pdf['actual_class'], pdf['predicted_class'], normalize='true')\n",
    "  disp = ConfusionMatrixDisplay(confusion_matrix=cm, display_labels=le.inverse_transform(list(range(3))))\n",
    "  disp.plot(cmap=plt.cm.Blues,ax=axs)\n",
    "  return metrics"
   ]
  },
  {
   "cell_type": "code",
   "execution_count": 136,
   "metadata": {
    "colab": {
     "base_uri": "https://localhost:8080/"
    },
    "id": "0PUwRncBs7_K",
    "outputId": "8c67651a-8f4e-41f5-ef9f-ebddf6c2b524"
   },
   "outputs": [
    {
     "data": {
      "text/plain": [
       "<keras.callbacks.History at 0x1ae35572c70>"
      ]
     },
     "execution_count": 136,
     "metadata": {},
     "output_type": "execute_result"
    }
   ],
   "source": [
    "#fitting on entire training set\n",
    "\n",
    "model.fit(X_train,\n",
    "    {\"regression_output\": y_train['Plant performance'], \"classification_output\": y_train.Parameter},\n",
    "    epochs=500,batch_size=50,verbose=0)"
   ]
  },
  {
   "cell_type": "code",
   "execution_count": 142,
   "metadata": {
    "colab": {
     "base_uri": "https://localhost:8080/"
    },
    "id": "wSKA1Eog1NyU",
    "outputId": "ef066625-ad2f-48df-a3ee-28068d4e2e4e"
   },
   "outputs": [
    {
     "name": "stdout",
     "output_type": "stream",
     "text": [
      "61/61 [==============================] - 0s 3ms/step\n"
     ]
    },
    {
     "data": {
      "text/plain": [
       "{'precision': 0.7853423107951796,\n",
       " 'recall': 0.7805128205128206,\n",
       " 'accuracy': 0.7805128205128206,\n",
       " 'r2': -0.25886048247780913,\n",
       " 'rmse': 0.09323339836424267}"
      ]
     },
     "execution_count": 142,
     "metadata": {},
     "output_type": "execute_result"
    },
    {
     "data": {
      "image/png": "[encoded data removed]",
      "text/plain": [
       "<Figure size 720x720 with 2 Axes>"
      ]
     },
     "metadata": {
      "needs_background": "light"
     },
     "output_type": "display_data"
    }
   ],
   "source": [
    "pdf=get_predictions(model, X_test, y_test)\n",
    "metrics=evaluation(pdf)\n",
    "metrics"
   ]
  },
  {
   "cell_type": "code",
   "execution_count": null,
   "metadata": {},
   "outputs": [],
   "source": []
  },
  {
   "cell_type": "code",
   "execution_count": 143,
   "metadata": {
    "colab": {
     "base_uri": "https://localhost:8080/"
    },
    "id": "YDOzz7W-dYYm",
    "outputId": "21c2707a-229a-4e69-8d05-60ba1ebb2f2c"
   },
   "outputs": [
    {
     "name": "stdout",
     "output_type": "stream",
     "text": [
      "61/61 [==============================] - 0s 3ms/step\n"
     ]
    },
    {
     "data": {
      "text/plain": [
       "{'precision': 0.7853423107951796,\n",
       " 'recall': 0.7805128205128206,\n",
       " 'accuracy': 0.7805128205128206,\n",
       " 'r2': -0.25886048247780913,\n",
       " 'rmse': 0.09323339836424267}"
      ]
     },
     "execution_count": 143,
     "metadata": {},
     "output_type": "execute_result"
    },
    {
     "data": {
      "image/png": "[encoded data removed]",
      "text/plain": [
       "<Figure size 720x720 with 2 Axes>"
      ]
     },
     "metadata": {
      "needs_background": "light"
     },
     "output_type": "display_data"
    }
   ],
   "source": [
    "pdf=get_predictions(model, X_test, y_test)\n",
    "#pdf.info()\n",
    "#evaluate_model(pdf)\n",
    "precision = precision_score(pdf.actual_class, pdf.predicted_class,average='weighted')\n",
    "recall = recall_score(pdf.actual_class, pdf.predicted_class,average='weighted')\n",
    "accuracy=accuracy_score(pdf.actual_class, pdf.predicted_class)\n",
    "r2 = r2_score(pdf.actual_reg, pdf.predicted_reg)\n",
    "rmse=mean_squared_error(pdf.actual_reg, pdf.predicted_reg)**0.5\n",
    "metrics={'precision':precision,'recall':recall,'accuracy':accuracy,'r2':r2,'rmse':rmse}\n",
    "fig,axs=plt.subplots(nrows=1,ncols=1,figsize=(10,10))\n",
    "cm = confusion_matrix(pdf['actual_class'], pdf['predicted_class'], normalize='true')\n",
    "disp = ConfusionMatrixDisplay(confusion_matrix=cm, display_labels=le.inverse_transform(list(range(3))))\n",
    "disp.plot(cmap=plt.cm.Blues,ax=axs)\n",
    "#plt.show()\n",
    "metrics"
   ]
  },
  {
   "cell_type": "code",
   "execution_count": 144,
   "metadata": {},
   "outputs": [
    {
     "name": "stdout",
     "output_type": "stream",
     "text": [
      "183/183 [==============================] - 1s 3ms/step\n"
     ]
    },
    {
     "data": {
      "text/plain": [
       "{'precision': 0.8025638940998249,\n",
       " 'recall': 0.7967173875876218,\n",
       " 'accuracy': 0.7967173875876218,\n",
       " 'r2': -0.31378697849344706,\n",
       " 'rmse': 0.09200971052572013}"
      ]
     },
     "execution_count": 144,
     "metadata": {},
     "output_type": "execute_result"
    },
    {
     "data": {
      "image/png": "[encoded data removed]",
      "text/plain": [
       "<Figure size 720x720 with 2 Axes>"
      ]
     },
     "metadata": {
      "needs_background": "light"
     },
     "output_type": "display_data"
    }
   ],
   "source": [
    "pdf=get_predictions(model, X_train, y_train)\n",
    "metrics=evaluation(pdf)\n",
    "metrics"
   ]
  },
  {
   "cell_type": "code",
   "execution_count": 145,
   "metadata": {
    "colab": {
     "base_uri": "https://localhost:8080/"
    },
    "id": "QAUN7NATvTDQ",
    "outputId": "77ee0031-999e-42e4-ce3e-86ef44ce26b1"
   },
   "outputs": [
    {
     "data": {
      "text/html": [
       "<div>\n",
       "<style scoped>\n",
       "    .dataframe tbody tr th:only-of-type {\n",
       "        vertical-align: middle;\n",
       "    }\n",
       "\n",
       "    .dataframe tbody tr th {\n",
       "        vertical-align: top;\n",
       "    }\n",
       "\n",
       "    .dataframe thead th {\n",
       "        text-align: right;\n",
       "    }\n",
       "</style>\n",
       "<table border=\"1\" class=\"dataframe\">\n",
       "  <thead>\n",
       "    <tr style=\"text-align: right;\">\n",
       "      <th></th>\n",
       "      <th>Simultaneous</th>\n",
       "      <th>Sequential</th>\n",
       "      <th>Average temperature</th>\n",
       "      <th>Salt</th>\n",
       "      <th>Drought</th>\n",
       "      <th>Boron</th>\n",
       "      <th>Cd</th>\n",
       "      <th>UV</th>\n",
       "      <th>Ozone</th>\n",
       "      <th>Waterlogging</th>\n",
       "      <th>...</th>\n",
       "      <th>Family_Linaceae</th>\n",
       "      <th>Family_Malvaceae</th>\n",
       "      <th>Family_Piperaceae</th>\n",
       "      <th>Family_Poaceae</th>\n",
       "      <th>Family_Rosaceae</th>\n",
       "      <th>Family_Solanaceae</th>\n",
       "      <th>Family_Theaceae</th>\n",
       "      <th>Family_Vitaceae</th>\n",
       "      <th>Type_Abiotic-biotic</th>\n",
       "      <th>Type_Biotic-biotic</th>\n",
       "    </tr>\n",
       "  </thead>\n",
       "  <tbody>\n",
       "    <tr>\n",
       "      <th>2831</th>\n",
       "      <td>1.0</td>\n",
       "      <td>0.0</td>\n",
       "      <td>18.30</td>\n",
       "      <td>0</td>\n",
       "      <td>0</td>\n",
       "      <td>30.0</td>\n",
       "      <td>0.0</td>\n",
       "      <td>1.0</td>\n",
       "      <td>0.0</td>\n",
       "      <td>0</td>\n",
       "      <td>...</td>\n",
       "      <td>0</td>\n",
       "      <td>0</td>\n",
       "      <td>0</td>\n",
       "      <td>0</td>\n",
       "      <td>0</td>\n",
       "      <td>1</td>\n",
       "      <td>0</td>\n",
       "      <td>0</td>\n",
       "      <td>0</td>\n",
       "      <td>1</td>\n",
       "    </tr>\n",
       "    <tr>\n",
       "      <th>1642</th>\n",
       "      <td>0.0</td>\n",
       "      <td>1.0</td>\n",
       "      <td>23.25</td>\n",
       "      <td>0</td>\n",
       "      <td>0</td>\n",
       "      <td>30.0</td>\n",
       "      <td>0.0</td>\n",
       "      <td>1.0</td>\n",
       "      <td>0.0</td>\n",
       "      <td>0</td>\n",
       "      <td>...</td>\n",
       "      <td>0</td>\n",
       "      <td>0</td>\n",
       "      <td>0</td>\n",
       "      <td>0</td>\n",
       "      <td>0</td>\n",
       "      <td>0</td>\n",
       "      <td>0</td>\n",
       "      <td>0</td>\n",
       "      <td>0</td>\n",
       "      <td>1</td>\n",
       "    </tr>\n",
       "    <tr>\n",
       "      <th>1259</th>\n",
       "      <td>0.0</td>\n",
       "      <td>0.0</td>\n",
       "      <td>22.90</td>\n",
       "      <td>0</td>\n",
       "      <td>0</td>\n",
       "      <td>30.0</td>\n",
       "      <td>0.0</td>\n",
       "      <td>1.0</td>\n",
       "      <td>0.0</td>\n",
       "      <td>0</td>\n",
       "      <td>...</td>\n",
       "      <td>0</td>\n",
       "      <td>0</td>\n",
       "      <td>0</td>\n",
       "      <td>0</td>\n",
       "      <td>0</td>\n",
       "      <td>0</td>\n",
       "      <td>0</td>\n",
       "      <td>0</td>\n",
       "      <td>0</td>\n",
       "      <td>1</td>\n",
       "    </tr>\n",
       "    <tr>\n",
       "      <th>3987</th>\n",
       "      <td>0.0</td>\n",
       "      <td>0.0</td>\n",
       "      <td>17.40</td>\n",
       "      <td>0</td>\n",
       "      <td>0</td>\n",
       "      <td>30.0</td>\n",
       "      <td>0.0</td>\n",
       "      <td>1.0</td>\n",
       "      <td>0.0</td>\n",
       "      <td>1</td>\n",
       "      <td>...</td>\n",
       "      <td>0</td>\n",
       "      <td>0</td>\n",
       "      <td>0</td>\n",
       "      <td>0</td>\n",
       "      <td>0</td>\n",
       "      <td>1</td>\n",
       "      <td>0</td>\n",
       "      <td>0</td>\n",
       "      <td>1</td>\n",
       "      <td>0</td>\n",
       "    </tr>\n",
       "    <tr>\n",
       "      <th>1708</th>\n",
       "      <td>0.0</td>\n",
       "      <td>0.0</td>\n",
       "      <td>18.45</td>\n",
       "      <td>0</td>\n",
       "      <td>0</td>\n",
       "      <td>30.0</td>\n",
       "      <td>0.0</td>\n",
       "      <td>1.0</td>\n",
       "      <td>0.0</td>\n",
       "      <td>0</td>\n",
       "      <td>...</td>\n",
       "      <td>0</td>\n",
       "      <td>0</td>\n",
       "      <td>0</td>\n",
       "      <td>0</td>\n",
       "      <td>0</td>\n",
       "      <td>1</td>\n",
       "      <td>0</td>\n",
       "      <td>0</td>\n",
       "      <td>0</td>\n",
       "      <td>1</td>\n",
       "    </tr>\n",
       "  </tbody>\n",
       "</table>\n",
       "<p>5 rows × 45 columns</p>\n",
       "</div>"
      ],
      "text/plain": [
       "      Simultaneous  Sequential  Average temperature  Salt  Drought  Boron  \\\n",
       "2831           1.0         0.0                18.30     0        0   30.0   \n",
       "1642           0.0         1.0                23.25     0        0   30.0   \n",
       "1259           0.0         0.0                22.90     0        0   30.0   \n",
       "3987           0.0         0.0                17.40     0        0   30.0   \n",
       "1708           0.0         0.0                18.45     0        0   30.0   \n",
       "\n",
       "       Cd   UV  Ozone  Waterlogging  ...  Family_Linaceae  Family_Malvaceae  \\\n",
       "2831  0.0  1.0    0.0             0  ...                0                 0   \n",
       "1642  0.0  1.0    0.0             0  ...                0                 0   \n",
       "1259  0.0  1.0    0.0             0  ...                0                 0   \n",
       "3987  0.0  1.0    0.0             1  ...                0                 0   \n",
       "1708  0.0  1.0    0.0             0  ...                0                 0   \n",
       "\n",
       "      Family_Piperaceae  Family_Poaceae  Family_Rosaceae  Family_Solanaceae  \\\n",
       "2831                  0               0                0                  1   \n",
       "1642                  0               0                0                  0   \n",
       "1259                  0               0                0                  0   \n",
       "3987                  0               0                0                  1   \n",
       "1708                  0               0                0                  1   \n",
       "\n",
       "      Family_Theaceae  Family_Vitaceae  Type_Abiotic-biotic  \\\n",
       "2831                0                0                    0   \n",
       "1642                0                0                    0   \n",
       "1259                0                0                    0   \n",
       "3987                0                0                    1   \n",
       "1708                0                0                    0   \n",
       "\n",
       "      Type_Biotic-biotic  \n",
       "2831                   1  \n",
       "1642                   1  \n",
       "1259                   1  \n",
       "3987                   0  \n",
       "1708                   1  \n",
       "\n",
       "[5 rows x 45 columns]"
      ]
     },
     "execution_count": 145,
     "metadata": {},
     "output_type": "execute_result"
    }
   ],
   "source": [
    "X_test.head()"
   ]
  },
  {
   "cell_type": "code",
   "execution_count": 146,
   "metadata": {
    "colab": {
     "base_uri": "https://localhost:8080/"
    },
    "id": "-kqY_wkwvhlM",
    "outputId": "804b8f8b-5d70-4cf8-a907-4cdf04b11a68"
   },
   "outputs": [
    {
     "data": {
      "text/plain": [
       "array(['Biomass', 'Plant growth', 'Yield'], dtype=object)"
      ]
     },
     "execution_count": 146,
     "metadata": {},
     "output_type": "execute_result"
    }
   ],
   "source": [
    "le.inverse_transform([0,1,2])"
   ]
  },
  {
   "cell_type": "code",
   "execution_count": 147,
   "metadata": {
    "colab": {
     "base_uri": "https://localhost:8080/"
    },
    "id": "r97IgV7KvbaC",
    "outputId": "7db50a6d-be8c-4667-b7d5-5e754f7acd7b"
   },
   "outputs": [
    {
     "data": {
      "text/html": [
       "<div>\n",
       "<style scoped>\n",
       "    .dataframe tbody tr th:only-of-type {\n",
       "        vertical-align: middle;\n",
       "    }\n",
       "\n",
       "    .dataframe tbody tr th {\n",
       "        vertical-align: top;\n",
       "    }\n",
       "\n",
       "    .dataframe thead th {\n",
       "        text-align: right;\n",
       "    }\n",
       "</style>\n",
       "<table border=\"1\" class=\"dataframe\">\n",
       "  <thead>\n",
       "    <tr style=\"text-align: right;\">\n",
       "      <th></th>\n",
       "      <th>Plant performance</th>\n",
       "      <th>Parameter</th>\n",
       "    </tr>\n",
       "  </thead>\n",
       "  <tbody>\n",
       "    <tr>\n",
       "      <th>2831</th>\n",
       "      <td>0.199039</td>\n",
       "      <td>2</td>\n",
       "    </tr>\n",
       "    <tr>\n",
       "      <th>1642</th>\n",
       "      <td>0.080897</td>\n",
       "      <td>0</td>\n",
       "    </tr>\n",
       "    <tr>\n",
       "      <th>1259</th>\n",
       "      <td>0.340809</td>\n",
       "      <td>0</td>\n",
       "    </tr>\n",
       "    <tr>\n",
       "      <th>3987</th>\n",
       "      <td>0.315178</td>\n",
       "      <td>1</td>\n",
       "    </tr>\n",
       "    <tr>\n",
       "      <th>1708</th>\n",
       "      <td>0.403017</td>\n",
       "      <td>2</td>\n",
       "    </tr>\n",
       "  </tbody>\n",
       "</table>\n",
       "</div>"
      ],
      "text/plain": [
       "      Plant performance  Parameter\n",
       "2831           0.199039          2\n",
       "1642           0.080897          0\n",
       "1259           0.340809          0\n",
       "3987           0.315178          1\n",
       "1708           0.403017          2"
      ]
     },
     "execution_count": 147,
     "metadata": {},
     "output_type": "execute_result"
    }
   ],
   "source": [
    "y_test.head()"
   ]
  },
  {
   "cell_type": "code",
   "execution_count": 148,
   "metadata": {
    "colab": {
     "base_uri": "https://localhost:8080/",
     "height": 203
    },
    "id": "GPYiYmeSu-Gh",
    "outputId": "c0f6f524-d832-4543-98a9-59e4c6563a13"
   },
   "outputs": [
    {
     "data": {
      "text/html": [
       "<div>\n",
       "<style scoped>\n",
       "    .dataframe tbody tr th:only-of-type {\n",
       "        vertical-align: middle;\n",
       "    }\n",
       "\n",
       "    .dataframe tbody tr th {\n",
       "        vertical-align: top;\n",
       "    }\n",
       "\n",
       "    .dataframe thead th {\n",
       "        text-align: right;\n",
       "    }\n",
       "</style>\n",
       "<table border=\"1\" class=\"dataframe\">\n",
       "  <thead>\n",
       "    <tr style=\"text-align: right;\">\n",
       "      <th></th>\n",
       "      <th>Biomass</th>\n",
       "      <th>Plant growth</th>\n",
       "      <th>Yield</th>\n",
       "      <th>predicted_class</th>\n",
       "      <th>actual_class</th>\n",
       "      <th>predicted_reg</th>\n",
       "      <th>actual_reg</th>\n",
       "    </tr>\n",
       "  </thead>\n",
       "  <tbody>\n",
       "    <tr>\n",
       "      <th>0</th>\n",
       "      <td>0.331463</td>\n",
       "      <td>2.026464e-05</td>\n",
       "      <td>6.685167e-01</td>\n",
       "      <td>Yield</td>\n",
       "      <td>Yield</td>\n",
       "      <td>0.335304</td>\n",
       "      <td>0.457749</td>\n",
       "    </tr>\n",
       "    <tr>\n",
       "      <th>1</th>\n",
       "      <td>0.504315</td>\n",
       "      <td>1.884970e-04</td>\n",
       "      <td>4.954970e-01</td>\n",
       "      <td>Biomass</td>\n",
       "      <td>Biomass</td>\n",
       "      <td>0.333100</td>\n",
       "      <td>0.342811</td>\n",
       "    </tr>\n",
       "    <tr>\n",
       "      <th>2</th>\n",
       "      <td>1.000000</td>\n",
       "      <td>1.028899e-12</td>\n",
       "      <td>8.550483e-09</td>\n",
       "      <td>Biomass</td>\n",
       "      <td>Biomass</td>\n",
       "      <td>0.371386</td>\n",
       "      <td>0.337872</td>\n",
       "    </tr>\n",
       "    <tr>\n",
       "      <th>3</th>\n",
       "      <td>0.699418</td>\n",
       "      <td>9.108231e-08</td>\n",
       "      <td>3.005821e-01</td>\n",
       "      <td>Biomass</td>\n",
       "      <td>Yield</td>\n",
       "      <td>0.334965</td>\n",
       "      <td>0.406221</td>\n",
       "    </tr>\n",
       "    <tr>\n",
       "      <th>4</th>\n",
       "      <td>0.490103</td>\n",
       "      <td>4.054332e-03</td>\n",
       "      <td>5.058427e-01</td>\n",
       "      <td>Yield</td>\n",
       "      <td>Yield</td>\n",
       "      <td>0.331870</td>\n",
       "      <td>0.505433</td>\n",
       "    </tr>\n",
       "  </tbody>\n",
       "</table>\n",
       "</div>"
      ],
      "text/plain": [
       "    Biomass  Plant growth         Yield predicted_class actual_class  \\\n",
       "0  0.331463  2.026464e-05  6.685167e-01           Yield        Yield   \n",
       "1  0.504315  1.884970e-04  4.954970e-01         Biomass      Biomass   \n",
       "2  1.000000  1.028899e-12  8.550483e-09         Biomass      Biomass   \n",
       "3  0.699418  9.108231e-08  3.005821e-01         Biomass        Yield   \n",
       "4  0.490103  4.054332e-03  5.058427e-01           Yield        Yield   \n",
       "\n",
       "   predicted_reg  actual_reg  \n",
       "0       0.335304    0.457749  \n",
       "1       0.333100    0.342811  \n",
       "2       0.371386    0.337872  \n",
       "3       0.334965    0.406221  \n",
       "4       0.331870    0.505433  "
      ]
     },
     "execution_count": 148,
     "metadata": {},
     "output_type": "execute_result"
    }
   ],
   "source": [
    "pdf.head()"
   ]
  },
  {
   "cell_type": "markdown",
   "metadata": {
    "id": "73GfxxvWkaog"
   },
   "source": [
    "df1.drop(['Plant performance','Parameter'],axis=1), y"
   ]
  },
  {
   "cell_type": "code",
   "execution_count": 149,
   "metadata": {
    "colab": {
     "base_uri": "https://localhost:8080/"
    },
    "id": "-MY5tKN3kb4e",
    "outputId": "5b8f4327-e8ad-4a11-e814-ace4a22f53ae"
   },
   "outputs": [
    {
     "name": "stdout",
     "output_type": "stream",
     "text": [
      "183/183 [==============================] - 1s 3ms/step\n"
     ]
    },
    {
     "data": {
      "text/plain": [
       "{'precision': 0.8025638940998249,\n",
       " 'recall': 0.7967173875876218,\n",
       " 'accuracy': 0.7967173875876218,\n",
       " 'r2': -0.31378697849344706,\n",
       " 'rmse': 0.09200971052572013}"
      ]
     },
     "execution_count": 149,
     "metadata": {},
     "output_type": "execute_result"
    },
    {
     "data": {
      "image/png": "[encoded data removed]",
      "text/plain": [
       "<Figure size 720x720 with 2 Axes>"
      ]
     },
     "metadata": {
      "needs_background": "light"
     },
     "output_type": "display_data"
    }
   ],
   "source": [
    "train_pdf=get_predictions(model,X_train,y_train)\n",
    "metrics=evaluation(train_pdf)\n",
    "metrics"
   ]
  },
  {
   "cell_type": "code",
   "execution_count": 150,
   "metadata": {
    "colab": {
     "base_uri": "https://localhost:8080/"
    },
    "id": "yx_glAihkcVL",
    "outputId": "37425ee0-7d9e-45d0-98fb-dcc0e45d14b3"
   },
   "outputs": [
    {
     "data": {
      "text/html": [
       "<div>\n",
       "<style scoped>\n",
       "    .dataframe tbody tr th:only-of-type {\n",
       "        vertical-align: middle;\n",
       "    }\n",
       "\n",
       "    .dataframe tbody tr th {\n",
       "        vertical-align: top;\n",
       "    }\n",
       "\n",
       "    .dataframe thead th {\n",
       "        text-align: right;\n",
       "    }\n",
       "</style>\n",
       "<table border=\"1\" class=\"dataframe\">\n",
       "  <thead>\n",
       "    <tr style=\"text-align: right;\">\n",
       "      <th></th>\n",
       "      <th>Biomass</th>\n",
       "      <th>Plant growth</th>\n",
       "      <th>Yield</th>\n",
       "      <th>predicted_class</th>\n",
       "      <th>actual_class</th>\n",
       "      <th>predicted_reg</th>\n",
       "      <th>actual_reg</th>\n",
       "    </tr>\n",
       "  </thead>\n",
       "  <tbody>\n",
       "    <tr>\n",
       "      <th>0</th>\n",
       "      <td>0.331463</td>\n",
       "      <td>2.026464e-05</td>\n",
       "      <td>6.685167e-01</td>\n",
       "      <td>Yield</td>\n",
       "      <td>Yield</td>\n",
       "      <td>0.335304</td>\n",
       "      <td>0.457749</td>\n",
       "    </tr>\n",
       "    <tr>\n",
       "      <th>1</th>\n",
       "      <td>0.504315</td>\n",
       "      <td>1.884970e-04</td>\n",
       "      <td>4.954970e-01</td>\n",
       "      <td>Biomass</td>\n",
       "      <td>Biomass</td>\n",
       "      <td>0.333100</td>\n",
       "      <td>0.342811</td>\n",
       "    </tr>\n",
       "    <tr>\n",
       "      <th>2</th>\n",
       "      <td>1.000000</td>\n",
       "      <td>1.028899e-12</td>\n",
       "      <td>8.550483e-09</td>\n",
       "      <td>Biomass</td>\n",
       "      <td>Biomass</td>\n",
       "      <td>0.371386</td>\n",
       "      <td>0.337872</td>\n",
       "    </tr>\n",
       "    <tr>\n",
       "      <th>3</th>\n",
       "      <td>0.699418</td>\n",
       "      <td>9.108231e-08</td>\n",
       "      <td>3.005821e-01</td>\n",
       "      <td>Biomass</td>\n",
       "      <td>Yield</td>\n",
       "      <td>0.334965</td>\n",
       "      <td>0.406221</td>\n",
       "    </tr>\n",
       "    <tr>\n",
       "      <th>4</th>\n",
       "      <td>0.490103</td>\n",
       "      <td>4.054332e-03</td>\n",
       "      <td>5.058427e-01</td>\n",
       "      <td>Yield</td>\n",
       "      <td>Yield</td>\n",
       "      <td>0.331870</td>\n",
       "      <td>0.505433</td>\n",
       "    </tr>\n",
       "  </tbody>\n",
       "</table>\n",
       "</div>"
      ],
      "text/plain": [
       "    Biomass  Plant growth         Yield predicted_class actual_class  \\\n",
       "0  0.331463  2.026464e-05  6.685167e-01           Yield        Yield   \n",
       "1  0.504315  1.884970e-04  4.954970e-01         Biomass      Biomass   \n",
       "2  1.000000  1.028899e-12  8.550483e-09         Biomass      Biomass   \n",
       "3  0.699418  9.108231e-08  3.005821e-01         Biomass        Yield   \n",
       "4  0.490103  4.054332e-03  5.058427e-01           Yield        Yield   \n",
       "\n",
       "   predicted_reg  actual_reg  \n",
       "0       0.335304    0.457749  \n",
       "1       0.333100    0.342811  \n",
       "2       0.371386    0.337872  \n",
       "3       0.334965    0.406221  \n",
       "4       0.331870    0.505433  "
      ]
     },
     "execution_count": 150,
     "metadata": {},
     "output_type": "execute_result"
    }
   ],
   "source": [
    "train_pdf.head()"
   ]
  },
  {
   "cell_type": "code",
   "execution_count": 151,
   "metadata": {
    "colab": {
     "base_uri": "https://localhost:8080/"
    },
    "id": "tKPsSeTElIJv",
    "outputId": "daf945ff-9ade-43dc-e7b8-a5d51c36997f"
   },
   "outputs": [
    {
     "data": {
      "text/plain": [
       "(-0.00099665, 0.0191]    1170\n",
       "(0.0191, 0.045]          1170\n",
       "(0.0726, 0.117]          1170\n",
       "(0.117, 0.669]           1170\n",
       "(0.045, 0.0726]          1169\n",
       "Name: reg_diff, dtype: int64"
      ]
     },
     "execution_count": 151,
     "metadata": {},
     "output_type": "execute_result"
    },
    {
     "data": {
      "image/png": "[encoded data removed]",
      "text/plain": [
       "<Figure size 432x288 with 1 Axes>"
      ]
     },
     "metadata": {
      "needs_background": "light"
     },
     "output_type": "display_data"
    }
   ],
   "source": [
    "train_pdf['reg_diff']=np.abs(train_pdf.actual_reg-train_pdf.predicted_reg)\n",
    "train_pdf['reg_diff'].hist()\n",
    "pd.qcut(train_pdf['reg_diff'],5).value_counts()"
   ]
  },
  {
   "cell_type": "code",
   "execution_count": 152,
   "metadata": {
    "colab": {
     "base_uri": "https://localhost:8080/"
    },
    "id": "bSbvtGARl_H7",
    "outputId": "47d8c277-5165-4f48-eff4-ce8c7756ce00"
   },
   "outputs": [
    {
     "data": {
      "text/plain": [
       "1    0.736707\n",
       "0    0.263293\n",
       "Name: diff, dtype: float64"
      ]
     },
     "execution_count": 152,
     "metadata": {},
     "output_type": "execute_result"
    }
   ],
   "source": [
    "train_pdf['diff']=(train_pdf['reg_diff']<0.1)*1\n",
    "#train_pdf['diff']=train_pdf['diff']*1 \n",
    "train_pdf['diff'].value_counts()/len(train_pdf)"
   ]
  },
  {
   "cell_type": "code",
   "execution_count": 153,
   "metadata": {
    "colab": {
     "base_uri": "https://localhost:8080/"
    },
    "id": "Aj5fd6oQ6OWi",
    "outputId": "9a81839d-46ec-420b-cae5-1d7368dc5c89"
   },
   "outputs": [
    {
     "data": {
      "text/html": [
       "<div>\n",
       "<style scoped>\n",
       "    .dataframe tbody tr th:only-of-type {\n",
       "        vertical-align: middle;\n",
       "    }\n",
       "\n",
       "    .dataframe tbody tr th {\n",
       "        vertical-align: top;\n",
       "    }\n",
       "\n",
       "    .dataframe thead th {\n",
       "        text-align: right;\n",
       "    }\n",
       "</style>\n",
       "<table border=\"1\" class=\"dataframe\">\n",
       "  <thead>\n",
       "    <tr style=\"text-align: right;\">\n",
       "      <th></th>\n",
       "      <th>index</th>\n",
       "      <th>Simultaneous</th>\n",
       "      <th>Sequential</th>\n",
       "      <th>Average temperature</th>\n",
       "      <th>Salt</th>\n",
       "      <th>Drought</th>\n",
       "      <th>Boron</th>\n",
       "      <th>Cd</th>\n",
       "      <th>UV</th>\n",
       "      <th>Ozone</th>\n",
       "      <th>...</th>\n",
       "      <th>Type_Biotic-biotic</th>\n",
       "      <th>Biomass</th>\n",
       "      <th>Plant growth</th>\n",
       "      <th>Yield</th>\n",
       "      <th>predicted_class</th>\n",
       "      <th>actual_class</th>\n",
       "      <th>predicted_reg</th>\n",
       "      <th>actual_reg</th>\n",
       "      <th>reg_diff</th>\n",
       "      <th>diff</th>\n",
       "    </tr>\n",
       "  </thead>\n",
       "  <tbody>\n",
       "    <tr>\n",
       "      <th>0</th>\n",
       "      <td>1791</td>\n",
       "      <td>0.0</td>\n",
       "      <td>1.0</td>\n",
       "      <td>24.80</td>\n",
       "      <td>0</td>\n",
       "      <td>0</td>\n",
       "      <td>30.0</td>\n",
       "      <td>0.0</td>\n",
       "      <td>1.0</td>\n",
       "      <td>0.0</td>\n",
       "      <td>...</td>\n",
       "      <td>1</td>\n",
       "      <td>0.331463</td>\n",
       "      <td>2.026464e-05</td>\n",
       "      <td>6.685167e-01</td>\n",
       "      <td>Yield</td>\n",
       "      <td>Yield</td>\n",
       "      <td>0.335304</td>\n",
       "      <td>0.457749</td>\n",
       "      <td>0.122445</td>\n",
       "      <td>0</td>\n",
       "    </tr>\n",
       "    <tr>\n",
       "      <th>1</th>\n",
       "      <td>2170</td>\n",
       "      <td>1.0</td>\n",
       "      <td>0.0</td>\n",
       "      <td>21.35</td>\n",
       "      <td>0</td>\n",
       "      <td>0</td>\n",
       "      <td>30.0</td>\n",
       "      <td>0.0</td>\n",
       "      <td>1.0</td>\n",
       "      <td>0.0</td>\n",
       "      <td>...</td>\n",
       "      <td>1</td>\n",
       "      <td>0.504315</td>\n",
       "      <td>1.884970e-04</td>\n",
       "      <td>4.954970e-01</td>\n",
       "      <td>Biomass</td>\n",
       "      <td>Biomass</td>\n",
       "      <td>0.333100</td>\n",
       "      <td>0.342811</td>\n",
       "      <td>0.009711</td>\n",
       "      <td>1</td>\n",
       "    </tr>\n",
       "    <tr>\n",
       "      <th>2</th>\n",
       "      <td>2794</td>\n",
       "      <td>0.0</td>\n",
       "      <td>0.0</td>\n",
       "      <td>20.60</td>\n",
       "      <td>0</td>\n",
       "      <td>0</td>\n",
       "      <td>30.0</td>\n",
       "      <td>0.0</td>\n",
       "      <td>1.0</td>\n",
       "      <td>0.0</td>\n",
       "      <td>...</td>\n",
       "      <td>1</td>\n",
       "      <td>1.000000</td>\n",
       "      <td>1.028899e-12</td>\n",
       "      <td>8.550483e-09</td>\n",
       "      <td>Biomass</td>\n",
       "      <td>Biomass</td>\n",
       "      <td>0.371386</td>\n",
       "      <td>0.337872</td>\n",
       "      <td>0.033514</td>\n",
       "      <td>1</td>\n",
       "    </tr>\n",
       "    <tr>\n",
       "      <th>3</th>\n",
       "      <td>3304</td>\n",
       "      <td>0.0</td>\n",
       "      <td>1.0</td>\n",
       "      <td>29.10</td>\n",
       "      <td>0</td>\n",
       "      <td>0</td>\n",
       "      <td>30.0</td>\n",
       "      <td>0.0</td>\n",
       "      <td>1.0</td>\n",
       "      <td>0.0</td>\n",
       "      <td>...</td>\n",
       "      <td>1</td>\n",
       "      <td>0.699418</td>\n",
       "      <td>9.108231e-08</td>\n",
       "      <td>3.005821e-01</td>\n",
       "      <td>Biomass</td>\n",
       "      <td>Yield</td>\n",
       "      <td>0.334965</td>\n",
       "      <td>0.406221</td>\n",
       "      <td>0.071256</td>\n",
       "      <td>1</td>\n",
       "    </tr>\n",
       "    <tr>\n",
       "      <th>4</th>\n",
       "      <td>6525</td>\n",
       "      <td>0.0</td>\n",
       "      <td>0.0</td>\n",
       "      <td>18.10</td>\n",
       "      <td>1</td>\n",
       "      <td>0</td>\n",
       "      <td>30.0</td>\n",
       "      <td>0.0</td>\n",
       "      <td>1.0</td>\n",
       "      <td>0.0</td>\n",
       "      <td>...</td>\n",
       "      <td>0</td>\n",
       "      <td>0.490103</td>\n",
       "      <td>4.054332e-03</td>\n",
       "      <td>5.058427e-01</td>\n",
       "      <td>Yield</td>\n",
       "      <td>Yield</td>\n",
       "      <td>0.331870</td>\n",
       "      <td>0.505433</td>\n",
       "      <td>0.173563</td>\n",
       "      <td>0</td>\n",
       "    </tr>\n",
       "  </tbody>\n",
       "</table>\n",
       "<p>5 rows × 55 columns</p>\n",
       "</div>"
      ],
      "text/plain": [
       "   index  Simultaneous  Sequential  Average temperature  Salt  Drought  Boron  \\\n",
       "0   1791           0.0         1.0                24.80     0        0   30.0   \n",
       "1   2170           1.0         0.0                21.35     0        0   30.0   \n",
       "2   2794           0.0         0.0                20.60     0        0   30.0   \n",
       "3   3304           0.0         1.0                29.10     0        0   30.0   \n",
       "4   6525           0.0         0.0                18.10     1        0   30.0   \n",
       "\n",
       "    Cd   UV  Ozone  ...  Type_Biotic-biotic   Biomass  Plant growth  \\\n",
       "0  0.0  1.0    0.0  ...                   1  0.331463  2.026464e-05   \n",
       "1  0.0  1.0    0.0  ...                   1  0.504315  1.884970e-04   \n",
       "2  0.0  1.0    0.0  ...                   1  1.000000  1.028899e-12   \n",
       "3  0.0  1.0    0.0  ...                   1  0.699418  9.108231e-08   \n",
       "4  0.0  1.0    0.0  ...                   0  0.490103  4.054332e-03   \n",
       "\n",
       "          Yield  predicted_class  actual_class  predicted_reg  actual_reg  \\\n",
       "0  6.685167e-01            Yield         Yield       0.335304    0.457749   \n",
       "1  4.954970e-01          Biomass       Biomass       0.333100    0.342811   \n",
       "2  8.550483e-09          Biomass       Biomass       0.371386    0.337872   \n",
       "3  3.005821e-01          Biomass         Yield       0.334965    0.406221   \n",
       "4  5.058427e-01            Yield         Yield       0.331870    0.505433   \n",
       "\n",
       "   reg_diff  diff  \n",
       "0  0.122445     0  \n",
       "1  0.009711     1  \n",
       "2  0.033514     1  \n",
       "3  0.071256     1  \n",
       "4  0.173563     0  \n",
       "\n",
       "[5 rows x 55 columns]"
      ]
     },
     "execution_count": 153,
     "metadata": {},
     "output_type": "execute_result"
    }
   ],
   "source": [
    "dttrain=pd.concat([X_train.reset_index(),train_pdf],axis=1)\n",
    "dttrain.head()"
   ]
  },
  {
   "cell_type": "code",
   "execution_count": 154,
   "metadata": {
    "id": "a4T2xMM57Dpy"
   },
   "outputs": [],
   "source": [
    "dftrain_0=df[df.index.isin(dttrain[dttrain['diff']==0]['index'])]"
   ]
  },
  {
   "cell_type": "code",
   "execution_count": 155,
   "metadata": {
    "colab": {
     "base_uri": "https://localhost:8080/"
    },
    "id": "Nk3Zm7hUpd-f",
    "outputId": "c0e37586-093b-42d8-9266-d2860ab7b810"
   },
   "outputs": [
    {
     "data": {
      "text/plain": [
       "(-0.00099665, 0.0191]    1170\n",
       "(0.0191, 0.045]          1170\n",
       "(0.0726, 0.117]          1170\n",
       "(0.117, 0.669]           1170\n",
       "(0.045, 0.0726]          1169\n",
       "Name: reg_diff, dtype: int64"
      ]
     },
     "execution_count": 155,
     "metadata": {},
     "output_type": "execute_result"
    },
    {
     "data": {
      "image/png": "[encoded data removed]",
      "text/plain": [
       "<Figure size 432x288 with 1 Axes>"
      ]
     },
     "metadata": {
      "needs_background": "light"
     },
     "output_type": "display_data"
    }
   ],
   "source": [
    "pdf['reg_diff']=np.abs(pdf.actual_reg-pdf.predicted_reg)\n",
    "pdf['reg_diff'].hist()\n",
    "pd.qcut(pdf['reg_diff'],5).value_counts()"
   ]
  },
  {
   "cell_type": "code",
   "execution_count": 156,
   "metadata": {
    "colab": {
     "base_uri": "https://localhost:8080/"
    },
    "id": "PgOztw_kp13H",
    "outputId": "fdab7fc5-53d0-4ac7-d061-d678924af348"
   },
   "outputs": [
    {
     "data": {
      "text/plain": [
       "1    0.736707\n",
       "0    0.263293\n",
       "Name: diff, dtype: float64"
      ]
     },
     "execution_count": 156,
     "metadata": {},
     "output_type": "execute_result"
    }
   ],
   "source": [
    "pdf['diff']=(pdf['reg_diff']<0.1)*1\n",
    "#train_pdf['diff']=train_pdf['diff']*1 \n",
    "pdf['diff'].value_counts()/len(pdf)"
   ]
  },
  {
   "cell_type": "code",
   "execution_count": 157,
   "metadata": {
    "id": "5DnZu0vQ_GUQ"
   },
   "outputs": [],
   "source": [
    "dt=pd.concat([X_test.reset_index(),pdf],axis=1)\n",
    "dt.head()\n",
    "dftest_0=df[df.index.isin(dt[dt['diff']==0]['index'])]"
   ]
  },
  {
   "cell_type": "code",
   "execution_count": 158,
   "metadata": {
    "id": "vYrw90cjDvvy"
   },
   "outputs": [
    {
     "data": {
      "text/plain": [
       "(2047, 30)"
      ]
     },
     "execution_count": 158,
     "metadata": {},
     "output_type": "execute_result"
    }
   ],
   "source": [
    "df_0=pd.concat([dftrain_0,dftest_0])\n",
    "df_0.shape"
   ]
  },
  {
   "cell_type": "code",
   "execution_count": 160,
   "metadata": {
    "colab": {
     "base_uri": "https://localhost:8080/"
    },
    "id": "LUZIo51lqGWT",
    "outputId": "51ce6af2-d86e-4150-a6ac-4262516dab31"
   },
   "outputs": [
    {
     "name": "stdout",
     "output_type": "stream",
     "text": [
      "Saved model to disk\n"
     ]
    }
   ],
   "source": [
    "model_json = model.to_json()\n",
    "with open(\"model_elu.json\", \"w\") as json_file:\n",
    "    json_file.write(model_json)\n",
    "# serialize weights to HDF5\n",
    "model.save_weights(\"model_elu.h5\")\n",
    "print(\"Saved model to disk\")"
   ]
  },
  {
   "cell_type": "markdown",
   "metadata": {
    "id": "1rEdRDtlyz6H"
   },
   "source": []
  },
  {
   "cell_type": "code",
   "execution_count": 162,
   "metadata": {
    "id": "TQ8tLW54y6Hd"
   },
   "outputs": [
    {
     "name": "stdout",
     "output_type": "stream",
     "text": [
      "Loaded model from disk\n"
     ]
    }
   ],
   "source": [
    "# load json and create model\n",
    "json_file = open('model_elu.json', 'r')\n",
    "loaded_model_json = json_file.read()\n",
    "json_file.close()\n",
    "loaded_model = model_from_json(loaded_model_json)\n",
    "# load weights into new model\n",
    "loaded_model.load_weights(\"model_elu.h5\")\n",
    "print(\"Loaded model from disk\")"
   ]
  },
  {
   "cell_type": "code",
   "execution_count": 163,
   "metadata": {},
   "outputs": [],
   "source": [
    "#X_train1 = pd.read_csv('X_validation_rama.csv')\n",
    "X_train1 = pd.read_csv('X_train_tanh1.csv')\n",
    "X_test1 = pd.read_csv('X_test_tanh1.csv')\n",
    "#y_train1 = pd.read_csv('y_Validation_rama.csv')\n",
    "y_train1 = pd.read_csv('y_train_tanh1.csv')\n",
    "y_test1 = pd.read_csv('y_test_tanh1.csv')\n"
   ]
  },
  {
   "cell_type": "code",
   "execution_count": 164,
   "metadata": {},
   "outputs": [],
   "source": [
    "X_test1.drop(X_test1.columns[[0]],axis=1, inplace=True)\n",
    "y_test1.drop(y_test1.columns[[0]],axis=1, inplace=True)\n",
    "X_train1.drop(X_train1.columns[[0]],axis=1, inplace=True)\n",
    "y_train1.drop(y_train1.columns[[0]],axis=1, inplace=True)"
   ]
  },
  {
   "cell_type": "code",
   "execution_count": 165,
   "metadata": {},
   "outputs": [
    {
     "name": "stdout",
     "output_type": "stream",
     "text": [
      "183/183 [==============================] - 1s 2ms/step\n"
     ]
    },
    {
     "data": {
      "image/png": "[encoded data removed]",
      "text/plain": [
       "<Figure size 720x720 with 2 Axes>"
      ]
     },
     "metadata": {
      "needs_background": "light"
     },
     "output_type": "display_data"
    },
    {
     "data": {
      "text/plain": [
       "{'precision': 0.8119806946981,\n",
       " 'recall': 0.7994528979312703,\n",
       " 'accuracy': 0.7994528979312703,\n",
       " 'r2': -0.08988087642809828,\n",
       " 'rmse': 0.0850578436875815,\n",
       " 'f1:': 0.800262082634752,\n",
       " 'mcc:': 0.6770137897471172,\n",
       " 'specificity': array([0.7171576 , 0.96465643, 0.73202974])}"
      ]
     },
     "execution_count": 165,
     "metadata": {},
     "output_type": "execute_result"
    }
   ],
   "source": [
    "from sklearn.metrics import confusion_matrix, precision_score, recall_score, f1_score, matthews_corrcoef\n",
    "\n",
    "\n",
    "pdf=get_predictions(loaded_model, X_train1, y_train1)\n",
    "#pdf.info()\n",
    "#evaluate_model(pdf)\n",
    "precision = precision_score(pdf.actual_class, pdf.predicted_class,average='weighted')\n",
    "recall = recall_score(pdf.actual_class, pdf.predicted_class,average='weighted')\n",
    "accuracy=accuracy_score(pdf.actual_class, pdf.predicted_class)\n",
    "r2 = r2_score(pdf.actual_reg, pdf.predicted_reg)\n",
    "rmse=mean_squared_error(pdf.actual_reg, pdf.predicted_reg)**0.5\n",
    "f1 = f1_score(pdf.actual_class, pdf.predicted_class, average='weighted')\n",
    "mcc = matthews_corrcoef(pdf.actual_class, pdf.predicted_class)\n",
    "\n",
    "metrics={'precision':precision,'recall':recall,'accuracy':accuracy,'r2':r2,'rmse':rmse, 'f1:': f1, 'mcc:' : mcc}\n",
    "fig,axs=plt.subplots(nrows=1,ncols=1,figsize=(10,10))\n",
    "cm = confusion_matrix(pdf['actual_class'], pdf['predicted_class'], normalize='true')\n",
    "#cm2 = confusion_matrix(pdf['actual_class'], pdf['predicted_class'])\n",
    "#specificity = cm[0, 0] / (cm[0, 0] + cm[0, 1])\n",
    "tn = cm.diagonal(0)  # True negatives\n",
    "fp = cm.sum(axis=0) - tn  # False positives\n",
    "#tn, fp, fn, tp = cm2.ravel()\n",
    "specificity = tn / (tn + fp)\n",
    "#f1_score = 2 * tp / (2 * tp + cm[0, 1] + fn)\n",
    "metrics={'precision':precision,'recall':recall,'accuracy':accuracy,'r2':r2,'rmse':rmse, 'f1:': f1, 'mcc:' : mcc,'specificity' :specificity }\n",
    "disp = ConfusionMatrixDisplay(confusion_matrix=cm, display_labels=le.inverse_transform(list(range(3))))\n",
    "disp.plot(cmap=plt.cm.Blues,ax=axs)\n",
    "plt.show()\n",
    "metrics\n"
   ]
  },
  {
   "cell_type": "code",
   "execution_count": null,
   "metadata": {
    "colab": {
     "base_uri": "https://localhost:8080/",
     "height": 17
    },
    "id": "GogcrVR6XWKB",
    "outputId": "e1aa14db-affa-4ff1-ca06-9facd5a1d455"
   },
   "outputs": [],
   "source": [
    "from google.colab import files\n",
    "pdf.to_csv('plant_performance_predictions.csv') \n",
    "files.download('plant_performance_predictions.csv')"
   ]
  },
  {
   "cell_type": "code",
   "execution_count": null,
   "metadata": {
    "id": "GFGxYCIGXWgO"
   },
   "outputs": [],
   "source": []
  }
 ],
 "metadata": {
  "colab": {
   "collapsed_sections": [],
   "name": "Copy of plant performance prediction.ipynb",
   "provenance": []
  },
  "kernelspec": {
   "display_name": "Python 3 (ipykernel)",
   "language": "python",
   "name": "python3"
  },
  "language_info": {
   "codemirror_mode": {
    "name": "ipython",
    "version": 3
   },
   "file_extension": ".py",
   "mimetype": "text/x-python",
   "name": "python",
   "nbconvert_exporter": "python",
   "pygments_lexer": "ipython3",
   "version": "3.9.7"
  }
 },
 "nbformat": 4,
 "nbformat_minor": 1
}
